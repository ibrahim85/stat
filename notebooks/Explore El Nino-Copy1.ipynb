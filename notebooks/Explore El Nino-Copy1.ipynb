{
 "cells": [
  {
   "cell_type": "code",
   "execution_count": 200,
   "metadata": {
    "collapsed": true
   },
   "outputs": [],
   "source": [
    "import pandas as pd"
   ]
  },
  {
   "cell_type": "code",
   "execution_count": 632,
   "metadata": {
    "collapsed": true
   },
   "outputs": [],
   "source": [
    "from preprocessing import preprocess"
   ]
  },
  {
   "cell_type": "code",
   "execution_count": null,
   "metadata": {
    "collapsed": true
   },
   "outputs": [],
   "source": [
    "dfs = []\n",
    "dfs.append(preprocess('../data/raw/CA/CA_1981-1985.txt'))\n",
    "dfs.append(preprocess('../data/raw/CA/CA_1985-1989.txt'))\n",
    "dfs.append(preprocess('../data/raw/CA/CA_1989-1993.txt'))\n",
    "dfs.append(preprocess('../data/raw/CA/CA_1993-1997.txt'))\n",
    "dfs.append(preprocess('../data/raw/CA/CA_1997-2001.txt'))\n",
    "dfs.append(preprocess('../data/raw/CA/CA_2001-2005.txt'))\n",
    "dfs.append(preprocess('../data/raw/CA/CA_2005-2009.txt'))\n",
    "dfs.append(preprocess('../data/raw/CA/CA_2009-2015.txt'))"
   ]
  },
  {
   "cell_type": "code",
   "execution_count": null,
   "metadata": {
    "collapsed": true
   },
   "outputs": [],
   "source": [
    "df = pd.concat(dfs)"
   ]
  },
  {
   "cell_type": "code",
   "execution_count": null,
   "metadata": {
    "collapsed": true
   },
   "outputs": [],
   "source": [
    "df = df.dropna(axis=0)"
   ]
  },
  {
   "cell_type": "code",
   "execution_count": 244,
   "metadata": {
    "collapsed": false
   },
   "outputs": [],
   "source": [
    "df_subsetted = pd.read_csv('../data/preprocessed/CA/CA_1981-2015_subsetted2.csv', parse_dates=['YEARMODA'])"
   ]
  },
  {
   "cell_type": "code",
   "execution_count": 245,
   "metadata": {
    "collapsed": false
   },
   "outputs": [
    {
     "data": {
      "text/html": [
       "<div>\n",
       "<table border=\"1\" class=\"dataframe\">\n",
       "  <thead>\n",
       "    <tr style=\"text-align: right;\">\n",
       "      <th></th>\n",
       "      <th>Unnamed: 0</th>\n",
       "      <th>STN</th>\n",
       "      <th>YEARMODA</th>\n",
       "      <th>TEMP</th>\n",
       "      <th>PRCP</th>\n",
       "      <th>GUST</th>\n",
       "      <th>WDSP</th>\n",
       "      <th>MXSPD</th>\n",
       "    </tr>\n",
       "  </thead>\n",
       "  <tbody>\n",
       "    <tr>\n",
       "      <th>0</th>\n",
       "      <td>0</td>\n",
       "      <td>691414</td>\n",
       "      <td>1985-04-24</td>\n",
       "      <td>54.1</td>\n",
       "      <td>0</td>\n",
       "      <td>15.0</td>\n",
       "      <td>5.6</td>\n",
       "      <td>9.9</td>\n",
       "    </tr>\n",
       "    <tr>\n",
       "      <th>1</th>\n",
       "      <td>1</td>\n",
       "      <td>691414</td>\n",
       "      <td>1985-04-25</td>\n",
       "      <td>42.9</td>\n",
       "      <td>NaN</td>\n",
       "      <td>25.1</td>\n",
       "      <td>12.6</td>\n",
       "      <td>19.0</td>\n",
       "    </tr>\n",
       "    <tr>\n",
       "      <th>2</th>\n",
       "      <td>2</td>\n",
       "      <td>691414</td>\n",
       "      <td>1985-04-26</td>\n",
       "      <td>43.0</td>\n",
       "      <td>NaN</td>\n",
       "      <td>20.0</td>\n",
       "      <td>8.8</td>\n",
       "      <td>15.9</td>\n",
       "    </tr>\n",
       "    <tr>\n",
       "      <th>3</th>\n",
       "      <td>3</td>\n",
       "      <td>691414</td>\n",
       "      <td>1985-04-27</td>\n",
       "      <td>42.4</td>\n",
       "      <td>NaN</td>\n",
       "      <td>53.0</td>\n",
       "      <td>16.3</td>\n",
       "      <td>29.9</td>\n",
       "    </tr>\n",
       "    <tr>\n",
       "      <th>4</th>\n",
       "      <td>4</td>\n",
       "      <td>691414</td>\n",
       "      <td>1985-04-28</td>\n",
       "      <td>40.5</td>\n",
       "      <td>NaN</td>\n",
       "      <td>40.0</td>\n",
       "      <td>14.0</td>\n",
       "      <td>27.0</td>\n",
       "    </tr>\n",
       "  </tbody>\n",
       "</table>\n",
       "</div>"
      ],
      "text/plain": [
       "   Unnamed: 0     STN   YEARMODA  TEMP  PRCP  GUST  WDSP  MXSPD\n",
       "0           0  691414 1985-04-24  54.1     0  15.0   5.6    9.9\n",
       "1           1  691414 1985-04-25  42.9   NaN  25.1  12.6   19.0\n",
       "2           2  691414 1985-04-26  43.0   NaN  20.0   8.8   15.9\n",
       "3           3  691414 1985-04-27  42.4   NaN  53.0  16.3   29.9\n",
       "4           4  691414 1985-04-28  40.5   NaN  40.0  14.0   27.0"
      ]
     },
     "execution_count": 245,
     "metadata": {},
     "output_type": "execute_result"
    }
   ],
   "source": [
    "df_subsetted.head()"
   ]
  },
  {
   "cell_type": "code",
   "execution_count": 246,
   "metadata": {
    "collapsed": false
   },
   "outputs": [
    {
     "data": {
      "text/plain": [
       "Unnamed: 0    1370304\n",
       "STN           1370304\n",
       "YEARMODA      1370304\n",
       "TEMP          1370304\n",
       "PRCP          1341677\n",
       "GUST           386697\n",
       "WDSP          1342008\n",
       "MXSPD         1338075\n",
       "dtype: int64"
      ]
     },
     "execution_count": 246,
     "metadata": {},
     "output_type": "execute_result"
    }
   ],
   "source": [
    "df_subsetted.count()"
   ]
  },
  {
   "cell_type": "markdown",
   "metadata": {},
   "source": [
    "# LA AIRPORT STATION"
   ]
  },
  {
   "cell_type": "code",
   "execution_count": 247,
   "metadata": {
    "collapsed": false
   },
   "outputs": [],
   "source": [
    "la = df_subsetted[df_subsetted['STN'] == 722950]"
   ]
  },
  {
   "cell_type": "markdown",
   "metadata": {},
   "source": [
    "Only less than 20% of data from la airport station has GUST value. Let's not use GUST"
   ]
  },
  {
   "cell_type": "code",
   "execution_count": 248,
   "metadata": {
    "collapsed": false
   },
   "outputs": [
    {
     "data": {
      "text/plain": [
       "Unnamed: 0    12426\n",
       "STN           12426\n",
       "YEARMODA      12426\n",
       "TEMP          12426\n",
       "PRCP          12419\n",
       "GUST           2453\n",
       "WDSP          12426\n",
       "MXSPD         12424\n",
       "dtype: int64"
      ]
     },
     "execution_count": 248,
     "metadata": {},
     "output_type": "execute_result"
    }
   ],
   "source": [
    "la.count()"
   ]
  },
  {
   "cell_type": "markdown",
   "metadata": {},
   "source": [
    "### Precipitation Comparison between el nino year vs. normal year"
   ]
  },
  {
   "cell_type": "markdown",
   "metadata": {},
   "source": [
    "The most significant indicator of El nino in CA is precipitation."
   ]
  },
  {
   "cell_type": "markdown",
   "metadata": {},
   "source": [
    "<img src=\"http://www.trbimg.com/img-55d635df/turbine/la-me-g-0820-el-nino-rainfall-comparison-20150820/750/750x422\" />"
   ]
  },
  {
   "cell_type": "markdown",
   "metadata": {},
   "source": [
    "Source: http://www.latimes.com/local/lanow/la-me-ln-el-nino-temperatures-new-record-20151117-story.html"
   ]
  },
  {
   "cell_type": "code",
   "execution_count": 249,
   "metadata": {
    "collapsed": true
   },
   "outputs": [],
   "source": [
    "from plotly import plotly as ply\n",
    "from plotly import graph_objs as go"
   ]
  },
  {
   "cell_type": "code",
   "execution_count": 250,
   "metadata": {
    "collapsed": true
   },
   "outputs": [],
   "source": [
    "tt = la.set_index('YEARMODA')[['PRCP']]['1997-7-1':'1998-6-30']\n",
    "tt2 = la.set_index('YEARMODA')[['PRCP']]['2014-7-1':'2015-6-30']\n",
    "rr = tt.resample('M') \n",
    "rr2 = tt2.resample('M')"
   ]
  },
  {
   "cell_type": "code",
   "execution_count": 251,
   "metadata": {
    "collapsed": false,
    "scrolled": false
   },
   "outputs": [
    {
     "data": {
      "text/html": [
       "<iframe id=\"igraph\" scrolling=\"no\" style=\"border:none;\"seamless=\"seamless\" src=\"https://plot.ly/~LIBELO6/565.embed\" height=\"525\" width=\"100%\"></iframe>"
      ],
      "text/plain": [
       "<plotly.tools.PlotlyDisplay object>"
      ]
     },
     "execution_count": 251,
     "metadata": {},
     "output_type": "execute_result"
    }
   ],
   "source": [
    "traces = []\n",
    "traces.append(go.Scatter(\n",
    "    x=tt.index.map(lambda x:x.strftime('%b %d')),\n",
    "    y=tt['PRCP'],\n",
    "    name='1997-1998'))\n",
    "traces.append(go.Scatter(\n",
    "    x=tt2.index.map(lambda x:x.strftime('%b %d')),\n",
    "    y=tt2['PRCP'],\n",
    "    name='2014-2015'))\n",
    "traces.append(go.Scatter(\n",
    "    x=rr.index.map(lambda x:x.strftime('%b %d')),\n",
    "    y=rr['PRCP'],\n",
    "    name='1997-1998 monthly'))\n",
    "traces.append(go.Scatter(\n",
    "    x=rr2.index.map(lambda x:x.strftime('%b %d')),\n",
    "    y=rr2['PRCP'],\n",
    "    name='2014-2015 monthly'))\n",
    "ply.iplot(traces, filename='WeatherData/test1')"
   ]
  },
  {
   "cell_type": "markdown",
   "metadata": {},
   "source": [
    "There's a huge difference in precipitation between 1997-1998 and 2014-2015, but only obvious in Feb."
   ]
  },
  {
   "cell_type": "markdown",
   "metadata": {},
   "source": [
    "<img src=\"http://data-week.popsci.com/gifs/Precipitation-Comparison-Two-ElNino-Years.gif\" />"
   ]
  },
  {
   "cell_type": "markdown",
   "metadata": {},
   "source": [
    "## Temperature comparison"
   ]
  },
  {
   "cell_type": "code",
   "execution_count": 252,
   "metadata": {
    "collapsed": false
   },
   "outputs": [
    {
     "data": {
      "text/html": [
       "<iframe id=\"igraph\" scrolling=\"no\" style=\"border:none;\"seamless=\"seamless\" src=\"https://plot.ly/~LIBELO6/567.embed\" height=\"525\" width=\"100%\"></iframe>"
      ],
      "text/plain": [
       "<plotly.tools.PlotlyDisplay object>"
      ]
     },
     "execution_count": 252,
     "metadata": {},
     "output_type": "execute_result"
    }
   ],
   "source": [
    "tt = la.set_index('YEARMODA')['1997-7-1':'1998-6-30']\n",
    "tt2 = la.set_index('YEARMODA')['2014-7-1':'2015-6-30']\n",
    "rr = tt.resample('M') \n",
    "rr2 = tt2.resample('M')\n",
    "traces = []\n",
    "traces.append(go.Scatter(\n",
    "    x=tt.index.map(lambda x:x.strftime('%b %d')),\n",
    "    y=tt['TEMP'],\n",
    "    name='1997-1998'))\n",
    "traces.append(go.Scatter(\n",
    "    x=tt2.index.map(lambda x:x.strftime('%b %d')),\n",
    "    y=tt2['TEMP'],\n",
    "    name='2014-2015'))\n",
    "traces.append(go.Scatter(\n",
    "    x=rr.index.map(lambda x:x.strftime('%b %d')),\n",
    "    y=rr['TEMP'],\n",
    "    name='1997-1998 monthly'))\n",
    "traces.append(go.Scatter(\n",
    "    x=rr2.index.map(lambda x:x.strftime('%b %d')),\n",
    "    y=rr2['TEMP'],\n",
    "    name='2014-2015 monthly'))\n",
    "\n",
    "ply.iplot(traces, filename='WeatherData/test2')"
   ]
  },
  {
   "cell_type": "markdown",
   "metadata": {},
   "source": [
    "Not very significant."
   ]
  },
  {
   "cell_type": "code",
   "execution_count": 183,
   "metadata": {
    "collapsed": false
   },
   "outputs": [
    {
     "data": {
      "text/html": [
       "<iframe id=\"igraph\" scrolling=\"no\" style=\"border:none;\"seamless=\"seamless\" src=\"https://plot.ly/~LIBELO6/569.embed\" height=\"525\" width=\"100%\"></iframe>"
      ],
      "text/plain": [
       "<plotly.tools.PlotlyDisplay object>"
      ]
     },
     "execution_count": 183,
     "metadata": {},
     "output_type": "execute_result"
    }
   ],
   "source": [
    "tt = la.set_index('YEARMODA')['1997-7-1':'1998-6-30']\n",
    "tt2 = la.set_index('YEARMODA')['1996-7-1':'1997-6-30']\n",
    "rr = tt.resample('M') \n",
    "rr2 = tt2.resample('M')\n",
    "traces = []\n",
    "traces.append(go.Scatter(\n",
    "    x=tt.index.map(lambda x:x.strftime('%b %d')),\n",
    "    y=tt['TEMP'],\n",
    "    name='1997-1998'))\n",
    "traces.append(go.Scatter(\n",
    "    x=tt2.index.map(lambda x:x.strftime('%b %d')),\n",
    "    y=tt2['TEMP'],\n",
    "    name='1996-1997'))\n",
    "traces.append(go.Scatter(\n",
    "    x=rr.index.map(lambda x:x.strftime('%b %d')),\n",
    "    y=rr['TEMP'],\n",
    "    name='1997-1998 monthly'))\n",
    "traces.append(go.Scatter(\n",
    "    x=rr2.index.map(lambda x:x.strftime('%b %d')),\n",
    "    y=rr2['TEMP'],\n",
    "    name='1996-1997 monthly'))\n",
    "\n",
    "ply.iplot(traces, filename='WeatherData/test3')"
   ]
  },
  {
   "cell_type": "markdown",
   "metadata": {},
   "source": [
    "But there's some difference between 1997-1998 and 1996-1997. Both 2014-2015 and 1996-1997 are normal years."
   ]
  },
  {
   "cell_type": "markdown",
   "metadata": {},
   "source": [
    "<img src=\"http://data-week.popsci.com/gifs/Temperature-Comparison-Two-ElNino-Years.gif\" />"
   ]
  },
  {
   "cell_type": "markdown",
   "metadata": {},
   "source": [
    "Even in 1997-1998, temperature in CA was only typical. CA is predicted to be warmer in this winter but not very high probability."
   ]
  },
  {
   "cell_type": "markdown",
   "metadata": {},
   "source": [
    "## Does this also hold for 1982-1983?"
   ]
  },
  {
   "cell_type": "code",
   "execution_count": 253,
   "metadata": {
    "collapsed": false,
    "scrolled": false
   },
   "outputs": [
    {
     "data": {
      "text/html": [
       "<iframe id=\"igraph\" scrolling=\"no\" style=\"border:none;\"seamless=\"seamless\" src=\"https://plot.ly/~LIBELO6/571.embed\" height=\"525\" width=\"100%\"></iframe>"
      ],
      "text/plain": [
       "<plotly.tools.PlotlyDisplay object>"
      ]
     },
     "execution_count": 253,
     "metadata": {},
     "output_type": "execute_result"
    }
   ],
   "source": [
    "tt = la.set_index('YEARMODA')['1982-7-1':'1983-6-30']\n",
    "tt2 = la.set_index('YEARMODA')['2014-7-1':'2015-6-30']\n",
    "rr = tt.resample('M') \n",
    "rr2 = tt2.resample('M')\n",
    "traces = []\n",
    "traces.append(go.Scatter(\n",
    "    x=tt.index.map(lambda x:x.strftime('%b %d')),\n",
    "    y=tt['PRCP'],\n",
    "    name='1982-1983'))\n",
    "traces.append(go.Scatter(\n",
    "    x=tt2.index.map(lambda x:x.strftime('%b %d')),\n",
    "    y=tt2['PRCP'],\n",
    "    name='2014-2015'))\n",
    "traces.append(go.Scatter(\n",
    "    x=rr.index.map(lambda x:x.strftime('%b %d')),\n",
    "    y=rr['PRCP'],\n",
    "    name='1982-1983 monthly'))\n",
    "traces.append(go.Scatter(\n",
    "    x=rr2.index.map(lambda x:x.strftime('%b %d')),\n",
    "    y=rr2['PRCP'],\n",
    "    name='2014-2015 monthly'))\n",
    "\n",
    "ply.iplot(traces, filename='WeatherData/test4')"
   ]
  },
  {
   "cell_type": "markdown",
   "metadata": {},
   "source": [
    "Even less significant."
   ]
  },
  {
   "cell_type": "code",
   "execution_count": 254,
   "metadata": {
    "collapsed": false
   },
   "outputs": [
    {
     "data": {
      "text/html": [
       "<iframe id=\"igraph\" scrolling=\"no\" style=\"border:none;\"seamless=\"seamless\" src=\"https://plot.ly/~LIBELO6/579.embed\" height=\"525\" width=\"100%\"></iframe>"
      ],
      "text/plain": [
       "<plotly.tools.PlotlyDisplay object>"
      ]
     },
     "execution_count": 254,
     "metadata": {},
     "output_type": "execute_result"
    }
   ],
   "source": [
    "tt = la.set_index('YEARMODA')['1982-7-1':'1983-6-30']\n",
    "tt2 = la.set_index('YEARMODA')['2014-7-1':'2015-6-30']\n",
    "rr = tt.resample('M') \n",
    "rr2 = tt2.resample('M')\n",
    "traces = []\n",
    "traces.append(go.Scatter(\n",
    "    x=tt.index.map(lambda x:x.strftime('%b %d')),\n",
    "    y=tt['TEMP'],\n",
    "    name='1982-1983'))\n",
    "traces.append(go.Scatter(\n",
    "    x=tt2.index.map(lambda x:x.strftime('%b %d')),\n",
    "    y=tt2['TEMP'],\n",
    "    name='2014-2015'))\n",
    "traces.append(go.Scatter(\n",
    "    x=rr.index.map(lambda x:x.strftime('%b %d')),\n",
    "    y=rr['TEMP'],\n",
    "    name='1982-1983 monthly'))\n",
    "traces.append(go.Scatter(\n",
    "    x=rr2.index.map(lambda x:x.strftime('%b %d')),\n",
    "    y=rr2['TEMP'],\n",
    "    name='2014-2015 monthly'))\n",
    "\n",
    "ply.iplot(traces, filename='WeatherData/test5')"
   ]
  },
  {
   "cell_type": "code",
   "execution_count": 296,
   "metadata": {
    "collapsed": false
   },
   "outputs": [
    {
     "data": {
      "text/html": [
       "<iframe id=\"igraph\" scrolling=\"no\" style=\"border:none;\"seamless=\"seamless\" src=\"https://plot.ly/~LIBELO6/594.embed\" height=\"525\" width=\"100%\"></iframe>"
      ],
      "text/plain": [
       "<plotly.tools.PlotlyDisplay object>"
      ]
     },
     "execution_count": 296,
     "metadata": {},
     "output_type": "execute_result"
    }
   ],
   "source": [
    "tt = la.set_index('YEARMODA')['1982-7-1':'1983-6-30']\n",
    "tt2 = la.set_index('YEARMODA')['2014-7-1':'2015-6-30']\n",
    "rr = tt.resample('M') \n",
    "rr2 = tt2.resample('M')\n",
    "traces = []\n",
    "traces.append(go.Scatter(\n",
    "    x=tt.index.map(lambda x:x.strftime('%b %d')),\n",
    "    y=tt['WDSP'],\n",
    "    name='1982-1983'))\n",
    "traces.append(go.Scatter(\n",
    "    x=tt2.index.map(lambda x:x.strftime('%b %d')),\n",
    "    y=tt2['WDSP'],\n",
    "    name='2014-2015'))\n",
    "traces.append(go.Scatter(\n",
    "    x=rr.index.map(lambda x:x.strftime('%b %d')),\n",
    "    y=rr['WDSP'],\n",
    "    name='1982-1983 monthly'))\n",
    "traces.append(go.Scatter(\n",
    "    x=rr2.index.map(lambda x:x.strftime('%b %d')),\n",
    "    y=rr2['WDSP'],\n",
    "    name='2014-2015 monthly'))\n",
    "\n",
    "ply.iplot(traces, filename='WeatherData/test_wdsp')"
   ]
  },
  {
   "cell_type": "markdown",
   "metadata": {},
   "source": [
    "# Correlations"
   ]
  },
  {
   "cell_type": "code",
   "execution_count": 301,
   "metadata": {
    "collapsed": false
   },
   "outputs": [],
   "source": [
    "indexed = la.set_index('YEARMODA')[['TEMP', 'PRCP', 'WDSP', 'MXSPD']][:'2014']"
   ]
  },
  {
   "cell_type": "code",
   "execution_count": 280,
   "metadata": {
    "collapsed": false
   },
   "outputs": [],
   "source": [
    "shifted = indexed[indexed.index.map(lambda x:True if x.month in [11,12,1,2] else False)].resample('M').dropna().shift(-6, 'M')\n",
    "years = shifted.groupby(shifted.index.year).apply(lambda x:x.mean())"
   ]
  },
  {
   "cell_type": "code",
   "execution_count": 299,
   "metadata": {
    "collapsed": false,
    "scrolled": false
   },
   "outputs": [
    {
     "data": {
      "text/html": [
       "<iframe id=\"igraph\" scrolling=\"no\" style=\"border:none;\"seamless=\"seamless\" src=\"https://plot.ly/~LIBELO6/596.embed\" height=\"525\" width=\"100%\"></iframe>"
      ],
      "text/plain": [
       "<plotly.tools.PlotlyDisplay object>"
      ]
     },
     "execution_count": 299,
     "metadata": {},
     "output_type": "execute_result"
    }
   ],
   "source": [
    "trace0 = go.Scatter(x=years.index,\n",
    "                    y=years['PRCP'])\n",
    "ply.iplot([trace0], filename='WeatherData/testaa')"
   ]
  },
  {
   "cell_type": "markdown",
   "metadata": {},
   "source": [
    "## El nino index"
   ]
  },
  {
   "cell_type": "code",
   "execution_count": 212,
   "metadata": {
    "collapsed": false,
    "scrolled": true
   },
   "outputs": [
    {
     "name": "stderr",
     "output_type": "stream",
     "text": [
      "/Library/Frameworks/Python.framework/Versions/3.4/lib/python3.4/site-packages/pandas/io/parsers.py:648: ParserWarning:\n",
      "\n",
      "Falling back to the 'python' engine because the 'c' engine does not support regex separators; you can avoid this warning by specifying engine='python'.\n",
      "\n"
     ]
    }
   ],
   "source": [
    "oci = pd.read_csv('../data/raw/ONI.txt', sep=r'\\t')"
   ]
  },
  {
   "cell_type": "code",
   "execution_count": 213,
   "metadata": {
    "collapsed": false
   },
   "outputs": [],
   "source": [
    "oci['index'] = oci['Type'].map({'VSL':-2, 'SL':-1.5, 'ML':-1, 'WL':-0.5, 'N':0, 'WE':0.5, 'ME':1, 'SE':1.5, 'VSE':2})"
   ]
  },
  {
   "cell_type": "code",
   "execution_count": 281,
   "metadata": {
    "collapsed": false
   },
   "outputs": [],
   "source": [
    "haha = pd.concat([years, oci.set_index('From')[['index']]], join='inner', axis=1)"
   ]
  },
  {
   "cell_type": "code",
   "execution_count": 266,
   "metadata": {
    "collapsed": false,
    "scrolled": true
   },
   "outputs": [
    {
     "data": {
      "text/html": [
       "<div>\n",
       "<table border=\"1\" class=\"dataframe\">\n",
       "  <thead>\n",
       "    <tr style=\"text-align: right;\">\n",
       "      <th></th>\n",
       "      <th>TEMP</th>\n",
       "      <th>PRCP</th>\n",
       "      <th>WDSP</th>\n",
       "      <th>MXSPD</th>\n",
       "      <th>index</th>\n",
       "    </tr>\n",
       "  </thead>\n",
       "  <tbody>\n",
       "    <tr>\n",
       "      <th>1981</th>\n",
       "      <td>57.935198</td>\n",
       "      <td>0.149135</td>\n",
       "      <td>6.214785</td>\n",
       "      <td>12.867443</td>\n",
       "      <td>0.0</td>\n",
       "    </tr>\n",
       "    <tr>\n",
       "      <th>1982</th>\n",
       "      <td>57.956720</td>\n",
       "      <td>0.154857</td>\n",
       "      <td>6.829877</td>\n",
       "      <td>13.630960</td>\n",
       "      <td>2.0</td>\n",
       "    </tr>\n",
       "    <tr>\n",
       "      <th>1983</th>\n",
       "      <td>58.422312</td>\n",
       "      <td>0.047739</td>\n",
       "      <td>6.306589</td>\n",
       "      <td>13.517670</td>\n",
       "      <td>-0.5</td>\n",
       "    </tr>\n",
       "    <tr>\n",
       "      <th>1984</th>\n",
       "      <td>56.161617</td>\n",
       "      <td>0.083768</td>\n",
       "      <td>6.227346</td>\n",
       "      <td>12.374530</td>\n",
       "      <td>-0.5</td>\n",
       "    </tr>\n",
       "    <tr>\n",
       "      <th>1985</th>\n",
       "      <td>58.826843</td>\n",
       "      <td>0.111417</td>\n",
       "      <td>6.303456</td>\n",
       "      <td>12.749453</td>\n",
       "      <td>0.0</td>\n",
       "    </tr>\n",
       "    <tr>\n",
       "      <th>1986</th>\n",
       "      <td>58.653961</td>\n",
       "      <td>0.032070</td>\n",
       "      <td>6.102775</td>\n",
       "      <td>12.064301</td>\n",
       "      <td>1.0</td>\n",
       "    </tr>\n",
       "    <tr>\n",
       "      <th>1987</th>\n",
       "      <td>57.569042</td>\n",
       "      <td>0.063650</td>\n",
       "      <td>6.540107</td>\n",
       "      <td>12.700383</td>\n",
       "      <td>1.0</td>\n",
       "    </tr>\n",
       "    <tr>\n",
       "      <th>1988</th>\n",
       "      <td>55.961694</td>\n",
       "      <td>0.063833</td>\n",
       "      <td>6.251375</td>\n",
       "      <td>12.123783</td>\n",
       "      <td>-1.5</td>\n",
       "    </tr>\n",
       "    <tr>\n",
       "      <th>1989</th>\n",
       "      <td>58.379608</td>\n",
       "      <td>0.039611</td>\n",
       "      <td>5.921745</td>\n",
       "      <td>11.921313</td>\n",
       "      <td>0.0</td>\n",
       "    </tr>\n",
       "    <tr>\n",
       "      <th>1990</th>\n",
       "      <td>58.715123</td>\n",
       "      <td>0.031383</td>\n",
       "      <td>5.190607</td>\n",
       "      <td>10.285958</td>\n",
       "      <td>0.0</td>\n",
       "    </tr>\n",
       "    <tr>\n",
       "      <th>1991</th>\n",
       "      <td>59.538016</td>\n",
       "      <td>0.082305</td>\n",
       "      <td>6.339271</td>\n",
       "      <td>12.913952</td>\n",
       "      <td>1.0</td>\n",
       "    </tr>\n",
       "    <tr>\n",
       "      <th>1992</th>\n",
       "      <td>57.889253</td>\n",
       "      <td>0.169090</td>\n",
       "      <td>6.764566</td>\n",
       "      <td>12.914391</td>\n",
       "      <td>0.0</td>\n",
       "    </tr>\n",
       "    <tr>\n",
       "      <th>1993</th>\n",
       "      <td>58.744902</td>\n",
       "      <td>0.079150</td>\n",
       "      <td>6.396573</td>\n",
       "      <td>12.277506</td>\n",
       "      <td>0.0</td>\n",
       "    </tr>\n",
       "    <tr>\n",
       "      <th>1994</th>\n",
       "      <td>57.725866</td>\n",
       "      <td>0.125950</td>\n",
       "      <td>6.116559</td>\n",
       "      <td>11.662104</td>\n",
       "      <td>0.5</td>\n",
       "    </tr>\n",
       "    <tr>\n",
       "      <th>1995</th>\n",
       "      <td>58.601352</td>\n",
       "      <td>0.073419</td>\n",
       "      <td>5.948315</td>\n",
       "      <td>11.896617</td>\n",
       "      <td>-0.5</td>\n",
       "    </tr>\n",
       "    <tr>\n",
       "      <th>1996</th>\n",
       "      <td>58.462529</td>\n",
       "      <td>0.092580</td>\n",
       "      <td>6.910566</td>\n",
       "      <td>12.611367</td>\n",
       "      <td>0.0</td>\n",
       "    </tr>\n",
       "    <tr>\n",
       "      <th>1997</th>\n",
       "      <td>57.997782</td>\n",
       "      <td>0.204649</td>\n",
       "      <td>6.407863</td>\n",
       "      <td>14.249510</td>\n",
       "      <td>2.0</td>\n",
       "    </tr>\n",
       "    <tr>\n",
       "      <th>1998</th>\n",
       "      <td>56.908685</td>\n",
       "      <td>0.026687</td>\n",
       "      <td>5.724053</td>\n",
       "      <td>12.213550</td>\n",
       "      <td>-1.0</td>\n",
       "    </tr>\n",
       "    <tr>\n",
       "      <th>1999</th>\n",
       "      <td>58.635515</td>\n",
       "      <td>0.048462</td>\n",
       "      <td>5.909317</td>\n",
       "      <td>12.819143</td>\n",
       "      <td>-1.0</td>\n",
       "    </tr>\n",
       "    <tr>\n",
       "      <th>2000</th>\n",
       "      <td>56.199722</td>\n",
       "      <td>0.109002</td>\n",
       "      <td>5.955422</td>\n",
       "      <td>12.546945</td>\n",
       "      <td>-0.5</td>\n",
       "    </tr>\n",
       "    <tr>\n",
       "      <th>2001</th>\n",
       "      <td>57.289343</td>\n",
       "      <td>0.030158</td>\n",
       "      <td>5.766417</td>\n",
       "      <td>12.642915</td>\n",
       "      <td>0.0</td>\n",
       "    </tr>\n",
       "    <tr>\n",
       "      <th>2002</th>\n",
       "      <td>59.716202</td>\n",
       "      <td>0.056728</td>\n",
       "      <td>5.978184</td>\n",
       "      <td>12.838251</td>\n",
       "      <td>1.0</td>\n",
       "    </tr>\n",
       "    <tr>\n",
       "      <th>2003</th>\n",
       "      <td>56.900608</td>\n",
       "      <td>0.052180</td>\n",
       "      <td>5.838880</td>\n",
       "      <td>12.870190</td>\n",
       "      <td>0.0</td>\n",
       "    </tr>\n",
       "    <tr>\n",
       "      <th>2004</th>\n",
       "      <td>57.828537</td>\n",
       "      <td>0.175355</td>\n",
       "      <td>6.163322</td>\n",
       "      <td>12.481452</td>\n",
       "      <td>0.5</td>\n",
       "    </tr>\n",
       "    <tr>\n",
       "      <th>2005</th>\n",
       "      <td>59.500374</td>\n",
       "      <td>0.040619</td>\n",
       "      <td>5.458468</td>\n",
       "      <td>11.943116</td>\n",
       "      <td>0.0</td>\n",
       "    </tr>\n",
       "    <tr>\n",
       "      <th>2006</th>\n",
       "      <td>57.802030</td>\n",
       "      <td>0.018892</td>\n",
       "      <td>5.231016</td>\n",
       "      <td>12.650783</td>\n",
       "      <td>0.5</td>\n",
       "    </tr>\n",
       "    <tr>\n",
       "      <th>2007</th>\n",
       "      <td>57.215473</td>\n",
       "      <td>0.073879</td>\n",
       "      <td>5.488835</td>\n",
       "      <td>12.984518</td>\n",
       "      <td>-1.0</td>\n",
       "    </tr>\n",
       "    <tr>\n",
       "      <th>2008</th>\n",
       "      <td>58.323283</td>\n",
       "      <td>0.072301</td>\n",
       "      <td>4.809708</td>\n",
       "      <td>12.087969</td>\n",
       "      <td>0.0</td>\n",
       "    </tr>\n",
       "    <tr>\n",
       "      <th>2009</th>\n",
       "      <td>58.071544</td>\n",
       "      <td>0.081460</td>\n",
       "      <td>5.155415</td>\n",
       "      <td>12.407114</td>\n",
       "      <td>1.0</td>\n",
       "    </tr>\n",
       "    <tr>\n",
       "      <th>2010</th>\n",
       "      <td>58.141563</td>\n",
       "      <td>0.098906</td>\n",
       "      <td>5.132078</td>\n",
       "      <td>12.250530</td>\n",
       "      <td>-1.0</td>\n",
       "    </tr>\n",
       "    <tr>\n",
       "      <th>2011</th>\n",
       "      <td>57.542684</td>\n",
       "      <td>0.030118</td>\n",
       "      <td>4.631846</td>\n",
       "      <td>11.933547</td>\n",
       "      <td>-0.5</td>\n",
       "    </tr>\n",
       "    <tr>\n",
       "      <th>2012</th>\n",
       "      <td>57.636444</td>\n",
       "      <td>0.045770</td>\n",
       "      <td>5.328986</td>\n",
       "      <td>12.861448</td>\n",
       "      <td>0.0</td>\n",
       "    </tr>\n",
       "    <tr>\n",
       "      <th>2013</th>\n",
       "      <td>60.339772</td>\n",
       "      <td>0.023607</td>\n",
       "      <td>4.599706</td>\n",
       "      <td>11.438358</td>\n",
       "      <td>0.0</td>\n",
       "    </tr>\n",
       "    <tr>\n",
       "      <th>2014</th>\n",
       "      <td>60.616139</td>\n",
       "      <td>0.058680</td>\n",
       "      <td>4.767625</td>\n",
       "      <td>11.483637</td>\n",
       "      <td>0.0</td>\n",
       "    </tr>\n",
       "    <tr>\n",
       "      <th>2015</th>\n",
       "      <td>69.500000</td>\n",
       "      <td>0.000000</td>\n",
       "      <td>4.000000</td>\n",
       "      <td>11.100000</td>\n",
       "      <td>2.0</td>\n",
       "    </tr>\n",
       "  </tbody>\n",
       "</table>\n",
       "</div>"
      ],
      "text/plain": [
       "           TEMP      PRCP      WDSP      MXSPD  index\n",
       "1981  57.935198  0.149135  6.214785  12.867443    0.0\n",
       "1982  57.956720  0.154857  6.829877  13.630960    2.0\n",
       "1983  58.422312  0.047739  6.306589  13.517670   -0.5\n",
       "1984  56.161617  0.083768  6.227346  12.374530   -0.5\n",
       "1985  58.826843  0.111417  6.303456  12.749453    0.0\n",
       "1986  58.653961  0.032070  6.102775  12.064301    1.0\n",
       "1987  57.569042  0.063650  6.540107  12.700383    1.0\n",
       "1988  55.961694  0.063833  6.251375  12.123783   -1.5\n",
       "1989  58.379608  0.039611  5.921745  11.921313    0.0\n",
       "1990  58.715123  0.031383  5.190607  10.285958    0.0\n",
       "1991  59.538016  0.082305  6.339271  12.913952    1.0\n",
       "1992  57.889253  0.169090  6.764566  12.914391    0.0\n",
       "1993  58.744902  0.079150  6.396573  12.277506    0.0\n",
       "1994  57.725866  0.125950  6.116559  11.662104    0.5\n",
       "1995  58.601352  0.073419  5.948315  11.896617   -0.5\n",
       "1996  58.462529  0.092580  6.910566  12.611367    0.0\n",
       "1997  57.997782  0.204649  6.407863  14.249510    2.0\n",
       "1998  56.908685  0.026687  5.724053  12.213550   -1.0\n",
       "1999  58.635515  0.048462  5.909317  12.819143   -1.0\n",
       "2000  56.199722  0.109002  5.955422  12.546945   -0.5\n",
       "2001  57.289343  0.030158  5.766417  12.642915    0.0\n",
       "2002  59.716202  0.056728  5.978184  12.838251    1.0\n",
       "2003  56.900608  0.052180  5.838880  12.870190    0.0\n",
       "2004  57.828537  0.175355  6.163322  12.481452    0.5\n",
       "2005  59.500374  0.040619  5.458468  11.943116    0.0\n",
       "2006  57.802030  0.018892  5.231016  12.650783    0.5\n",
       "2007  57.215473  0.073879  5.488835  12.984518   -1.0\n",
       "2008  58.323283  0.072301  4.809708  12.087969    0.0\n",
       "2009  58.071544  0.081460  5.155415  12.407114    1.0\n",
       "2010  58.141563  0.098906  5.132078  12.250530   -1.0\n",
       "2011  57.542684  0.030118  4.631846  11.933547   -0.5\n",
       "2012  57.636444  0.045770  5.328986  12.861448    0.0\n",
       "2013  60.339772  0.023607  4.599706  11.438358    0.0\n",
       "2014  60.616139  0.058680  4.767625  11.483637    0.0\n",
       "2015  69.500000  0.000000  4.000000  11.100000    2.0"
      ]
     },
     "execution_count": 266,
     "metadata": {},
     "output_type": "execute_result"
    }
   ],
   "source": [
    "haha"
   ]
  },
  {
   "cell_type": "markdown",
   "metadata": {},
   "source": [
    "## Precipitation and El nino (Higher index means stronger el nino)"
   ]
  },
  {
   "cell_type": "code",
   "execution_count": 273,
   "metadata": {
    "collapsed": false
   },
   "outputs": [
    {
     "data": {
      "text/html": [
       "<iframe id=\"igraph\" scrolling=\"no\" style=\"border:none;\"seamless=\"seamless\" src=\"https://plot.ly/~LIBELO6/561.embed\" height=\"525\" width=\"100%\"></iframe>"
      ],
      "text/plain": [
       "<plotly.tools.PlotlyDisplay object>"
      ]
     },
     "execution_count": 273,
     "metadata": {},
     "output_type": "execute_result"
    }
   ],
   "source": [
    "traces = []\n",
    "traces.append(go.Scatter(x=haha['index'], y=haha['PRCP'], text=haha.index, mode='markers', \n",
    "                         marker = dict(color=haha['index'], colorscale='Viridis')))\n",
    "ply.iplot(traces, filename='WeatherData/precipitation')"
   ]
  },
  {
   "cell_type": "markdown",
   "metadata": {},
   "source": [
    "Positive Correlation between precipitation and el nino. (at least in LA)"
   ]
  },
  {
   "cell_type": "markdown",
   "metadata": {},
   "source": [
    "## Temperature and El nino"
   ]
  },
  {
   "cell_type": "code",
   "execution_count": 276,
   "metadata": {
    "collapsed": false
   },
   "outputs": [
    {
     "data": {
      "text/html": [
       "<iframe id=\"igraph\" scrolling=\"no\" style=\"border:none;\"seamless=\"seamless\" src=\"https://plot.ly/~LIBELO6/582.embed\" height=\"525\" width=\"100%\"></iframe>"
      ],
      "text/plain": [
       "<plotly.tools.PlotlyDisplay object>"
      ]
     },
     "execution_count": 276,
     "metadata": {},
     "output_type": "execute_result"
    }
   ],
   "source": [
    "a = la.set_index('YEARMODA')[['TEMP']][:'2014']\n",
    "b = a[a.index.map(lambda x:True if x.month in [11,12,1,2] else False)].resample('M').dropna().shift(-6, 'M')\n",
    "c = b.groupby(b.index.year).apply(lambda x:x.mean())\n",
    "d = pd.concat([c, oci.set_index('From')[['index']]], join='inner', axis=1)\n",
    "traces = []\n",
    "traces.append(go.Scatter(x=d['index'], y=d['TEMP'], text=d.index, mode='markers'))\n",
    "ply.iplot(traces, filename='WeatherData/test6')"
   ]
  },
  {
   "cell_type": "markdown",
   "metadata": {},
   "source": [
    "Less significant correlation"
   ]
  },
  {
   "cell_type": "code",
   "execution_count": 289,
   "metadata": {
    "collapsed": false,
    "scrolled": false
   },
   "outputs": [
    {
     "data": {
      "text/html": [
       "<iframe id=\"igraph\" scrolling=\"no\" style=\"border:none;\"seamless=\"seamless\" src=\"https://plot.ly/~LIBELO6/584.embed\" height=\"525\" width=\"100%\"></iframe>"
      ],
      "text/plain": [
       "<plotly.tools.PlotlyDisplay object>"
      ]
     },
     "execution_count": 289,
     "metadata": {},
     "output_type": "execute_result"
    }
   ],
   "source": [
    "traces = []\n",
    "traces.append(go.Scatter(x=haha['PRCP'], y=haha['TEMP'], text=haha.index, mode='markers', \n",
    "                         marker = dict(color=haha['index'])))\n",
    "ply.iplot(traces, filename='WeatherData/test7')"
   ]
  },
  {
   "cell_type": "markdown",
   "metadata": {},
   "source": [
    "TEMP is not correlated with el nino"
   ]
  },
  {
   "cell_type": "code",
   "execution_count": 290,
   "metadata": {
    "collapsed": false
   },
   "outputs": [
    {
     "data": {
      "text/html": [
       "<iframe id=\"igraph\" scrolling=\"no\" style=\"border:none;\"seamless=\"seamless\" src=\"https://plot.ly/~LIBELO6/588.embed\" height=\"525\" width=\"100%\"></iframe>"
      ],
      "text/plain": [
       "<plotly.tools.PlotlyDisplay object>"
      ]
     },
     "execution_count": 290,
     "metadata": {},
     "output_type": "execute_result"
    }
   ],
   "source": [
    "traces = []\n",
    "traces.append(go.Scatter(x=haha['PRCP'], y=haha['WDSP'], text=haha.index, mode='markers', \n",
    "                         marker = dict(color=haha['index'])))\n",
    "ply.iplot(traces, filename='WeatherData/test8')"
   ]
  },
  {
   "cell_type": "code",
   "execution_count": 291,
   "metadata": {
    "collapsed": false
   },
   "outputs": [
    {
     "data": {
      "text/html": [
       "<iframe id=\"igraph\" scrolling=\"no\" style=\"border:none;\"seamless=\"seamless\" src=\"https://plot.ly/~LIBELO6/588.embed\" height=\"525\" width=\"100%\"></iframe>"
      ],
      "text/plain": [
       "<plotly.tools.PlotlyDisplay object>"
      ]
     },
     "execution_count": 291,
     "metadata": {},
     "output_type": "execute_result"
    }
   ],
   "source": [
    "traces = []\n",
    "traces.append(go.Scatter(x=haha['PRCP'], y=haha['MXSPD'], text=haha.index, mode='markers', \n",
    "                         marker = dict(color=haha['index'])))\n",
    "ply.iplot(traces, filename='WeatherData/test8')"
   ]
  },
  {
   "cell_type": "code",
   "execution_count": 292,
   "metadata": {
    "collapsed": false
   },
   "outputs": [
    {
     "data": {
      "text/html": [
       "<iframe id=\"igraph\" scrolling=\"no\" style=\"border:none;\"seamless=\"seamless\" src=\"https://plot.ly/~LIBELO6/588.embed\" height=\"525\" width=\"100%\"></iframe>"
      ],
      "text/plain": [
       "<plotly.tools.PlotlyDisplay object>"
      ]
     },
     "execution_count": 292,
     "metadata": {},
     "output_type": "execute_result"
    }
   ],
   "source": [
    "traces = []\n",
    "traces.append(go.Scatter(x=haha['WDSP'], y=haha['MXSPD'], text=haha.index, mode='markers', \n",
    "                         marker = dict(color=haha['index'])))\n",
    "ply.iplot(traces, filename='WeatherData/test8')"
   ]
  },
  {
   "cell_type": "markdown",
   "metadata": {},
   "source": [
    "#Select STATION"
   ]
  },
  {
   "cell_type": "markdown",
   "metadata": {},
   "source": [
    "### Less years, more stations"
   ]
  },
  {
   "cell_type": "code",
   "execution_count": 350,
   "metadata": {
    "collapsed": true
   },
   "outputs": [],
   "source": [
    "useful_variables = ['PRCP', 'WDSP', 'MXSPD', 'TEMP']"
   ]
  },
  {
   "cell_type": "code",
   "execution_count": 351,
   "metadata": {
    "collapsed": false
   },
   "outputs": [],
   "source": [
    "all_indexed = df_subsetted.set_index('YEARMODA')[['STN'] + useful_variables][:'2014']\n",
    "all_months = all_indexed[all_indexed.index.map(lambda x:True if x.month in [11,12,1,2] else False)]"
   ]
  },
  {
   "cell_type": "code",
   "execution_count": 352,
   "metadata": {
    "collapsed": false
   },
   "outputs": [],
   "source": [
    "all_shifted = all_months.shift(-6, 'M')"
   ]
  },
  {
   "cell_type": "code",
   "execution_count": 353,
   "metadata": {
    "collapsed": false
   },
   "outputs": [],
   "source": [
    "mean1997 = all_shifted['1997'].groupby('STN').mean()"
   ]
  },
  {
   "cell_type": "code",
   "execution_count": 373,
   "metadata": {
    "collapsed": true
   },
   "outputs": [],
   "source": [
    "mean2014 = all_shifted['2012'].groupby('STN').mean()"
   ]
  },
  {
   "cell_type": "code",
   "execution_count": 374,
   "metadata": {
    "collapsed": false
   },
   "outputs": [
    {
     "data": {
      "text/plain": [
       "(94, 4)"
      ]
     },
     "execution_count": 374,
     "metadata": {},
     "output_type": "execute_result"
    }
   ],
   "source": [
    "mean1997.shape"
   ]
  },
  {
   "cell_type": "code",
   "execution_count": 375,
   "metadata": {
    "collapsed": false
   },
   "outputs": [
    {
     "data": {
      "text/plain": [
       "(162, 4)"
      ]
     },
     "execution_count": 375,
     "metadata": {},
     "output_type": "execute_result"
    }
   ],
   "source": [
    "mean2014.shape"
   ]
  },
  {
   "cell_type": "code",
   "execution_count": 376,
   "metadata": {
    "collapsed": false
   },
   "outputs": [],
   "source": [
    "diff = mean1997 - mean2014\n",
    "diff = diff.dropna()"
   ]
  },
  {
   "cell_type": "code",
   "execution_count": 384,
   "metadata": {
    "collapsed": false
   },
   "outputs": [
    {
     "data": {
      "text/plain": [
       "PRCP     0.035394\n",
       "WDSP     1.282490\n",
       "MXSPD    1.182859\n",
       "TEMP     2.001815\n",
       "dtype: float64"
      ]
     },
     "execution_count": 384,
     "metadata": {},
     "output_type": "execute_result"
    }
   ],
   "source": [
    "diff.mean()"
   ]
  },
  {
   "cell_type": "code",
   "execution_count": 378,
   "metadata": {
    "collapsed": false
   },
   "outputs": [
    {
     "data": {
      "text/plain": [
       "83"
      ]
     },
     "execution_count": 378,
     "metadata": {},
     "output_type": "execute_result"
    }
   ],
   "source": [
    "len(diff.index)"
   ]
  },
  {
   "cell_type": "code",
   "execution_count": 379,
   "metadata": {
    "collapsed": false
   },
   "outputs": [
    {
     "data": {
      "text/plain": [
       "722950"
      ]
     },
     "execution_count": 379,
     "metadata": {},
     "output_type": "execute_result"
    }
   ],
   "source": [
    "722950"
   ]
  },
  {
   "cell_type": "code",
   "execution_count": 380,
   "metadata": {
    "collapsed": false
   },
   "outputs": [
    {
     "data": {
      "text/html": [
       "<iframe id=\"igraph\" scrolling=\"no\" style=\"border:none;\"seamless=\"seamless\" src=\"https://plot.ly/~LIBELO6/600.embed\" height=\"525\" width=\"100%\"></iframe>"
      ],
      "text/plain": [
       "<plotly.tools.PlotlyDisplay object>"
      ]
     },
     "execution_count": 380,
     "metadata": {},
     "output_type": "execute_result"
    }
   ],
   "source": [
    "traces = []\n",
    "traces.append(go.Scatter(y=diff['PRCP'], text=diff.index, mode='markers', ))\n",
    "#                          marker = dict(color=haha['index'])))\n",
    "ply.iplot(traces, filename='WeatherData/diff1')"
   ]
  },
  {
   "cell_type": "code",
   "execution_count": 381,
   "metadata": {
    "collapsed": false
   },
   "outputs": [
    {
     "data": {
      "text/html": [
       "<iframe id=\"igraph\" scrolling=\"no\" style=\"border:none;\"seamless=\"seamless\" src=\"https://plot.ly/~LIBELO6/602.embed\" height=\"525\" width=\"100%\"></iframe>"
      ],
      "text/plain": [
       "<plotly.tools.PlotlyDisplay object>"
      ]
     },
     "execution_count": 381,
     "metadata": {},
     "output_type": "execute_result"
    }
   ],
   "source": [
    "traces = []\n",
    "traces.append(go.Scatter(y=diff['WDSP'], text=diff.index, mode='markers', ))\n",
    "#                          marker = dict(color=haha['index'])))\n",
    "ply.iplot(traces, filename='WeatherData/diff2')"
   ]
  },
  {
   "cell_type": "code",
   "execution_count": 382,
   "metadata": {
    "collapsed": false
   },
   "outputs": [
    {
     "data": {
      "text/html": [
       "<iframe id=\"igraph\" scrolling=\"no\" style=\"border:none;\"seamless=\"seamless\" src=\"https://plot.ly/~LIBELO6/604.embed\" height=\"525\" width=\"100%\"></iframe>"
      ],
      "text/plain": [
       "<plotly.tools.PlotlyDisplay object>"
      ]
     },
     "execution_count": 382,
     "metadata": {},
     "output_type": "execute_result"
    }
   ],
   "source": [
    "traces = []\n",
    "traces.append(go.Scatter(y=diff['MXSPD'], text=diff.index, mode='markers', ))\n",
    "#                          marker = dict(color=haha['index'])))\n",
    "ply.iplot(traces, filename='WeatherData/diff3')"
   ]
  },
  {
   "cell_type": "code",
   "execution_count": 383,
   "metadata": {
    "collapsed": false
   },
   "outputs": [
    {
     "data": {
      "text/html": [
       "<iframe id=\"igraph\" scrolling=\"no\" style=\"border:none;\"seamless=\"seamless\" src=\"https://plot.ly/~LIBELO6/606.embed\" height=\"525\" width=\"100%\"></iframe>"
      ],
      "text/plain": [
       "<plotly.tools.PlotlyDisplay object>"
      ]
     },
     "execution_count": 383,
     "metadata": {},
     "output_type": "execute_result"
    }
   ],
   "source": [
    "traces = []\n",
    "traces.append(go.Scatter(y=diff['TEMP'], text=diff.index, mode='markers', ))\n",
    "#                          marker = dict(color=haha['index'])))\n",
    "ply.iplot(traces, filename='WeatherData/diff5')"
   ]
  },
  {
   "cell_type": "code",
   "execution_count": 396,
   "metadata": {
    "collapsed": false
   },
   "outputs": [
    {
     "data": {
      "text/html": [
       "<div>\n",
       "<table border=\"1\" class=\"dataframe\">\n",
       "  <thead>\n",
       "    <tr style=\"text-align: right;\">\n",
       "      <th></th>\n",
       "      <th>PRCP</th>\n",
       "      <th>WDSP</th>\n",
       "      <th>MXSPD</th>\n",
       "      <th>TEMP</th>\n",
       "    </tr>\n",
       "    <tr>\n",
       "      <th>STN</th>\n",
       "      <th></th>\n",
       "      <th></th>\n",
       "      <th></th>\n",
       "      <th></th>\n",
       "    </tr>\n",
       "  </thead>\n",
       "  <tbody>\n",
       "  </tbody>\n",
       "</table>\n",
       "</div>"
      ],
      "text/plain": [
       "Empty DataFrame\n",
       "Columns: [PRCP, WDSP, MXSPD, TEMP]\n",
       "Index: []"
      ]
     },
     "execution_count": 396,
     "metadata": {},
     "output_type": "execute_result"
    }
   ],
   "source": [
    "diff[(diff['PRCP'] < 0) & (diff['WDSP'] < 0) & (diff['MXSPD'] < 0) & (diff['TEMP'] < 0)]"
   ]
  },
  {
   "cell_type": "code",
   "execution_count": 397,
   "metadata": {
    "collapsed": false
   },
   "outputs": [
    {
     "data": {
      "text/html": [
       "<div>\n",
       "<table border=\"1\" class=\"dataframe\">\n",
       "  <thead>\n",
       "    <tr style=\"text-align: right;\">\n",
       "      <th></th>\n",
       "      <th>PRCP</th>\n",
       "      <th>WDSP</th>\n",
       "      <th>MXSPD</th>\n",
       "      <th>TEMP</th>\n",
       "    </tr>\n",
       "    <tr>\n",
       "      <th>STN</th>\n",
       "      <th></th>\n",
       "      <th></th>\n",
       "      <th></th>\n",
       "      <th></th>\n",
       "    </tr>\n",
       "  </thead>\n",
       "  <tbody>\n",
       "    <tr>\n",
       "      <th>722810</th>\n",
       "      <td>-0.013917</td>\n",
       "      <td>-0.618333</td>\n",
       "      <td>-1.643889</td>\n",
       "      <td>3.641944</td>\n",
       "    </tr>\n",
       "  </tbody>\n",
       "</table>\n",
       "</div>"
      ],
      "text/plain": [
       "            PRCP      WDSP     MXSPD      TEMP\n",
       "STN                                           \n",
       "722810 -0.013917 -0.618333 -1.643889  3.641944"
      ]
     },
     "execution_count": 397,
     "metadata": {},
     "output_type": "execute_result"
    }
   ],
   "source": [
    "diff[(diff['PRCP'] < 0) & (diff['WDSP'] < 0) & (diff['MXSPD'] < 0)]"
   ]
  },
  {
   "cell_type": "code",
   "execution_count": 398,
   "metadata": {
    "collapsed": false,
    "scrolled": true
   },
   "outputs": [
    {
     "data": {
      "text/html": [
       "<div>\n",
       "<table border=\"1\" class=\"dataframe\">\n",
       "  <thead>\n",
       "    <tr style=\"text-align: right;\">\n",
       "      <th></th>\n",
       "      <th>PRCP</th>\n",
       "      <th>WDSP</th>\n",
       "      <th>MXSPD</th>\n",
       "      <th>TEMP</th>\n",
       "    </tr>\n",
       "    <tr>\n",
       "      <th>STN</th>\n",
       "      <th></th>\n",
       "      <th></th>\n",
       "      <th></th>\n",
       "      <th></th>\n",
       "    </tr>\n",
       "  </thead>\n",
       "  <tbody>\n",
       "    <tr>\n",
       "      <th>724800</th>\n",
       "      <td>0.044804</td>\n",
       "      <td>-0.289793</td>\n",
       "      <td>-0.922955</td>\n",
       "      <td>-0.724325</td>\n",
       "    </tr>\n",
       "    <tr>\n",
       "      <th>725845</th>\n",
       "      <td>0.179311</td>\n",
       "      <td>-1.297555</td>\n",
       "      <td>-2.024187</td>\n",
       "      <td>-3.480785</td>\n",
       "    </tr>\n",
       "  </tbody>\n",
       "</table>\n",
       "</div>"
      ],
      "text/plain": [
       "            PRCP      WDSP     MXSPD      TEMP\n",
       "STN                                           \n",
       "724800  0.044804 -0.289793 -0.922955 -0.724325\n",
       "725845  0.179311 -1.297555 -2.024187 -3.480785"
      ]
     },
     "execution_count": 398,
     "metadata": {},
     "output_type": "execute_result"
    }
   ],
   "source": [
    "diff[(diff['WDSP'] < 0) & (diff['MXSPD'] < 0) & (diff['TEMP'] < 0)]"
   ]
  },
  {
   "cell_type": "code",
   "execution_count": 307,
   "metadata": {
    "collapsed": false
   },
   "outputs": [
    {
     "data": {
      "text/html": [
       "<iframe id=\"igraph\" scrolling=\"no\" style=\"border:none;\"seamless=\"seamless\" src=\"https://plot.ly/~LIBELO6/598.embed\" height=\"525\" width=\"100%\"></iframe>"
      ],
      "text/plain": [
       "<plotly.tools.PlotlyDisplay object>"
      ]
     },
     "execution_count": 307,
     "metadata": {},
     "output_type": "execute_result"
    }
   ],
   "source": [
    "all_years = all_shifted.groupby(all_shifted.index.year).apply(lambda x:x.mean()) # average over stations\n",
    "hehe = pd.concat([all_years, oci.set_index('From')[['index']]], join='inner', axis=1)\n",
    "traces = []\n",
    "traces.append(go.Scatter(x=hehe['PRCP'], y=hehe['MXSPD'], text=hehe.index, mode='markers', \n",
    "                         marker = dict(color=hehe['index'])))\n",
    "ply.iplot(traces, filename='WeatherData/hehe')"
   ]
  },
  {
   "cell_type": "markdown",
   "metadata": {},
   "source": [
    "#PCA"
   ]
  },
  {
   "cell_type": "code",
   "execution_count": 484,
   "metadata": {
    "collapsed": true
   },
   "outputs": [],
   "source": [
    "all2 = all_shifted.copy()"
   ]
  },
  {
   "cell_type": "code",
   "execution_count": 485,
   "metadata": {
    "collapsed": false
   },
   "outputs": [],
   "source": [
    "all2['year'] = all2.index.year"
   ]
  },
  {
   "cell_type": "code",
   "execution_count": 486,
   "metadata": {
    "collapsed": false
   },
   "outputs": [
    {
     "data": {
      "text/html": [
       "<div>\n",
       "<table border=\"1\" class=\"dataframe\">\n",
       "  <thead>\n",
       "    <tr style=\"text-align: right;\">\n",
       "      <th></th>\n",
       "      <th>STN</th>\n",
       "      <th>PRCP</th>\n",
       "      <th>WDSP</th>\n",
       "      <th>MXSPD</th>\n",
       "      <th>TEMP</th>\n",
       "      <th>year</th>\n",
       "    </tr>\n",
       "    <tr>\n",
       "      <th>YEARMODA</th>\n",
       "      <th></th>\n",
       "      <th></th>\n",
       "      <th></th>\n",
       "      <th></th>\n",
       "      <th></th>\n",
       "      <th></th>\n",
       "    </tr>\n",
       "  </thead>\n",
       "  <tbody>\n",
       "    <tr>\n",
       "      <th>1984-08-31</th>\n",
       "      <td>697534</td>\n",
       "      <td>0</td>\n",
       "      <td>8.4</td>\n",
       "      <td>9.9</td>\n",
       "      <td>71.2</td>\n",
       "      <td>1984</td>\n",
       "    </tr>\n",
       "    <tr>\n",
       "      <th>1984-08-31</th>\n",
       "      <td>697534</td>\n",
       "      <td>0</td>\n",
       "      <td>8.7</td>\n",
       "      <td>9.9</td>\n",
       "      <td>70.7</td>\n",
       "      <td>1984</td>\n",
       "    </tr>\n",
       "    <tr>\n",
       "      <th>1984-05-31</th>\n",
       "      <td>722810</td>\n",
       "      <td>0</td>\n",
       "      <td>2.8</td>\n",
       "      <td>9.9</td>\n",
       "      <td>67.2</td>\n",
       "      <td>1984</td>\n",
       "    </tr>\n",
       "    <tr>\n",
       "      <th>1984-05-31</th>\n",
       "      <td>722810</td>\n",
       "      <td>0</td>\n",
       "      <td>3.0</td>\n",
       "      <td>7.0</td>\n",
       "      <td>67.8</td>\n",
       "      <td>1984</td>\n",
       "    </tr>\n",
       "    <tr>\n",
       "      <th>1984-05-31</th>\n",
       "      <td>722810</td>\n",
       "      <td>0</td>\n",
       "      <td>1.9</td>\n",
       "      <td>8.0</td>\n",
       "      <td>68.1</td>\n",
       "      <td>1984</td>\n",
       "    </tr>\n",
       "  </tbody>\n",
       "</table>\n",
       "</div>"
      ],
      "text/plain": [
       "               STN  PRCP  WDSP  MXSPD  TEMP  year\n",
       "YEARMODA                                         \n",
       "1984-08-31  697534     0   8.4    9.9  71.2  1984\n",
       "1984-08-31  697534     0   8.7    9.9  70.7  1984\n",
       "1984-05-31  722810     0   2.8    9.9  67.2  1984\n",
       "1984-05-31  722810     0   3.0    7.0  67.8  1984\n",
       "1984-05-31  722810     0   1.9    8.0  68.1  1984"
      ]
     },
     "execution_count": 486,
     "metadata": {},
     "output_type": "execute_result"
    }
   ],
   "source": [
    "all2.head()"
   ]
  },
  {
   "cell_type": "code",
   "execution_count": 488,
   "metadata": {
    "collapsed": false
   },
   "outputs": [],
   "source": [
    "all2_years = all2.groupby(['STN', 'year']).mean()\n",
    "all2_years = all2_years.reset_index()"
   ]
  },
  {
   "cell_type": "code",
   "execution_count": 500,
   "metadata": {
    "collapsed": true
   },
   "outputs": [],
   "source": [
    "all2_weeks = all2.groupby('STN').resample('W')\n",
    "all2_weeks = all2_weeks.reset_index()"
   ]
  },
  {
   "cell_type": "code",
   "execution_count": 603,
   "metadata": {
    "collapsed": true
   },
   "outputs": [],
   "source": [
    "all2_max = all2_weeks.set_index('YEARMODA').groupby('STN')[['MXSPD', 'PRCP', 'WDSP']].resample('A', 'max').reset_index()"
   ]
  },
  {
   "cell_type": "code",
   "execution_count": 604,
   "metadata": {
    "collapsed": false
   },
   "outputs": [
    {
     "data": {
      "text/html": [
       "<div>\n",
       "<table border=\"1\" class=\"dataframe\">\n",
       "  <thead>\n",
       "    <tr style=\"text-align: right;\">\n",
       "      <th></th>\n",
       "      <th>STN</th>\n",
       "      <th>year</th>\n",
       "      <th>PRCP</th>\n",
       "      <th>WDSP</th>\n",
       "      <th>MXSPD</th>\n",
       "      <th>TEMP</th>\n",
       "    </tr>\n",
       "  </thead>\n",
       "  <tbody>\n",
       "    <tr>\n",
       "      <th>0</th>\n",
       "      <td>690020</td>\n",
       "      <td>1989</td>\n",
       "      <td>0.031148</td>\n",
       "      <td>2.032787</td>\n",
       "      <td>4.824590</td>\n",
       "      <td>50.537705</td>\n",
       "    </tr>\n",
       "    <tr>\n",
       "      <th>1</th>\n",
       "      <td>690020</td>\n",
       "      <td>1990</td>\n",
       "      <td>0.013043</td>\n",
       "      <td>2.556522</td>\n",
       "      <td>5.895652</td>\n",
       "      <td>55.636232</td>\n",
       "    </tr>\n",
       "    <tr>\n",
       "      <th>2</th>\n",
       "      <td>690020</td>\n",
       "      <td>1991</td>\n",
       "      <td>0.061842</td>\n",
       "      <td>2.457895</td>\n",
       "      <td>5.342105</td>\n",
       "      <td>56.144737</td>\n",
       "    </tr>\n",
       "    <tr>\n",
       "      <th>3</th>\n",
       "      <td>690020</td>\n",
       "      <td>1992</td>\n",
       "      <td>0.209211</td>\n",
       "      <td>3.143590</td>\n",
       "      <td>6.937662</td>\n",
       "      <td>52.902564</td>\n",
       "    </tr>\n",
       "    <tr>\n",
       "      <th>4</th>\n",
       "      <td>690020</td>\n",
       "      <td>1993</td>\n",
       "      <td>0.089265</td>\n",
       "      <td>3.427941</td>\n",
       "      <td>6.886765</td>\n",
       "      <td>52.938235</td>\n",
       "    </tr>\n",
       "  </tbody>\n",
       "</table>\n",
       "</div>"
      ],
      "text/plain": [
       "      STN  year      PRCP      WDSP     MXSPD       TEMP\n",
       "0  690020  1989  0.031148  2.032787  4.824590  50.537705\n",
       "1  690020  1990  0.013043  2.556522  5.895652  55.636232\n",
       "2  690020  1991  0.061842  2.457895  5.342105  56.144737\n",
       "3  690020  1992  0.209211  3.143590  6.937662  52.902564\n",
       "4  690020  1993  0.089265  3.427941  6.886765  52.938235"
      ]
     },
     "execution_count": 604,
     "metadata": {},
     "output_type": "execute_result"
    }
   ],
   "source": [
    "all2_years.head()"
   ]
  },
  {
   "cell_type": "code",
   "execution_count": 605,
   "metadata": {
    "collapsed": false,
    "scrolled": true
   },
   "outputs": [
    {
     "data": {
      "text/html": [
       "<div>\n",
       "<table border=\"1\" class=\"dataframe\">\n",
       "  <thead>\n",
       "    <tr style=\"text-align: right;\">\n",
       "      <th></th>\n",
       "      <th>STN</th>\n",
       "      <th>YEARMODA</th>\n",
       "      <th>MXSPD</th>\n",
       "      <th>PRCP</th>\n",
       "      <th>WDSP</th>\n",
       "    </tr>\n",
       "  </thead>\n",
       "  <tbody>\n",
       "    <tr>\n",
       "      <th>0</th>\n",
       "      <td>690020</td>\n",
       "      <td>1989-12-31</td>\n",
       "      <td>5.687500</td>\n",
       "      <td>0.057917</td>\n",
       "      <td>2.491667</td>\n",
       "    </tr>\n",
       "    <tr>\n",
       "      <th>1</th>\n",
       "      <td>690020</td>\n",
       "      <td>1990-12-31</td>\n",
       "      <td>6.642105</td>\n",
       "      <td>0.025714</td>\n",
       "      <td>2.884211</td>\n",
       "    </tr>\n",
       "    <tr>\n",
       "      <th>2</th>\n",
       "      <td>690020</td>\n",
       "      <td>1991-12-31</td>\n",
       "      <td>6.578947</td>\n",
       "      <td>0.225789</td>\n",
       "      <td>3.200000</td>\n",
       "    </tr>\n",
       "    <tr>\n",
       "      <th>3</th>\n",
       "      <td>690020</td>\n",
       "      <td>1992-12-31</td>\n",
       "      <td>8.984211</td>\n",
       "      <td>0.367895</td>\n",
       "      <td>4.336842</td>\n",
       "    </tr>\n",
       "    <tr>\n",
       "      <th>4</th>\n",
       "      <td>690020</td>\n",
       "      <td>1993-12-31</td>\n",
       "      <td>8.210526</td>\n",
       "      <td>0.186316</td>\n",
       "      <td>3.994737</td>\n",
       "    </tr>\n",
       "  </tbody>\n",
       "</table>\n",
       "</div>"
      ],
      "text/plain": [
       "      STN   YEARMODA     MXSPD      PRCP      WDSP\n",
       "0  690020 1989-12-31  5.687500  0.057917  2.491667\n",
       "1  690020 1990-12-31  6.642105  0.025714  2.884211\n",
       "2  690020 1991-12-31  6.578947  0.225789  3.200000\n",
       "3  690020 1992-12-31  8.984211  0.367895  4.336842\n",
       "4  690020 1993-12-31  8.210526  0.186316  3.994737"
      ]
     },
     "execution_count": 605,
     "metadata": {},
     "output_type": "execute_result"
    }
   ],
   "source": [
    "all2_max.head()"
   ]
  },
  {
   "cell_type": "raw",
   "metadata": {},
   "source": [
    "la_max = all2_max[all2_max['STN'] == 722950]\n",
    "all2_pivot = la_max.pivot(index='YEARMODA', columns='STN')"
   ]
  },
  {
   "cell_type": "code",
   "execution_count": 606,
   "metadata": {
    "collapsed": true
   },
   "outputs": [],
   "source": [
    "all2_pivot = all2_max.pivot(index='YEARMODA', columns='STN')"
   ]
  },
  {
   "cell_type": "code",
   "execution_count": 607,
   "metadata": {
    "collapsed": false
   },
   "outputs": [],
   "source": [
    "all2_notnull = all2_pivot.dropna(axis=1)"
   ]
  },
  {
   "cell_type": "code",
   "execution_count": 625,
   "metadata": {
    "collapsed": false
   },
   "outputs": [
    {
     "data": {
      "text/html": [
       "<div>\n",
       "<table border=\"1\" class=\"dataframe\">\n",
       "  <thead>\n",
       "    <tr>\n",
       "      <th></th>\n",
       "      <th colspan=\"10\" halign=\"left\">MXSPD</th>\n",
       "      <th>...</th>\n",
       "      <th colspan=\"10\" halign=\"left\">WDSP</th>\n",
       "    </tr>\n",
       "    <tr>\n",
       "      <th>STN</th>\n",
       "      <th>722860</th>\n",
       "      <th>722868</th>\n",
       "      <th>722880</th>\n",
       "      <th>722886</th>\n",
       "      <th>722900</th>\n",
       "      <th>722904</th>\n",
       "      <th>722906</th>\n",
       "      <th>722907</th>\n",
       "      <th>722909</th>\n",
       "      <th>722925</th>\n",
       "      <th>...</th>\n",
       "      <th>725940</th>\n",
       "      <th>725945</th>\n",
       "      <th>725946</th>\n",
       "      <th>725957</th>\n",
       "      <th>745160</th>\n",
       "      <th>746120</th>\n",
       "      <th>747020</th>\n",
       "      <th>747185</th>\n",
       "      <th>747187</th>\n",
       "      <th>747188</th>\n",
       "    </tr>\n",
       "    <tr>\n",
       "      <th>YEARMODA</th>\n",
       "      <th></th>\n",
       "      <th></th>\n",
       "      <th></th>\n",
       "      <th></th>\n",
       "      <th></th>\n",
       "      <th></th>\n",
       "      <th></th>\n",
       "      <th></th>\n",
       "      <th></th>\n",
       "      <th></th>\n",
       "      <th></th>\n",
       "      <th></th>\n",
       "      <th></th>\n",
       "      <th></th>\n",
       "      <th></th>\n",
       "      <th></th>\n",
       "      <th></th>\n",
       "      <th></th>\n",
       "      <th></th>\n",
       "      <th></th>\n",
       "      <th></th>\n",
       "    </tr>\n",
       "  </thead>\n",
       "  <tbody>\n",
       "    <tr>\n",
       "      <th>1981-12-31</th>\n",
       "      <td>12.277419</td>\n",
       "      <td>13.014286</td>\n",
       "      <td>10.357692</td>\n",
       "      <td>13.725806</td>\n",
       "      <td>12.819355</td>\n",
       "      <td>4.900000</td>\n",
       "      <td>11.877419</td>\n",
       "      <td>11.380645</td>\n",
       "      <td>12.208333</td>\n",
       "      <td>12.893548</td>\n",
       "      <td>...</td>\n",
       "      <td>8.338095</td>\n",
       "      <td>6.445161</td>\n",
       "      <td>9.764516</td>\n",
       "      <td>4.754839</td>\n",
       "      <td>5.280645</td>\n",
       "      <td>5.300000</td>\n",
       "      <td>4.170968</td>\n",
       "      <td>5.064516</td>\n",
       "      <td>5.151613</td>\n",
       "      <td>6.200000</td>\n",
       "    </tr>\n",
       "    <tr>\n",
       "      <th>1982-12-31</th>\n",
       "      <td>11.190323</td>\n",
       "      <td>12.153333</td>\n",
       "      <td>10.835484</td>\n",
       "      <td>13.540000</td>\n",
       "      <td>13.370968</td>\n",
       "      <td>8.600000</td>\n",
       "      <td>13.167742</td>\n",
       "      <td>11.500000</td>\n",
       "      <td>14.104348</td>\n",
       "      <td>13.839286</td>\n",
       "      <td>...</td>\n",
       "      <td>11.500000</td>\n",
       "      <td>8.235714</td>\n",
       "      <td>11.271429</td>\n",
       "      <td>4.670968</td>\n",
       "      <td>6.867857</td>\n",
       "      <td>4.213793</td>\n",
       "      <td>5.014286</td>\n",
       "      <td>5.089286</td>\n",
       "      <td>5.603226</td>\n",
       "      <td>6.570968</td>\n",
       "    </tr>\n",
       "    <tr>\n",
       "      <th>1983-12-31</th>\n",
       "      <td>11.717241</td>\n",
       "      <td>13.883333</td>\n",
       "      <td>11.239286</td>\n",
       "      <td>13.416667</td>\n",
       "      <td>12.189655</td>\n",
       "      <td>13.048276</td>\n",
       "      <td>11.480000</td>\n",
       "      <td>12.455172</td>\n",
       "      <td>9.470833</td>\n",
       "      <td>13.703333</td>\n",
       "      <td>...</td>\n",
       "      <td>5.957143</td>\n",
       "      <td>7.166667</td>\n",
       "      <td>10.153333</td>\n",
       "      <td>4.256667</td>\n",
       "      <td>5.110000</td>\n",
       "      <td>5.180000</td>\n",
       "      <td>4.956667</td>\n",
       "      <td>5.406667</td>\n",
       "      <td>5.731034</td>\n",
       "      <td>7.196552</td>\n",
       "    </tr>\n",
       "    <tr>\n",
       "      <th>1984-12-31</th>\n",
       "      <td>12.738710</td>\n",
       "      <td>12.780000</td>\n",
       "      <td>11.425000</td>\n",
       "      <td>13.306897</td>\n",
       "      <td>12.635484</td>\n",
       "      <td>12.603226</td>\n",
       "      <td>12.051613</td>\n",
       "      <td>10.294118</td>\n",
       "      <td>10.968000</td>\n",
       "      <td>14.093548</td>\n",
       "      <td>...</td>\n",
       "      <td>10.900000</td>\n",
       "      <td>6.683333</td>\n",
       "      <td>10.860714</td>\n",
       "      <td>5.064000</td>\n",
       "      <td>5.489286</td>\n",
       "      <td>4.689286</td>\n",
       "      <td>4.193333</td>\n",
       "      <td>5.006667</td>\n",
       "      <td>5.385714</td>\n",
       "      <td>6.578571</td>\n",
       "    </tr>\n",
       "    <tr>\n",
       "      <th>1985-12-31</th>\n",
       "      <td>10.909677</td>\n",
       "      <td>12.125000</td>\n",
       "      <td>11.628571</td>\n",
       "      <td>12.450000</td>\n",
       "      <td>12.639286</td>\n",
       "      <td>13.835484</td>\n",
       "      <td>12.625000</td>\n",
       "      <td>10.790323</td>\n",
       "      <td>11.800000</td>\n",
       "      <td>11.242857</td>\n",
       "      <td>...</td>\n",
       "      <td>9.276471</td>\n",
       "      <td>7.150000</td>\n",
       "      <td>9.307143</td>\n",
       "      <td>4.209677</td>\n",
       "      <td>6.217857</td>\n",
       "      <td>5.082143</td>\n",
       "      <td>4.803571</td>\n",
       "      <td>6.878571</td>\n",
       "      <td>5.760714</td>\n",
       "      <td>6.303571</td>\n",
       "    </tr>\n",
       "    <tr>\n",
       "      <th>1986-12-31</th>\n",
       "      <td>13.139286</td>\n",
       "      <td>14.039286</td>\n",
       "      <td>10.846667</td>\n",
       "      <td>12.067857</td>\n",
       "      <td>13.737037</td>\n",
       "      <td>14.064286</td>\n",
       "      <td>14.010714</td>\n",
       "      <td>11.628571</td>\n",
       "      <td>13.019231</td>\n",
       "      <td>10.416000</td>\n",
       "      <td>...</td>\n",
       "      <td>8.430000</td>\n",
       "      <td>6.828571</td>\n",
       "      <td>9.725000</td>\n",
       "      <td>4.280769</td>\n",
       "      <td>6.623333</td>\n",
       "      <td>4.853571</td>\n",
       "      <td>4.573333</td>\n",
       "      <td>6.685714</td>\n",
       "      <td>6.571429</td>\n",
       "      <td>8.582143</td>\n",
       "    </tr>\n",
       "    <tr>\n",
       "      <th>1987-12-31</th>\n",
       "      <td>10.658065</td>\n",
       "      <td>12.200000</td>\n",
       "      <td>12.277778</td>\n",
       "      <td>14.889655</td>\n",
       "      <td>13.045161</td>\n",
       "      <td>12.683871</td>\n",
       "      <td>13.719355</td>\n",
       "      <td>10.293548</td>\n",
       "      <td>11.540000</td>\n",
       "      <td>10.625000</td>\n",
       "      <td>...</td>\n",
       "      <td>9.040909</td>\n",
       "      <td>7.641935</td>\n",
       "      <td>9.722581</td>\n",
       "      <td>5.354839</td>\n",
       "      <td>7.341935</td>\n",
       "      <td>3.382759</td>\n",
       "      <td>5.790000</td>\n",
       "      <td>5.366667</td>\n",
       "      <td>5.613793</td>\n",
       "      <td>7.300000</td>\n",
       "    </tr>\n",
       "    <tr>\n",
       "      <th>1988-12-31</th>\n",
       "      <td>9.883333</td>\n",
       "      <td>14.982143</td>\n",
       "      <td>11.722581</td>\n",
       "      <td>14.754839</td>\n",
       "      <td>12.200000</td>\n",
       "      <td>13.221429</td>\n",
       "      <td>11.848387</td>\n",
       "      <td>11.359259</td>\n",
       "      <td>12.495652</td>\n",
       "      <td>12.051852</td>\n",
       "      <td>...</td>\n",
       "      <td>7.458333</td>\n",
       "      <td>5.966667</td>\n",
       "      <td>8.083333</td>\n",
       "      <td>4.180645</td>\n",
       "      <td>6.966667</td>\n",
       "      <td>4.565385</td>\n",
       "      <td>5.450000</td>\n",
       "      <td>6.882143</td>\n",
       "      <td>5.450000</td>\n",
       "      <td>8.414286</td>\n",
       "    </tr>\n",
       "    <tr>\n",
       "      <th>1989-12-31</th>\n",
       "      <td>12.332258</td>\n",
       "      <td>13.325000</td>\n",
       "      <td>13.160714</td>\n",
       "      <td>13.922581</td>\n",
       "      <td>12.303571</td>\n",
       "      <td>13.625000</td>\n",
       "      <td>13.239286</td>\n",
       "      <td>11.635714</td>\n",
       "      <td>11.273913</td>\n",
       "      <td>14.800000</td>\n",
       "      <td>...</td>\n",
       "      <td>6.429630</td>\n",
       "      <td>5.948387</td>\n",
       "      <td>8.558065</td>\n",
       "      <td>4.251613</td>\n",
       "      <td>5.596429</td>\n",
       "      <td>4.738462</td>\n",
       "      <td>8.460714</td>\n",
       "      <td>6.364286</td>\n",
       "      <td>5.525000</td>\n",
       "      <td>7.892857</td>\n",
       "    </tr>\n",
       "    <tr>\n",
       "      <th>1990-12-31</th>\n",
       "      <td>12.074194</td>\n",
       "      <td>15.489655</td>\n",
       "      <td>9.900000</td>\n",
       "      <td>15.580645</td>\n",
       "      <td>12.122581</td>\n",
       "      <td>12.540000</td>\n",
       "      <td>12.539286</td>\n",
       "      <td>11.339286</td>\n",
       "      <td>12.252000</td>\n",
       "      <td>17.166667</td>\n",
       "      <td>...</td>\n",
       "      <td>6.021739</td>\n",
       "      <td>5.474194</td>\n",
       "      <td>8.048387</td>\n",
       "      <td>4.282759</td>\n",
       "      <td>6.213333</td>\n",
       "      <td>4.163636</td>\n",
       "      <td>4.980000</td>\n",
       "      <td>6.233333</td>\n",
       "      <td>5.446667</td>\n",
       "      <td>8.273333</td>\n",
       "    </tr>\n",
       "    <tr>\n",
       "      <th>1991-12-31</th>\n",
       "      <td>12.419355</td>\n",
       "      <td>13.040000</td>\n",
       "      <td>13.058621</td>\n",
       "      <td>16.369565</td>\n",
       "      <td>13.750000</td>\n",
       "      <td>13.993103</td>\n",
       "      <td>13.634483</td>\n",
       "      <td>11.962069</td>\n",
       "      <td>12.829167</td>\n",
       "      <td>17.000000</td>\n",
       "      <td>...</td>\n",
       "      <td>8.740909</td>\n",
       "      <td>6.458621</td>\n",
       "      <td>8.293103</td>\n",
       "      <td>4.216667</td>\n",
       "      <td>6.375862</td>\n",
       "      <td>3.083333</td>\n",
       "      <td>5.123333</td>\n",
       "      <td>6.131034</td>\n",
       "      <td>4.827586</td>\n",
       "      <td>6.766667</td>\n",
       "    </tr>\n",
       "    <tr>\n",
       "      <th>1992-12-31</th>\n",
       "      <td>11.376667</td>\n",
       "      <td>13.551852</td>\n",
       "      <td>12.546429</td>\n",
       "      <td>16.283333</td>\n",
       "      <td>13.538710</td>\n",
       "      <td>13.783333</td>\n",
       "      <td>14.616129</td>\n",
       "      <td>11.692857</td>\n",
       "      <td>12.837500</td>\n",
       "      <td>11.160000</td>\n",
       "      <td>...</td>\n",
       "      <td>6.883333</td>\n",
       "      <td>7.158065</td>\n",
       "      <td>9.254839</td>\n",
       "      <td>3.977419</td>\n",
       "      <td>7.083871</td>\n",
       "      <td>4.695238</td>\n",
       "      <td>4.664516</td>\n",
       "      <td>6.678571</td>\n",
       "      <td>4.817857</td>\n",
       "      <td>6.236667</td>\n",
       "    </tr>\n",
       "    <tr>\n",
       "      <th>1993-12-31</th>\n",
       "      <td>13.728571</td>\n",
       "      <td>13.445161</td>\n",
       "      <td>11.560714</td>\n",
       "      <td>15.666667</td>\n",
       "      <td>12.778571</td>\n",
       "      <td>13.110714</td>\n",
       "      <td>12.393548</td>\n",
       "      <td>11.410714</td>\n",
       "      <td>13.782609</td>\n",
       "      <td>11.780952</td>\n",
       "      <td>...</td>\n",
       "      <td>6.854545</td>\n",
       "      <td>6.706452</td>\n",
       "      <td>8.635484</td>\n",
       "      <td>4.312903</td>\n",
       "      <td>8.874194</td>\n",
       "      <td>3.490476</td>\n",
       "      <td>3.885714</td>\n",
       "      <td>6.217857</td>\n",
       "      <td>4.792857</td>\n",
       "      <td>5.532258</td>\n",
       "    </tr>\n",
       "    <tr>\n",
       "      <th>1994-12-31</th>\n",
       "      <td>13.720000</td>\n",
       "      <td>15.093333</td>\n",
       "      <td>12.706667</td>\n",
       "      <td>16.816667</td>\n",
       "      <td>14.229032</td>\n",
       "      <td>13.170968</td>\n",
       "      <td>16.325806</td>\n",
       "      <td>11.220000</td>\n",
       "      <td>13.750000</td>\n",
       "      <td>14.566667</td>\n",
       "      <td>...</td>\n",
       "      <td>7.604167</td>\n",
       "      <td>8.729032</td>\n",
       "      <td>10.748387</td>\n",
       "      <td>3.741935</td>\n",
       "      <td>10.954839</td>\n",
       "      <td>4.218182</td>\n",
       "      <td>4.664516</td>\n",
       "      <td>7.056667</td>\n",
       "      <td>4.189286</td>\n",
       "      <td>6.993333</td>\n",
       "    </tr>\n",
       "    <tr>\n",
       "      <th>1995-12-31</th>\n",
       "      <td>11.517241</td>\n",
       "      <td>16.882759</td>\n",
       "      <td>13.251613</td>\n",
       "      <td>15.164516</td>\n",
       "      <td>12.031034</td>\n",
       "      <td>12.268966</td>\n",
       "      <td>13.165517</td>\n",
       "      <td>10.671429</td>\n",
       "      <td>11.750000</td>\n",
       "      <td>12.604762</td>\n",
       "      <td>...</td>\n",
       "      <td>7.125000</td>\n",
       "      <td>6.693103</td>\n",
       "      <td>9.858621</td>\n",
       "      <td>3.493548</td>\n",
       "      <td>7.768966</td>\n",
       "      <td>3.779167</td>\n",
       "      <td>3.706452</td>\n",
       "      <td>6.158621</td>\n",
       "      <td>5.406897</td>\n",
       "      <td>6.672414</td>\n",
       "    </tr>\n",
       "    <tr>\n",
       "      <th>1996-12-31</th>\n",
       "      <td>12.030000</td>\n",
       "      <td>15.525000</td>\n",
       "      <td>16.053571</td>\n",
       "      <td>13.832143</td>\n",
       "      <td>11.950000</td>\n",
       "      <td>11.412903</td>\n",
       "      <td>13.282143</td>\n",
       "      <td>11.435714</td>\n",
       "      <td>12.852174</td>\n",
       "      <td>16.563158</td>\n",
       "      <td>...</td>\n",
       "      <td>7.547368</td>\n",
       "      <td>7.858065</td>\n",
       "      <td>10.693548</td>\n",
       "      <td>4.428571</td>\n",
       "      <td>7.982143</td>\n",
       "      <td>8.859091</td>\n",
       "      <td>3.793548</td>\n",
       "      <td>6.551613</td>\n",
       "      <td>5.514286</td>\n",
       "      <td>8.025000</td>\n",
       "    </tr>\n",
       "    <tr>\n",
       "      <th>1997-12-31</th>\n",
       "      <td>13.987097</td>\n",
       "      <td>13.619355</td>\n",
       "      <td>16.577778</td>\n",
       "      <td>15.080645</td>\n",
       "      <td>15.089286</td>\n",
       "      <td>13.389286</td>\n",
       "      <td>16.867857</td>\n",
       "      <td>12.085714</td>\n",
       "      <td>14.978261</td>\n",
       "      <td>19.985714</td>\n",
       "      <td>...</td>\n",
       "      <td>10.089474</td>\n",
       "      <td>9.428571</td>\n",
       "      <td>13.132143</td>\n",
       "      <td>3.251613</td>\n",
       "      <td>8.564516</td>\n",
       "      <td>6.680952</td>\n",
       "      <td>7.660714</td>\n",
       "      <td>6.982143</td>\n",
       "      <td>5.929032</td>\n",
       "      <td>7.600000</td>\n",
       "    </tr>\n",
       "    <tr>\n",
       "      <th>1998-12-31</th>\n",
       "      <td>10.632258</td>\n",
       "      <td>11.887097</td>\n",
       "      <td>11.383871</td>\n",
       "      <td>14.790323</td>\n",
       "      <td>11.525806</td>\n",
       "      <td>10.538710</td>\n",
       "      <td>14.123333</td>\n",
       "      <td>10.400000</td>\n",
       "      <td>11.380000</td>\n",
       "      <td>16.186364</td>\n",
       "      <td>...</td>\n",
       "      <td>8.388000</td>\n",
       "      <td>8.017857</td>\n",
       "      <td>12.103571</td>\n",
       "      <td>3.816667</td>\n",
       "      <td>7.323333</td>\n",
       "      <td>7.422727</td>\n",
       "      <td>6.734615</td>\n",
       "      <td>5.909677</td>\n",
       "      <td>5.603226</td>\n",
       "      <td>7.629032</td>\n",
       "    </tr>\n",
       "    <tr>\n",
       "      <th>1999-12-31</th>\n",
       "      <td>12.596774</td>\n",
       "      <td>12.348276</td>\n",
       "      <td>11.117241</td>\n",
       "      <td>14.206452</td>\n",
       "      <td>13.200000</td>\n",
       "      <td>13.313793</td>\n",
       "      <td>13.500000</td>\n",
       "      <td>11.551724</td>\n",
       "      <td>11.728571</td>\n",
       "      <td>14.181818</td>\n",
       "      <td>...</td>\n",
       "      <td>7.071429</td>\n",
       "      <td>6.937931</td>\n",
       "      <td>9.462069</td>\n",
       "      <td>3.000000</td>\n",
       "      <td>8.127586</td>\n",
       "      <td>7.554545</td>\n",
       "      <td>7.073077</td>\n",
       "      <td>6.827586</td>\n",
       "      <td>4.596552</td>\n",
       "      <td>7.335484</td>\n",
       "    </tr>\n",
       "    <tr>\n",
       "      <th>2000-12-31</th>\n",
       "      <td>11.485714</td>\n",
       "      <td>13.071429</td>\n",
       "      <td>11.750000</td>\n",
       "      <td>12.396774</td>\n",
       "      <td>12.689286</td>\n",
       "      <td>11.632143</td>\n",
       "      <td>13.635714</td>\n",
       "      <td>11.150000</td>\n",
       "      <td>12.435000</td>\n",
       "      <td>13.855000</td>\n",
       "      <td>...</td>\n",
       "      <td>6.416667</td>\n",
       "      <td>6.778571</td>\n",
       "      <td>8.467857</td>\n",
       "      <td>3.289286</td>\n",
       "      <td>8.825000</td>\n",
       "      <td>7.345455</td>\n",
       "      <td>6.412000</td>\n",
       "      <td>6.746429</td>\n",
       "      <td>5.046429</td>\n",
       "      <td>6.185714</td>\n",
       "    </tr>\n",
       "  </tbody>\n",
       "</table>\n",
       "<p>20 rows × 161 columns</p>\n",
       "</div>"
      ],
      "text/plain": [
       "                MXSPD                                                         \\\n",
       "STN            722860     722868     722880     722886     722900     722904   \n",
       "YEARMODA                                                                       \n",
       "1981-12-31  12.277419  13.014286  10.357692  13.725806  12.819355   4.900000   \n",
       "1982-12-31  11.190323  12.153333  10.835484  13.540000  13.370968   8.600000   \n",
       "1983-12-31  11.717241  13.883333  11.239286  13.416667  12.189655  13.048276   \n",
       "1984-12-31  12.738710  12.780000  11.425000  13.306897  12.635484  12.603226   \n",
       "1985-12-31  10.909677  12.125000  11.628571  12.450000  12.639286  13.835484   \n",
       "1986-12-31  13.139286  14.039286  10.846667  12.067857  13.737037  14.064286   \n",
       "1987-12-31  10.658065  12.200000  12.277778  14.889655  13.045161  12.683871   \n",
       "1988-12-31   9.883333  14.982143  11.722581  14.754839  12.200000  13.221429   \n",
       "1989-12-31  12.332258  13.325000  13.160714  13.922581  12.303571  13.625000   \n",
       "1990-12-31  12.074194  15.489655   9.900000  15.580645  12.122581  12.540000   \n",
       "1991-12-31  12.419355  13.040000  13.058621  16.369565  13.750000  13.993103   \n",
       "1992-12-31  11.376667  13.551852  12.546429  16.283333  13.538710  13.783333   \n",
       "1993-12-31  13.728571  13.445161  11.560714  15.666667  12.778571  13.110714   \n",
       "1994-12-31  13.720000  15.093333  12.706667  16.816667  14.229032  13.170968   \n",
       "1995-12-31  11.517241  16.882759  13.251613  15.164516  12.031034  12.268966   \n",
       "1996-12-31  12.030000  15.525000  16.053571  13.832143  11.950000  11.412903   \n",
       "1997-12-31  13.987097  13.619355  16.577778  15.080645  15.089286  13.389286   \n",
       "1998-12-31  10.632258  11.887097  11.383871  14.790323  11.525806  10.538710   \n",
       "1999-12-31  12.596774  12.348276  11.117241  14.206452  13.200000  13.313793   \n",
       "2000-12-31  11.485714  13.071429  11.750000  12.396774  12.689286  11.632143   \n",
       "\n",
       "                                                          ...          WDSP  \\\n",
       "STN            722906     722907     722909     722925    ...        725940   \n",
       "YEARMODA                                                  ...                 \n",
       "1981-12-31  11.877419  11.380645  12.208333  12.893548    ...      8.338095   \n",
       "1982-12-31  13.167742  11.500000  14.104348  13.839286    ...     11.500000   \n",
       "1983-12-31  11.480000  12.455172   9.470833  13.703333    ...      5.957143   \n",
       "1984-12-31  12.051613  10.294118  10.968000  14.093548    ...     10.900000   \n",
       "1985-12-31  12.625000  10.790323  11.800000  11.242857    ...      9.276471   \n",
       "1986-12-31  14.010714  11.628571  13.019231  10.416000    ...      8.430000   \n",
       "1987-12-31  13.719355  10.293548  11.540000  10.625000    ...      9.040909   \n",
       "1988-12-31  11.848387  11.359259  12.495652  12.051852    ...      7.458333   \n",
       "1989-12-31  13.239286  11.635714  11.273913  14.800000    ...      6.429630   \n",
       "1990-12-31  12.539286  11.339286  12.252000  17.166667    ...      6.021739   \n",
       "1991-12-31  13.634483  11.962069  12.829167  17.000000    ...      8.740909   \n",
       "1992-12-31  14.616129  11.692857  12.837500  11.160000    ...      6.883333   \n",
       "1993-12-31  12.393548  11.410714  13.782609  11.780952    ...      6.854545   \n",
       "1994-12-31  16.325806  11.220000  13.750000  14.566667    ...      7.604167   \n",
       "1995-12-31  13.165517  10.671429  11.750000  12.604762    ...      7.125000   \n",
       "1996-12-31  13.282143  11.435714  12.852174  16.563158    ...      7.547368   \n",
       "1997-12-31  16.867857  12.085714  14.978261  19.985714    ...     10.089474   \n",
       "1998-12-31  14.123333  10.400000  11.380000  16.186364    ...      8.388000   \n",
       "1999-12-31  13.500000  11.551724  11.728571  14.181818    ...      7.071429   \n",
       "2000-12-31  13.635714  11.150000  12.435000  13.855000    ...      6.416667   \n",
       "\n",
       "                                                                          \\\n",
       "STN           725945     725946    725957     745160    746120    747020   \n",
       "YEARMODA                                                                   \n",
       "1981-12-31  6.445161   9.764516  4.754839   5.280645  5.300000  4.170968   \n",
       "1982-12-31  8.235714  11.271429  4.670968   6.867857  4.213793  5.014286   \n",
       "1983-12-31  7.166667  10.153333  4.256667   5.110000  5.180000  4.956667   \n",
       "1984-12-31  6.683333  10.860714  5.064000   5.489286  4.689286  4.193333   \n",
       "1985-12-31  7.150000   9.307143  4.209677   6.217857  5.082143  4.803571   \n",
       "1986-12-31  6.828571   9.725000  4.280769   6.623333  4.853571  4.573333   \n",
       "1987-12-31  7.641935   9.722581  5.354839   7.341935  3.382759  5.790000   \n",
       "1988-12-31  5.966667   8.083333  4.180645   6.966667  4.565385  5.450000   \n",
       "1989-12-31  5.948387   8.558065  4.251613   5.596429  4.738462  8.460714   \n",
       "1990-12-31  5.474194   8.048387  4.282759   6.213333  4.163636  4.980000   \n",
       "1991-12-31  6.458621   8.293103  4.216667   6.375862  3.083333  5.123333   \n",
       "1992-12-31  7.158065   9.254839  3.977419   7.083871  4.695238  4.664516   \n",
       "1993-12-31  6.706452   8.635484  4.312903   8.874194  3.490476  3.885714   \n",
       "1994-12-31  8.729032  10.748387  3.741935  10.954839  4.218182  4.664516   \n",
       "1995-12-31  6.693103   9.858621  3.493548   7.768966  3.779167  3.706452   \n",
       "1996-12-31  7.858065  10.693548  4.428571   7.982143  8.859091  3.793548   \n",
       "1997-12-31  9.428571  13.132143  3.251613   8.564516  6.680952  7.660714   \n",
       "1998-12-31  8.017857  12.103571  3.816667   7.323333  7.422727  6.734615   \n",
       "1999-12-31  6.937931   9.462069  3.000000   8.127586  7.554545  7.073077   \n",
       "2000-12-31  6.778571   8.467857  3.289286   8.825000  7.345455  6.412000   \n",
       "\n",
       "                                          \n",
       "STN           747185    747187    747188  \n",
       "YEARMODA                                  \n",
       "1981-12-31  5.064516  5.151613  6.200000  \n",
       "1982-12-31  5.089286  5.603226  6.570968  \n",
       "1983-12-31  5.406667  5.731034  7.196552  \n",
       "1984-12-31  5.006667  5.385714  6.578571  \n",
       "1985-12-31  6.878571  5.760714  6.303571  \n",
       "1986-12-31  6.685714  6.571429  8.582143  \n",
       "1987-12-31  5.366667  5.613793  7.300000  \n",
       "1988-12-31  6.882143  5.450000  8.414286  \n",
       "1989-12-31  6.364286  5.525000  7.892857  \n",
       "1990-12-31  6.233333  5.446667  8.273333  \n",
       "1991-12-31  6.131034  4.827586  6.766667  \n",
       "1992-12-31  6.678571  4.817857  6.236667  \n",
       "1993-12-31  6.217857  4.792857  5.532258  \n",
       "1994-12-31  7.056667  4.189286  6.993333  \n",
       "1995-12-31  6.158621  5.406897  6.672414  \n",
       "1996-12-31  6.551613  5.514286  8.025000  \n",
       "1997-12-31  6.982143  5.929032  7.600000  \n",
       "1998-12-31  5.909677  5.603226  7.629032  \n",
       "1999-12-31  6.827586  4.596552  7.335484  \n",
       "2000-12-31  6.746429  5.046429  6.185714  \n",
       "\n",
       "[20 rows x 161 columns]"
      ]
     },
     "execution_count": 625,
     "metadata": {},
     "output_type": "execute_result"
    }
   ],
   "source": [
    "all2_notnull.head(20)"
   ]
  },
  {
   "cell_type": "code",
   "execution_count": 608,
   "metadata": {
    "collapsed": false
   },
   "outputs": [
    {
     "data": {
      "text/plain": [
       "161"
      ]
     },
     "execution_count": 608,
     "metadata": {},
     "output_type": "execute_result"
    }
   ],
   "source": [
    "len(all2_notnull.columns)"
   ]
  },
  {
   "cell_type": "code",
   "execution_count": 609,
   "metadata": {
    "collapsed": false
   },
   "outputs": [],
   "source": [
    "from sklearn.decomposition import PCA"
   ]
  },
  {
   "cell_type": "code",
   "execution_count": 626,
   "metadata": {
    "collapsed": true
   },
   "outputs": [],
   "source": [
    "pca = PCA(n_components=3)"
   ]
  },
  {
   "cell_type": "code",
   "execution_count": 627,
   "metadata": {
    "collapsed": false
   },
   "outputs": [],
   "source": [
    "projected = pca.fit_transform(all2_notnull)"
   ]
  },
  {
   "cell_type": "code",
   "execution_count": 628,
   "metadata": {
    "collapsed": false
   },
   "outputs": [
    {
     "data": {
      "text/html": [
       "<div>\n",
       "<table border=\"1\" class=\"dataframe\">\n",
       "  <thead>\n",
       "    <tr style=\"text-align: right;\">\n",
       "      <th></th>\n",
       "      <th>STN</th>\n",
       "      <th>YEARMODA</th>\n",
       "      <th>MXSPD</th>\n",
       "      <th>PRCP</th>\n",
       "      <th>WDSP</th>\n",
       "    </tr>\n",
       "  </thead>\n",
       "  <tbody>\n",
       "    <tr>\n",
       "      <th>0</th>\n",
       "      <td>690020</td>\n",
       "      <td>1989-12-31</td>\n",
       "      <td>5.687500</td>\n",
       "      <td>0.057917</td>\n",
       "      <td>2.491667</td>\n",
       "    </tr>\n",
       "    <tr>\n",
       "      <th>1</th>\n",
       "      <td>690020</td>\n",
       "      <td>1990-12-31</td>\n",
       "      <td>6.642105</td>\n",
       "      <td>0.025714</td>\n",
       "      <td>2.884211</td>\n",
       "    </tr>\n",
       "    <tr>\n",
       "      <th>2</th>\n",
       "      <td>690020</td>\n",
       "      <td>1991-12-31</td>\n",
       "      <td>6.578947</td>\n",
       "      <td>0.225789</td>\n",
       "      <td>3.200000</td>\n",
       "    </tr>\n",
       "    <tr>\n",
       "      <th>3</th>\n",
       "      <td>690020</td>\n",
       "      <td>1992-12-31</td>\n",
       "      <td>8.984211</td>\n",
       "      <td>0.367895</td>\n",
       "      <td>4.336842</td>\n",
       "    </tr>\n",
       "    <tr>\n",
       "      <th>4</th>\n",
       "      <td>690020</td>\n",
       "      <td>1993-12-31</td>\n",
       "      <td>8.210526</td>\n",
       "      <td>0.186316</td>\n",
       "      <td>3.994737</td>\n",
       "    </tr>\n",
       "  </tbody>\n",
       "</table>\n",
       "</div>"
      ],
      "text/plain": [
       "      STN   YEARMODA     MXSPD      PRCP      WDSP\n",
       "0  690020 1989-12-31  5.687500  0.057917  2.491667\n",
       "1  690020 1990-12-31  6.642105  0.025714  2.884211\n",
       "2  690020 1991-12-31  6.578947  0.225789  3.200000\n",
       "3  690020 1992-12-31  8.984211  0.367895  4.336842\n",
       "4  690020 1993-12-31  8.210526  0.186316  3.994737"
      ]
     },
     "execution_count": 628,
     "metadata": {},
     "output_type": "execute_result"
    }
   ],
   "source": [
    "all2_max.head()"
   ]
  },
  {
   "cell_type": "code",
   "execution_count": 629,
   "metadata": {
    "collapsed": false
   },
   "outputs": [],
   "source": [
    "oci_numbers = oci.set_index('From')['index'][all2_notnull.index.year]"
   ]
  },
  {
   "cell_type": "code",
   "execution_count": 630,
   "metadata": {
    "collapsed": false
   },
   "outputs": [],
   "source": [
    "oci_adjusted = oci_numbers.replace({-2:0, -1.5:0, -1:0, -0.5:0, 0.5:0})"
   ]
  },
  {
   "cell_type": "code",
   "execution_count": 631,
   "metadata": {
    "collapsed": false,
    "scrolled": false
   },
   "outputs": [
    {
     "data": {
      "text/html": [
       "<iframe id=\"igraph\" scrolling=\"no\" style=\"border:none;\"seamless=\"seamless\" src=\"https://plot.ly/~LIBELO6/608.embed\" height=\"525\" width=\"100%\"></iframe>"
      ],
      "text/plain": [
       "<plotly.tools.PlotlyDisplay object>"
      ]
     },
     "execution_count": 631,
     "metadata": {},
     "output_type": "execute_result"
    }
   ],
   "source": [
    "trace0 = go.Scatter3d(\n",
    "    x=projected[:,0],\n",
    "    y=projected[:,1],\n",
    "    z=projected[:,2],\n",
    "    name='Projected',\n",
    "    mode='markers+text',\n",
    "    text=all2_notnull.index.year,\n",
    "    marker=go.Marker(color=oci_adjusted, \n",
    "                     size=15,\n",
    "                    )\n",
    ")\n",
    "layout = go.Layout(\n",
    "    title=\"California transformed PCA\"\n",
    ")\n",
    "figure = go.Figure(data=[trace0], layout=layout)\n",
    "ply.iplot(figure, filename='WeatherData/sandiego_PCA2')"
   ]
  },
  {
   "cell_type": "code",
   "execution_count": 621,
   "metadata": {
    "collapsed": true
   },
   "outputs": [],
   "source": [
    "ply.image.save_as(figure, '../figures/California PCA projected max.png')"
   ]
  },
  {
   "cell_type": "code",
   "execution_count": 620,
   "metadata": {
    "collapsed": false
   },
   "outputs": [
    {
     "data": {
      "text/plain": [
       "array([ 0.25400467,  0.20993609])"
      ]
     },
     "execution_count": 620,
     "metadata": {},
     "output_type": "execute_result"
    }
   ],
   "source": [
    "pca.explained_variance_ratio_"
   ]
  },
  {
   "cell_type": "code",
   "execution_count": 449,
   "metadata": {
    "collapsed": false
   },
   "outputs": [],
   "source": [
    "all_four = all2_years.groupby('year')[['PRCP', 'WDSP', 'MXSPD', 'TEMP']].mean()"
   ]
  },
  {
   "cell_type": "code",
   "execution_count": 456,
   "metadata": {
    "collapsed": true
   },
   "outputs": [],
   "source": [
    "pca2 = PCA(n_components=2)"
   ]
  },
  {
   "cell_type": "code",
   "execution_count": 457,
   "metadata": {
    "collapsed": true
   },
   "outputs": [],
   "source": [
    "projected2 = pca2.fit_transform(all_four)"
   ]
  },
  {
   "cell_type": "code",
   "execution_count": 458,
   "metadata": {
    "collapsed": false
   },
   "outputs": [
    {
     "data": {
      "text/html": [
       "<iframe id=\"igraph\" scrolling=\"no\" style=\"border:none;\"seamless=\"seamless\" src=\"https://plot.ly/~LIBELO6/610.embed\" height=\"525\" width=\"100%\"></iframe>"
      ],
      "text/plain": [
       "<plotly.tools.PlotlyDisplay object>"
      ]
     },
     "execution_count": 458,
     "metadata": {},
     "output_type": "execute_result"
    }
   ],
   "source": [
    "trace0 = go.Scatter(\n",
    "    x=projected2[:,0],\n",
    "    y=projected2[:,1],\n",
    "    name='Projected2',\n",
    "    mode='markers+text',\n",
    "    text=all2_notnull.index,\n",
    "    marker=go.Marker(color=oci.set_index('From')['index'][all2_notnull.index], \n",
    "                     size=15,\n",
    "                    )\n",
    ")\n",
    "layout = go.Layout(\n",
    "    title=\"California transformed PCA\"\n",
    ")\n",
    "figure = go.Figure(data=[trace0], layout=layout)\n",
    "ply.iplot(figure, filename='WeatherData/sandiego_PCA22')"
   ]
  },
  {
   "cell_type": "code",
   "execution_count": 459,
   "metadata": {
    "collapsed": false
   },
   "outputs": [
    {
     "data": {
      "text/plain": [
       "array([ 0.81150467,  0.16876275])"
      ]
     },
     "execution_count": 459,
     "metadata": {},
     "output_type": "execute_result"
    }
   ],
   "source": [
    "pca2.explained_variance_ratio_"
   ]
  },
  {
   "cell_type": "markdown",
   "metadata": {},
   "source": [
    "---"
   ]
  },
  {
   "cell_type": "code",
   "execution_count": 481,
   "metadata": {
    "collapsed": false
   },
   "outputs": [
    {
     "data": {
      "text/html": [
       "<div>\n",
       "<table border=\"1\" class=\"dataframe\">\n",
       "  <thead>\n",
       "    <tr style=\"text-align: right;\">\n",
       "      <th></th>\n",
       "      <th>STN</th>\n",
       "      <th>PRCP</th>\n",
       "      <th>WDSP</th>\n",
       "      <th>MXSPD</th>\n",
       "      <th>TEMP</th>\n",
       "    </tr>\n",
       "    <tr>\n",
       "      <th>YEARMODA</th>\n",
       "      <th></th>\n",
       "      <th></th>\n",
       "      <th></th>\n",
       "      <th></th>\n",
       "      <th></th>\n",
       "    </tr>\n",
       "  </thead>\n",
       "  <tbody>\n",
       "    <tr>\n",
       "      <th>1990-07-31</th>\n",
       "      <td>690070</td>\n",
       "      <td>0.00</td>\n",
       "      <td>5.8</td>\n",
       "      <td>8.0</td>\n",
       "      <td>47.2</td>\n",
       "    </tr>\n",
       "    <tr>\n",
       "      <th>1990-07-31</th>\n",
       "      <td>690070</td>\n",
       "      <td>0.04</td>\n",
       "      <td>1.4</td>\n",
       "      <td>4.1</td>\n",
       "      <td>48.9</td>\n",
       "    </tr>\n",
       "    <tr>\n",
       "      <th>1990-07-31</th>\n",
       "      <td>690070</td>\n",
       "      <td>0.12</td>\n",
       "      <td>2.9</td>\n",
       "      <td>8.9</td>\n",
       "      <td>47.1</td>\n",
       "    </tr>\n",
       "    <tr>\n",
       "      <th>1990-07-31</th>\n",
       "      <td>690070</td>\n",
       "      <td>0.00</td>\n",
       "      <td>4.2</td>\n",
       "      <td>7.0</td>\n",
       "      <td>52.2</td>\n",
       "    </tr>\n",
       "    <tr>\n",
       "      <th>1990-07-31</th>\n",
       "      <td>690070</td>\n",
       "      <td>0.00</td>\n",
       "      <td>1.9</td>\n",
       "      <td>8.0</td>\n",
       "      <td>53.7</td>\n",
       "    </tr>\n",
       "    <tr>\n",
       "      <th>1990-07-31</th>\n",
       "      <td>690070</td>\n",
       "      <td>0.12</td>\n",
       "      <td>5.6</td>\n",
       "      <td>18.1</td>\n",
       "      <td>51.6</td>\n",
       "    </tr>\n",
       "    <tr>\n",
       "      <th>1990-07-31</th>\n",
       "      <td>690070</td>\n",
       "      <td>0.24</td>\n",
       "      <td>2.2</td>\n",
       "      <td>7.0</td>\n",
       "      <td>49.4</td>\n",
       "    </tr>\n",
       "  </tbody>\n",
       "</table>\n",
       "</div>"
      ],
      "text/plain": [
       "               STN  PRCP  WDSP  MXSPD  TEMP\n",
       "YEARMODA                                   \n",
       "1990-07-31  690070  0.00   5.8    8.0  47.2\n",
       "1990-07-31  690070  0.04   1.4    4.1  48.9\n",
       "1990-07-31  690070  0.12   2.9    8.9  47.1\n",
       "1990-07-31  690070  0.00   4.2    7.0  52.2\n",
       "1990-07-31  690070  0.00   1.9    8.0  53.7\n",
       "1990-07-31  690070  0.12   5.6   18.1  51.6\n",
       "1990-07-31  690070  0.24   2.2    7.0  49.4"
      ]
     },
     "execution_count": 481,
     "metadata": {},
     "output_type": "execute_result"
    }
   ],
   "source": [
    "all_months[all_months['STN'] == 690070]['1991-1-2':'1991-1-10'].shift(-6, 'M')"
   ]
  },
  {
   "cell_type": "code",
   "execution_count": 479,
   "metadata": {
    "collapsed": false,
    "scrolled": true
   },
   "outputs": [],
   "source": [
    "stn_year = all_shifted.groupby('STN').resample('A').reset_index()"
   ]
  },
  {
   "cell_type": "code",
   "execution_count": 480,
   "metadata": {
    "collapsed": false
   },
   "outputs": [
    {
     "data": {
      "text/html": [
       "<div>\n",
       "<table border=\"1\" class=\"dataframe\">\n",
       "  <thead>\n",
       "    <tr style=\"text-align: right;\">\n",
       "      <th></th>\n",
       "      <th>STN</th>\n",
       "      <th>YEARMODA</th>\n",
       "      <th>MXSPD</th>\n",
       "      <th>PRCP</th>\n",
       "      <th>TEMP</th>\n",
       "      <th>WDSP</th>\n",
       "    </tr>\n",
       "  </thead>\n",
       "  <tbody>\n",
       "    <tr>\n",
       "      <th>0</th>\n",
       "      <td>690020</td>\n",
       "      <td>1989-12-31</td>\n",
       "      <td>4.824590</td>\n",
       "      <td>0.031148</td>\n",
       "      <td>50.537705</td>\n",
       "      <td>2.032787</td>\n",
       "    </tr>\n",
       "    <tr>\n",
       "      <th>1</th>\n",
       "      <td>690020</td>\n",
       "      <td>1990-12-31</td>\n",
       "      <td>5.895652</td>\n",
       "      <td>0.013043</td>\n",
       "      <td>55.636232</td>\n",
       "      <td>2.556522</td>\n",
       "    </tr>\n",
       "    <tr>\n",
       "      <th>2</th>\n",
       "      <td>690020</td>\n",
       "      <td>1991-12-31</td>\n",
       "      <td>5.342105</td>\n",
       "      <td>0.061842</td>\n",
       "      <td>56.144737</td>\n",
       "      <td>2.457895</td>\n",
       "    </tr>\n",
       "    <tr>\n",
       "      <th>3</th>\n",
       "      <td>690020</td>\n",
       "      <td>1992-12-31</td>\n",
       "      <td>6.937662</td>\n",
       "      <td>0.209211</td>\n",
       "      <td>52.902564</td>\n",
       "      <td>3.143590</td>\n",
       "    </tr>\n",
       "    <tr>\n",
       "      <th>4</th>\n",
       "      <td>690020</td>\n",
       "      <td>1993-12-31</td>\n",
       "      <td>6.886765</td>\n",
       "      <td>0.089265</td>\n",
       "      <td>52.938235</td>\n",
       "      <td>3.427941</td>\n",
       "    </tr>\n",
       "    <tr>\n",
       "      <th>5</th>\n",
       "      <td>690020</td>\n",
       "      <td>1994-12-31</td>\n",
       "      <td>7.539759</td>\n",
       "      <td>0.108313</td>\n",
       "      <td>52.168675</td>\n",
       "      <td>3.813253</td>\n",
       "    </tr>\n",
       "    <tr>\n",
       "      <th>6</th>\n",
       "      <td>690020</td>\n",
       "      <td>1995-12-31</td>\n",
       "      <td>8.098630</td>\n",
       "      <td>0.066301</td>\n",
       "      <td>56.546575</td>\n",
       "      <td>3.747945</td>\n",
       "    </tr>\n",
       "    <tr>\n",
       "      <th>7</th>\n",
       "      <td>690020</td>\n",
       "      <td>1996-12-31</td>\n",
       "      <td>7.644681</td>\n",
       "      <td>0.289787</td>\n",
       "      <td>52.355319</td>\n",
       "      <td>4.144681</td>\n",
       "    </tr>\n",
       "    <tr>\n",
       "      <th>8</th>\n",
       "      <td>690070</td>\n",
       "      <td>1990-12-31</td>\n",
       "      <td>9.363636</td>\n",
       "      <td>0.046818</td>\n",
       "      <td>51.456818</td>\n",
       "      <td>3.472727</td>\n",
       "    </tr>\n",
       "    <tr>\n",
       "      <th>9</th>\n",
       "      <td>690070</td>\n",
       "      <td>1991-12-31</td>\n",
       "      <td>9.456818</td>\n",
       "      <td>0.182273</td>\n",
       "      <td>51.554545</td>\n",
       "      <td>4.129545</td>\n",
       "    </tr>\n",
       "    <tr>\n",
       "      <th>10</th>\n",
       "      <td>690070</td>\n",
       "      <td>1992-12-31</td>\n",
       "      <td>13.162667</td>\n",
       "      <td>0.206267</td>\n",
       "      <td>51.212000</td>\n",
       "      <td>5.921333</td>\n",
       "    </tr>\n",
       "    <tr>\n",
       "      <th>11</th>\n",
       "      <td>690140</td>\n",
       "      <td>1988-12-31</td>\n",
       "      <td>10.220339</td>\n",
       "      <td>0.000000</td>\n",
       "      <td>53.069492</td>\n",
       "      <td>4.055932</td>\n",
       "    </tr>\n",
       "    <tr>\n",
       "      <th>12</th>\n",
       "      <td>690140</td>\n",
       "      <td>1989-12-31</td>\n",
       "      <td>9.947107</td>\n",
       "      <td>0.050252</td>\n",
       "      <td>57.876033</td>\n",
       "      <td>4.033058</td>\n",
       "    </tr>\n",
       "    <tr>\n",
       "      <th>13</th>\n",
       "      <td>690140</td>\n",
       "      <td>1990-12-31</td>\n",
       "      <td>9.875833</td>\n",
       "      <td>0.043833</td>\n",
       "      <td>58.815833</td>\n",
       "      <td>4.151667</td>\n",
       "    </tr>\n",
       "    <tr>\n",
       "      <th>14</th>\n",
       "      <td>690140</td>\n",
       "      <td>1991-12-31</td>\n",
       "      <td>9.728099</td>\n",
       "      <td>0.058595</td>\n",
       "      <td>60.457025</td>\n",
       "      <td>3.607438</td>\n",
       "    </tr>\n",
       "    <tr>\n",
       "      <th>15</th>\n",
       "      <td>690140</td>\n",
       "      <td>1992-12-31</td>\n",
       "      <td>10.174167</td>\n",
       "      <td>0.230083</td>\n",
       "      <td>58.304167</td>\n",
       "      <td>4.129167</td>\n",
       "    </tr>\n",
       "    <tr>\n",
       "      <th>16</th>\n",
       "      <td>690140</td>\n",
       "      <td>1993-12-31</td>\n",
       "      <td>7.715702</td>\n",
       "      <td>0.056116</td>\n",
       "      <td>60.256198</td>\n",
       "      <td>3.102479</td>\n",
       "    </tr>\n",
       "    <tr>\n",
       "      <th>17</th>\n",
       "      <td>690140</td>\n",
       "      <td>1994-12-31</td>\n",
       "      <td>7.322500</td>\n",
       "      <td>0.146083</td>\n",
       "      <td>56.559167</td>\n",
       "      <td>2.829167</td>\n",
       "    </tr>\n",
       "    <tr>\n",
       "      <th>18</th>\n",
       "      <td>690140</td>\n",
       "      <td>1995-12-31</td>\n",
       "      <td>6.478512</td>\n",
       "      <td>0.062645</td>\n",
       "      <td>58.158678</td>\n",
       "      <td>2.976860</td>\n",
       "    </tr>\n",
       "    <tr>\n",
       "      <th>19</th>\n",
       "      <td>690140</td>\n",
       "      <td>1996-12-31</td>\n",
       "      <td>6.775000</td>\n",
       "      <td>0.120169</td>\n",
       "      <td>57.684167</td>\n",
       "      <td>2.969167</td>\n",
       "    </tr>\n",
       "    <tr>\n",
       "      <th>20</th>\n",
       "      <td>690140</td>\n",
       "      <td>1997-12-31</td>\n",
       "      <td>10.099174</td>\n",
       "      <td>0.180165</td>\n",
       "      <td>57.630579</td>\n",
       "      <td>3.828926</td>\n",
       "    </tr>\n",
       "    <tr>\n",
       "      <th>21</th>\n",
       "      <td>690140</td>\n",
       "      <td>1998-12-31</td>\n",
       "      <td>6.372727</td>\n",
       "      <td>0.011684</td>\n",
       "      <td>57.768687</td>\n",
       "      <td>2.697980</td>\n",
       "    </tr>\n",
       "    <tr>\n",
       "      <th>22</th>\n",
       "      <td>690150</td>\n",
       "      <td>1989-12-31</td>\n",
       "      <td>13.413750</td>\n",
       "      <td>0.006500</td>\n",
       "      <td>49.997500</td>\n",
       "      <td>5.522500</td>\n",
       "    </tr>\n",
       "    <tr>\n",
       "      <th>23</th>\n",
       "      <td>690150</td>\n",
       "      <td>1990-12-31</td>\n",
       "      <td>11.381579</td>\n",
       "      <td>0.000759</td>\n",
       "      <td>58.413924</td>\n",
       "      <td>5.558228</td>\n",
       "    </tr>\n",
       "    <tr>\n",
       "      <th>24</th>\n",
       "      <td>690150</td>\n",
       "      <td>1991-12-31</td>\n",
       "      <td>10.073077</td>\n",
       "      <td>0.027087</td>\n",
       "      <td>55.096154</td>\n",
       "      <td>4.242308</td>\n",
       "    </tr>\n",
       "    <tr>\n",
       "      <th>25</th>\n",
       "      <td>690150</td>\n",
       "      <td>1992-12-31</td>\n",
       "      <td>11.402062</td>\n",
       "      <td>0.026667</td>\n",
       "      <td>52.196907</td>\n",
       "      <td>5.001031</td>\n",
       "    </tr>\n",
       "    <tr>\n",
       "      <th>26</th>\n",
       "      <td>690150</td>\n",
       "      <td>1993-12-31</td>\n",
       "      <td>11.764151</td>\n",
       "      <td>0.007170</td>\n",
       "      <td>52.463208</td>\n",
       "      <td>4.909434</td>\n",
       "    </tr>\n",
       "    <tr>\n",
       "      <th>27</th>\n",
       "      <td>690150</td>\n",
       "      <td>1994-12-31</td>\n",
       "      <td>11.077778</td>\n",
       "      <td>0.007191</td>\n",
       "      <td>55.678889</td>\n",
       "      <td>5.378889</td>\n",
       "    </tr>\n",
       "    <tr>\n",
       "      <th>28</th>\n",
       "      <td>690150</td>\n",
       "      <td>1995-12-31</td>\n",
       "      <td>12.534234</td>\n",
       "      <td>0.005315</td>\n",
       "      <td>56.734234</td>\n",
       "      <td>4.834234</td>\n",
       "    </tr>\n",
       "    <tr>\n",
       "      <th>29</th>\n",
       "      <td>690150</td>\n",
       "      <td>1996-12-31</td>\n",
       "      <td>14.704630</td>\n",
       "      <td>0.006168</td>\n",
       "      <td>54.109259</td>\n",
       "      <td>6.307407</td>\n",
       "    </tr>\n",
       "    <tr>\n",
       "      <th>...</th>\n",
       "      <td>...</td>\n",
       "      <td>...</td>\n",
       "      <td>...</td>\n",
       "      <td>...</td>\n",
       "      <td>...</td>\n",
       "      <td>...</td>\n",
       "    </tr>\n",
       "    <tr>\n",
       "      <th>4245</th>\n",
       "      <td>999999</td>\n",
       "      <td>1985-12-31</td>\n",
       "      <td>8.334298</td>\n",
       "      <td>0.000000</td>\n",
       "      <td>58.175620</td>\n",
       "      <td>3.190909</td>\n",
       "    </tr>\n",
       "    <tr>\n",
       "      <th>4246</th>\n",
       "      <td>999999</td>\n",
       "      <td>1986-12-31</td>\n",
       "      <td>8.396667</td>\n",
       "      <td>0.000000</td>\n",
       "      <td>57.034583</td>\n",
       "      <td>3.242083</td>\n",
       "    </tr>\n",
       "    <tr>\n",
       "      <th>4247</th>\n",
       "      <td>999999</td>\n",
       "      <td>1987-12-31</td>\n",
       "      <td>9.142975</td>\n",
       "      <td>0.000000</td>\n",
       "      <td>55.278512</td>\n",
       "      <td>3.575207</td>\n",
       "    </tr>\n",
       "    <tr>\n",
       "      <th>4248</th>\n",
       "      <td>999999</td>\n",
       "      <td>1988-12-31</td>\n",
       "      <td>8.753279</td>\n",
       "      <td>0.000000</td>\n",
       "      <td>55.949180</td>\n",
       "      <td>3.389344</td>\n",
       "    </tr>\n",
       "    <tr>\n",
       "      <th>4249</th>\n",
       "      <td>999999</td>\n",
       "      <td>1989-12-31</td>\n",
       "      <td>NaN</td>\n",
       "      <td>NaN</td>\n",
       "      <td>NaN</td>\n",
       "      <td>NaN</td>\n",
       "    </tr>\n",
       "    <tr>\n",
       "      <th>4250</th>\n",
       "      <td>999999</td>\n",
       "      <td>1990-12-31</td>\n",
       "      <td>NaN</td>\n",
       "      <td>NaN</td>\n",
       "      <td>NaN</td>\n",
       "      <td>NaN</td>\n",
       "    </tr>\n",
       "    <tr>\n",
       "      <th>4251</th>\n",
       "      <td>999999</td>\n",
       "      <td>1991-12-31</td>\n",
       "      <td>NaN</td>\n",
       "      <td>NaN</td>\n",
       "      <td>NaN</td>\n",
       "      <td>NaN</td>\n",
       "    </tr>\n",
       "    <tr>\n",
       "      <th>4252</th>\n",
       "      <td>999999</td>\n",
       "      <td>1992-12-31</td>\n",
       "      <td>NaN</td>\n",
       "      <td>NaN</td>\n",
       "      <td>NaN</td>\n",
       "      <td>NaN</td>\n",
       "    </tr>\n",
       "    <tr>\n",
       "      <th>4253</th>\n",
       "      <td>999999</td>\n",
       "      <td>1993-12-31</td>\n",
       "      <td>NaN</td>\n",
       "      <td>NaN</td>\n",
       "      <td>NaN</td>\n",
       "      <td>NaN</td>\n",
       "    </tr>\n",
       "    <tr>\n",
       "      <th>4254</th>\n",
       "      <td>999999</td>\n",
       "      <td>1994-12-31</td>\n",
       "      <td>NaN</td>\n",
       "      <td>NaN</td>\n",
       "      <td>NaN</td>\n",
       "      <td>NaN</td>\n",
       "    </tr>\n",
       "    <tr>\n",
       "      <th>4255</th>\n",
       "      <td>999999</td>\n",
       "      <td>1995-12-31</td>\n",
       "      <td>NaN</td>\n",
       "      <td>NaN</td>\n",
       "      <td>NaN</td>\n",
       "      <td>NaN</td>\n",
       "    </tr>\n",
       "    <tr>\n",
       "      <th>4256</th>\n",
       "      <td>999999</td>\n",
       "      <td>1996-12-31</td>\n",
       "      <td>NaN</td>\n",
       "      <td>NaN</td>\n",
       "      <td>NaN</td>\n",
       "      <td>NaN</td>\n",
       "    </tr>\n",
       "    <tr>\n",
       "      <th>4257</th>\n",
       "      <td>999999</td>\n",
       "      <td>1997-12-31</td>\n",
       "      <td>NaN</td>\n",
       "      <td>NaN</td>\n",
       "      <td>NaN</td>\n",
       "      <td>NaN</td>\n",
       "    </tr>\n",
       "    <tr>\n",
       "      <th>4258</th>\n",
       "      <td>999999</td>\n",
       "      <td>1998-12-31</td>\n",
       "      <td>NaN</td>\n",
       "      <td>NaN</td>\n",
       "      <td>NaN</td>\n",
       "      <td>NaN</td>\n",
       "    </tr>\n",
       "    <tr>\n",
       "      <th>4259</th>\n",
       "      <td>999999</td>\n",
       "      <td>1999-12-31</td>\n",
       "      <td>6.042623</td>\n",
       "      <td>0.000000</td>\n",
       "      <td>58.575410</td>\n",
       "      <td>1.331148</td>\n",
       "    </tr>\n",
       "    <tr>\n",
       "      <th>4260</th>\n",
       "      <td>999999</td>\n",
       "      <td>2000-12-31</td>\n",
       "      <td>NaN</td>\n",
       "      <td>NaN</td>\n",
       "      <td>NaN</td>\n",
       "      <td>NaN</td>\n",
       "    </tr>\n",
       "    <tr>\n",
       "      <th>4261</th>\n",
       "      <td>999999</td>\n",
       "      <td>2001-12-31</td>\n",
       "      <td>NaN</td>\n",
       "      <td>NaN</td>\n",
       "      <td>NaN</td>\n",
       "      <td>NaN</td>\n",
       "    </tr>\n",
       "    <tr>\n",
       "      <th>4262</th>\n",
       "      <td>999999</td>\n",
       "      <td>2002-12-31</td>\n",
       "      <td>NaN</td>\n",
       "      <td>NaN</td>\n",
       "      <td>NaN</td>\n",
       "      <td>NaN</td>\n",
       "    </tr>\n",
       "    <tr>\n",
       "      <th>4263</th>\n",
       "      <td>999999</td>\n",
       "      <td>2003-12-31</td>\n",
       "      <td>3.673504</td>\n",
       "      <td>0.351111</td>\n",
       "      <td>43.326496</td>\n",
       "      <td>2.214530</td>\n",
       "    </tr>\n",
       "    <tr>\n",
       "      <th>4264</th>\n",
       "      <td>999999</td>\n",
       "      <td>2004-12-31</td>\n",
       "      <td>6.962679</td>\n",
       "      <td>0.120933</td>\n",
       "      <td>50.195215</td>\n",
       "      <td>3.442344</td>\n",
       "    </tr>\n",
       "    <tr>\n",
       "      <th>4265</th>\n",
       "      <td>999999</td>\n",
       "      <td>2005-12-31</td>\n",
       "      <td>9.558607</td>\n",
       "      <td>0.066751</td>\n",
       "      <td>53.096258</td>\n",
       "      <td>4.368163</td>\n",
       "    </tr>\n",
       "    <tr>\n",
       "      <th>4266</th>\n",
       "      <td>999999</td>\n",
       "      <td>2006-12-31</td>\n",
       "      <td>NaN</td>\n",
       "      <td>0.068250</td>\n",
       "      <td>49.387778</td>\n",
       "      <td>NaN</td>\n",
       "    </tr>\n",
       "    <tr>\n",
       "      <th>4267</th>\n",
       "      <td>999999</td>\n",
       "      <td>2007-12-31</td>\n",
       "      <td>NaN</td>\n",
       "      <td>0.125599</td>\n",
       "      <td>46.478926</td>\n",
       "      <td>NaN</td>\n",
       "    </tr>\n",
       "    <tr>\n",
       "      <th>4268</th>\n",
       "      <td>999999</td>\n",
       "      <td>2008-12-31</td>\n",
       "      <td>NaN</td>\n",
       "      <td>0.110499</td>\n",
       "      <td>50.505116</td>\n",
       "      <td>NaN</td>\n",
       "    </tr>\n",
       "    <tr>\n",
       "      <th>4269</th>\n",
       "      <td>999999</td>\n",
       "      <td>2009-12-31</td>\n",
       "      <td>NaN</td>\n",
       "      <td>0.138477</td>\n",
       "      <td>49.476387</td>\n",
       "      <td>NaN</td>\n",
       "    </tr>\n",
       "    <tr>\n",
       "      <th>4270</th>\n",
       "      <td>999999</td>\n",
       "      <td>2010-12-31</td>\n",
       "      <td>NaN</td>\n",
       "      <td>0.129249</td>\n",
       "      <td>49.208701</td>\n",
       "      <td>NaN</td>\n",
       "    </tr>\n",
       "    <tr>\n",
       "      <th>4271</th>\n",
       "      <td>999999</td>\n",
       "      <td>2011-12-31</td>\n",
       "      <td>NaN</td>\n",
       "      <td>0.055171</td>\n",
       "      <td>49.226564</td>\n",
       "      <td>NaN</td>\n",
       "    </tr>\n",
       "    <tr>\n",
       "      <th>4272</th>\n",
       "      <td>999999</td>\n",
       "      <td>2012-12-31</td>\n",
       "      <td>NaN</td>\n",
       "      <td>0.110357</td>\n",
       "      <td>49.262143</td>\n",
       "      <td>NaN</td>\n",
       "    </tr>\n",
       "    <tr>\n",
       "      <th>4273</th>\n",
       "      <td>999999</td>\n",
       "      <td>2013-12-31</td>\n",
       "      <td>NaN</td>\n",
       "      <td>0.046976</td>\n",
       "      <td>51.651190</td>\n",
       "      <td>NaN</td>\n",
       "    </tr>\n",
       "    <tr>\n",
       "      <th>4274</th>\n",
       "      <td>999999</td>\n",
       "      <td>2014-12-31</td>\n",
       "      <td>9.595082</td>\n",
       "      <td>0.137827</td>\n",
       "      <td>54.387044</td>\n",
       "      <td>3.418852</td>\n",
       "    </tr>\n",
       "  </tbody>\n",
       "</table>\n",
       "<p>4275 rows × 6 columns</p>\n",
       "</div>"
      ],
      "text/plain": [
       "         STN   YEARMODA      MXSPD      PRCP       TEMP      WDSP\n",
       "0     690020 1989-12-31   4.824590  0.031148  50.537705  2.032787\n",
       "1     690020 1990-12-31   5.895652  0.013043  55.636232  2.556522\n",
       "2     690020 1991-12-31   5.342105  0.061842  56.144737  2.457895\n",
       "3     690020 1992-12-31   6.937662  0.209211  52.902564  3.143590\n",
       "4     690020 1993-12-31   6.886765  0.089265  52.938235  3.427941\n",
       "5     690020 1994-12-31   7.539759  0.108313  52.168675  3.813253\n",
       "6     690020 1995-12-31   8.098630  0.066301  56.546575  3.747945\n",
       "7     690020 1996-12-31   7.644681  0.289787  52.355319  4.144681\n",
       "8     690070 1990-12-31   9.363636  0.046818  51.456818  3.472727\n",
       "9     690070 1991-12-31   9.456818  0.182273  51.554545  4.129545\n",
       "10    690070 1992-12-31  13.162667  0.206267  51.212000  5.921333\n",
       "11    690140 1988-12-31  10.220339  0.000000  53.069492  4.055932\n",
       "12    690140 1989-12-31   9.947107  0.050252  57.876033  4.033058\n",
       "13    690140 1990-12-31   9.875833  0.043833  58.815833  4.151667\n",
       "14    690140 1991-12-31   9.728099  0.058595  60.457025  3.607438\n",
       "15    690140 1992-12-31  10.174167  0.230083  58.304167  4.129167\n",
       "16    690140 1993-12-31   7.715702  0.056116  60.256198  3.102479\n",
       "17    690140 1994-12-31   7.322500  0.146083  56.559167  2.829167\n",
       "18    690140 1995-12-31   6.478512  0.062645  58.158678  2.976860\n",
       "19    690140 1996-12-31   6.775000  0.120169  57.684167  2.969167\n",
       "20    690140 1997-12-31  10.099174  0.180165  57.630579  3.828926\n",
       "21    690140 1998-12-31   6.372727  0.011684  57.768687  2.697980\n",
       "22    690150 1989-12-31  13.413750  0.006500  49.997500  5.522500\n",
       "23    690150 1990-12-31  11.381579  0.000759  58.413924  5.558228\n",
       "24    690150 1991-12-31  10.073077  0.027087  55.096154  4.242308\n",
       "25    690150 1992-12-31  11.402062  0.026667  52.196907  5.001031\n",
       "26    690150 1993-12-31  11.764151  0.007170  52.463208  4.909434\n",
       "27    690150 1994-12-31  11.077778  0.007191  55.678889  5.378889\n",
       "28    690150 1995-12-31  12.534234  0.005315  56.734234  4.834234\n",
       "29    690150 1996-12-31  14.704630  0.006168  54.109259  6.307407\n",
       "...      ...        ...        ...       ...        ...       ...\n",
       "4245  999999 1985-12-31   8.334298  0.000000  58.175620  3.190909\n",
       "4246  999999 1986-12-31   8.396667  0.000000  57.034583  3.242083\n",
       "4247  999999 1987-12-31   9.142975  0.000000  55.278512  3.575207\n",
       "4248  999999 1988-12-31   8.753279  0.000000  55.949180  3.389344\n",
       "4249  999999 1989-12-31        NaN       NaN        NaN       NaN\n",
       "4250  999999 1990-12-31        NaN       NaN        NaN       NaN\n",
       "4251  999999 1991-12-31        NaN       NaN        NaN       NaN\n",
       "4252  999999 1992-12-31        NaN       NaN        NaN       NaN\n",
       "4253  999999 1993-12-31        NaN       NaN        NaN       NaN\n",
       "4254  999999 1994-12-31        NaN       NaN        NaN       NaN\n",
       "4255  999999 1995-12-31        NaN       NaN        NaN       NaN\n",
       "4256  999999 1996-12-31        NaN       NaN        NaN       NaN\n",
       "4257  999999 1997-12-31        NaN       NaN        NaN       NaN\n",
       "4258  999999 1998-12-31        NaN       NaN        NaN       NaN\n",
       "4259  999999 1999-12-31   6.042623  0.000000  58.575410  1.331148\n",
       "4260  999999 2000-12-31        NaN       NaN        NaN       NaN\n",
       "4261  999999 2001-12-31        NaN       NaN        NaN       NaN\n",
       "4262  999999 2002-12-31        NaN       NaN        NaN       NaN\n",
       "4263  999999 2003-12-31   3.673504  0.351111  43.326496  2.214530\n",
       "4264  999999 2004-12-31   6.962679  0.120933  50.195215  3.442344\n",
       "4265  999999 2005-12-31   9.558607  0.066751  53.096258  4.368163\n",
       "4266  999999 2006-12-31        NaN  0.068250  49.387778       NaN\n",
       "4267  999999 2007-12-31        NaN  0.125599  46.478926       NaN\n",
       "4268  999999 2008-12-31        NaN  0.110499  50.505116       NaN\n",
       "4269  999999 2009-12-31        NaN  0.138477  49.476387       NaN\n",
       "4270  999999 2010-12-31        NaN  0.129249  49.208701       NaN\n",
       "4271  999999 2011-12-31        NaN  0.055171  49.226564       NaN\n",
       "4272  999999 2012-12-31        NaN  0.110357  49.262143       NaN\n",
       "4273  999999 2013-12-31        NaN  0.046976  51.651190       NaN\n",
       "4274  999999 2014-12-31   9.595082  0.137827  54.387044  3.418852\n",
       "\n",
       "[4275 rows x 6 columns]"
      ]
     },
     "execution_count": 480,
     "metadata": {},
     "output_type": "execute_result"
    }
   ],
   "source": [
    "stn_year"
   ]
  },
  {
   "cell_type": "code",
   "execution_count": null,
   "metadata": {
    "collapsed": true
   },
   "outputs": [],
   "source": []
  }
 ],
 "metadata": {
  "kernelspec": {
   "display_name": "Python 3",
   "language": "python",
   "name": "python3"
  },
  "language_info": {
   "codemirror_mode": {
    "name": "ipython",
    "version": 3
   },
   "file_extension": ".py",
   "mimetype": "text/x-python",
   "name": "python",
   "nbconvert_exporter": "python",
   "pygments_lexer": "ipython3",
   "version": "3.4.3"
  }
 },
 "nbformat": 4,
 "nbformat_minor": 0
}
