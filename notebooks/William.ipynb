{
 "cells": [
  {
   "cell_type": "code",
   "execution_count": 1,
   "metadata": {
    "collapsed": true
   },
   "outputs": [],
   "source": [
    "import pandas as pd"
   ]
  },
  {
   "cell_type": "code",
   "execution_count": 2,
   "metadata": {
    "collapsed": false
   },
   "outputs": [],
   "source": [
    "def preprocess(filename):\n",
    "    \"\"\"Preprocess NCDC weather data\"\"\"\n",
    "\n",
    "    fields = ['STN', 'WBAN', 'YEARMODA', 'TEMP', 'TEMP_count', 'DEWP', 'DEWP_count', 'SLP', 'SLP_count', 'STP', 'STP_count', 'VISIB', 'VISIB_count', 'WDSP', 'WDSP_count', 'MXSPD', 'GUST', 'MAX', 'MIN', 'PRCP', 'SNDP', 'FRSHTT']\n",
    "     \n",
    "    df = pd.read_csv(filename, \n",
    "                  sep=r'\\s+', \n",
    "                  names=fields, \n",
    "                  header=0, \n",
    "                  parse_dates=['YEARMODA'], \n",
    "                  na_values={'TEMP':[9999.9], \n",
    "                             'DEWP':[9999.9], \n",
    "                             'SLP':[9999.9], \n",
    "                             'STP':[9999.9], \n",
    "                             'VISIB':[999.9], \n",
    "                             'WDSP':[999.9], \n",
    "                             'MXSPD':[999.9], \n",
    "                             'GUST':[999.9], \n",
    "                             'MAX':['9999.9'], # doesn't matter whether float or str\n",
    "                             'MIN':['9999.9'], \n",
    "                             'PRCP':['99.99'],\n",
    "                             'SNDP':[999.9]}\n",
    "                 )\n",
    "    flagged = df.copy()\n",
    " \n",
    "    def strip_flag(x):\n",
    "        if type(x) is float:\n",
    "            return x\n",
    "        elif type(x) is str:\n",
    "            return float(x[:-1]) if '*' in x else float(x)\n",
    "    def extract_flag(x):\n",
    "        if type(x) is float:\n",
    "            return False\n",
    "        elif type(x) is str:\n",
    "            return True if '*' in x else False\n",
    "     \n",
    "    flagged['MAX'] = df['MAX'].map(strip_flag)\n",
    "    flagged['MAX_flag'] = df['MAX'].map(extract_flag)\n",
    "    flagged['MIN'] = df['MIN'].map(strip_flag)\n",
    "    flagged['MIN_flag'] = df['MIN'].map(extract_flag)\n",
    "     \n",
    "    flagged['PRCP'] = df['PRCP'].map(lambda x: float(x[:-1]) if type(x) is str else x)\n",
    "    PRCP_flag = df['PRCP'].map(lambda x: x[-1] if type(x) is str else x)\n",
    "    PRCP_dummies = pd.get_dummies(PRCP_flag).add_prefix('PRCP_')\n",
    "    preprocessed = flagged.join(PRCP_dummies)\n",
    "    \n",
    "    return preprocessed"
   ]
  },
  {
   "cell_type": "code",
   "execution_count": 3,
   "metadata": {
    "collapsed": false
   },
   "outputs": [],
   "source": [
    "dfs = []\n",
    "dfs.append(preprocess('CA_1981-1985.txt'))\n",
    "dfs.append(preprocess('CA_1985-1989.txt'))\n",
    "dfs.append(preprocess('CA_1989-1993.txt'))\n",
    "dfs.append(preprocess('CA_1993-1997.txt'))\n",
    "dfs.append(preprocess('CA_1997-2001.txt'))\n",
    "dfs.append(preprocess('CA_2001-2005.txt'))\n",
    "dfs.append(preprocess('CA_2005-2009.txt'))\n",
    "dfs.append(preprocess('CA_2009-2015.txt'))"
   ]
  },
  {
   "cell_type": "code",
   "execution_count": 4,
   "metadata": {
    "collapsed": false
   },
   "outputs": [
    {
     "name": "stdout",
     "output_type": "stream",
     "text": [
      "(1370304, 31)\n"
     ]
    }
   ],
   "source": [
    "df = pd.concat(dfs)\n",
    "print df.shape"
   ]
  },
  {
   "cell_type": "code",
   "execution_count": 5,
   "metadata": {
    "collapsed": false
   },
   "outputs": [],
   "source": [
    "df.head()\n",
    "df = df.dropna(axis=0)"
   ]
  },
  {
   "cell_type": "code",
   "execution_count": 6,
   "metadata": {
    "collapsed": false
   },
   "outputs": [
    {
     "data": {
      "text/html": [
       "<div style=\"max-height:1000px;max-width:1500px;overflow:auto;\">\n",
       "<table border=\"1\" class=\"dataframe\">\n",
       "  <thead>\n",
       "    <tr style=\"text-align: right;\">\n",
       "      <th></th>\n",
       "      <th>STN</th>\n",
       "      <th>YEARMODA</th>\n",
       "      <th>TEMP</th>\n",
       "      <th>DEWP</th>\n",
       "      <th>VISIB</th>\n",
       "      <th>WDSP</th>\n",
       "      <th>GUST</th>\n",
       "      <th>MAX</th>\n",
       "      <th>MIN</th>\n",
       "      <th>PRCP</th>\n",
       "    </tr>\n",
       "  </thead>\n",
       "  <tbody>\n",
       "    <tr>\n",
       "      <th>14239 </th>\n",
       "      <td> 722900</td>\n",
       "      <td>1983-11-20</td>\n",
       "      <td> 63.9</td>\n",
       "      <td> 55.7</td>\n",
       "      <td>  9.2</td>\n",
       "      <td>  7.9</td>\n",
       "      <td> 22.9</td>\n",
       "      <td> 72.9</td>\n",
       "      <td> 60.1</td>\n",
       "      <td> 0.22</td>\n",
       "    </tr>\n",
       "    <tr>\n",
       "      <th>14240 </th>\n",
       "      <td> 722900</td>\n",
       "      <td>1983-11-21</td>\n",
       "      <td> 60.4</td>\n",
       "      <td> 46.5</td>\n",
       "      <td> 10.9</td>\n",
       "      <td> 14.1</td>\n",
       "      <td> 29.9</td>\n",
       "      <td> 69.1</td>\n",
       "      <td> 54.0</td>\n",
       "      <td> 0.48</td>\n",
       "    </tr>\n",
       "    <tr>\n",
       "      <th>14390 </th>\n",
       "      <td> 722900</td>\n",
       "      <td>1984-04-19</td>\n",
       "      <td> 63.9</td>\n",
       "      <td> 53.8</td>\n",
       "      <td> 11.4</td>\n",
       "      <td> 11.5</td>\n",
       "      <td> 24.1</td>\n",
       "      <td> 68.0</td>\n",
       "      <td> 60.1</td>\n",
       "      <td> 0.11</td>\n",
       "    </tr>\n",
       "    <tr>\n",
       "      <th>98918 </th>\n",
       "      <td> 725910</td>\n",
       "      <td>1985-04-21</td>\n",
       "      <td> 52.5</td>\n",
       "      <td> 41.2</td>\n",
       "      <td> 13.0</td>\n",
       "      <td> 11.6</td>\n",
       "      <td> 18.1</td>\n",
       "      <td> 60.1</td>\n",
       "      <td> 46.9</td>\n",
       "      <td> 0.03</td>\n",
       "    </tr>\n",
       "    <tr>\n",
       "      <th>71115 </th>\n",
       "      <td> 724800</td>\n",
       "      <td>1987-12-16</td>\n",
       "      <td> 30.1</td>\n",
       "      <td> 17.0</td>\n",
       "      <td> 13.3</td>\n",
       "      <td> 15.0</td>\n",
       "      <td> 33.0</td>\n",
       "      <td> 33.1</td>\n",
       "      <td> 23.0</td>\n",
       "      <td> 0.01</td>\n",
       "    </tr>\n",
       "    <tr>\n",
       "      <th>75304 </th>\n",
       "      <td> 724800</td>\n",
       "      <td>1992-12-30</td>\n",
       "      <td> 33.1</td>\n",
       "      <td> 24.6</td>\n",
       "      <td> 42.8</td>\n",
       "      <td>  6.3</td>\n",
       "      <td> 19.8</td>\n",
       "      <td> 41.9</td>\n",
       "      <td> 23.0</td>\n",
       "      <td> 0.35</td>\n",
       "    </tr>\n",
       "    <tr>\n",
       "      <th>73152 </th>\n",
       "      <td> 724800</td>\n",
       "      <td>1994-03-25</td>\n",
       "      <td> 38.0</td>\n",
       "      <td> 32.4</td>\n",
       "      <td>  8.3</td>\n",
       "      <td>  6.9</td>\n",
       "      <td> 23.9</td>\n",
       "      <td> 54.9</td>\n",
       "      <td> 32.0</td>\n",
       "      <td> 0.08</td>\n",
       "    </tr>\n",
       "    <tr>\n",
       "      <th>49910 </th>\n",
       "      <td> 723815</td>\n",
       "      <td>1999-10-07</td>\n",
       "      <td> 68.3</td>\n",
       "      <td> 37.8</td>\n",
       "      <td> 29.4</td>\n",
       "      <td> 12.2</td>\n",
       "      <td> 35.9</td>\n",
       "      <td> 82.2</td>\n",
       "      <td> 55.2</td>\n",
       "      <td> 0.00</td>\n",
       "    </tr>\n",
       "    <tr>\n",
       "      <th>49931 </th>\n",
       "      <td> 723815</td>\n",
       "      <td>1999-10-28</td>\n",
       "      <td> 71.9</td>\n",
       "      <td> 42.1</td>\n",
       "      <td> 24.9</td>\n",
       "      <td> 13.4</td>\n",
       "      <td> 35.0</td>\n",
       "      <td> 85.5</td>\n",
       "      <td> 60.8</td>\n",
       "      <td> 0.00</td>\n",
       "    </tr>\n",
       "    <tr>\n",
       "      <th>55442 </th>\n",
       "      <td> 723830</td>\n",
       "      <td>1999-10-04</td>\n",
       "      <td> 74.6</td>\n",
       "      <td> 39.0</td>\n",
       "      <td> 10.0</td>\n",
       "      <td> 13.4</td>\n",
       "      <td> 23.9</td>\n",
       "      <td> 82.0</td>\n",
       "      <td> 55.9</td>\n",
       "      <td> 0.00</td>\n",
       "    </tr>\n",
       "    <tr>\n",
       "      <th>76514 </th>\n",
       "      <td> 724800</td>\n",
       "      <td>1999-09-27</td>\n",
       "      <td> 74.0</td>\n",
       "      <td> 26.8</td>\n",
       "      <td>  9.9</td>\n",
       "      <td>  7.9</td>\n",
       "      <td> 20.0</td>\n",
       "      <td> 93.0</td>\n",
       "      <td> 54.0</td>\n",
       "      <td> 0.00</td>\n",
       "    </tr>\n",
       "    <tr>\n",
       "      <th>76521 </th>\n",
       "      <td> 724800</td>\n",
       "      <td>1999-10-04</td>\n",
       "      <td> 64.7</td>\n",
       "      <td> 19.0</td>\n",
       "      <td>  9.9</td>\n",
       "      <td>  6.8</td>\n",
       "      <td> 16.9</td>\n",
       "      <td> 87.1</td>\n",
       "      <td> 41.0</td>\n",
       "      <td> 0.00</td>\n",
       "    </tr>\n",
       "    <tr>\n",
       "      <th>117838</th>\n",
       "      <td> 725945</td>\n",
       "      <td>1999-10-27</td>\n",
       "      <td> 56.7</td>\n",
       "      <td> 54.0</td>\n",
       "      <td>  8.2</td>\n",
       "      <td>  8.2</td>\n",
       "      <td> 28.0</td>\n",
       "      <td> 66.4</td>\n",
       "      <td> 44.8</td>\n",
       "      <td> 0.14</td>\n",
       "    </tr>\n",
       "    <tr>\n",
       "      <th>117839</th>\n",
       "      <td> 725945</td>\n",
       "      <td>1999-10-28</td>\n",
       "      <td> 57.0</td>\n",
       "      <td> 52.1</td>\n",
       "      <td>  6.2</td>\n",
       "      <td> 10.4</td>\n",
       "      <td> 23.9</td>\n",
       "      <td> 61.0</td>\n",
       "      <td> 52.2</td>\n",
       "      <td> 1.08</td>\n",
       "    </tr>\n",
       "    <tr>\n",
       "      <th>14099 </th>\n",
       "      <td> 722874</td>\n",
       "      <td>2006-03-11</td>\n",
       "      <td> 47.9</td>\n",
       "      <td> 38.5</td>\n",
       "      <td>  9.8</td>\n",
       "      <td>  2.7</td>\n",
       "      <td> 15.9</td>\n",
       "      <td> 55.0</td>\n",
       "      <td> 43.0</td>\n",
       "      <td> 0.14</td>\n",
       "    </tr>\n",
       "    <tr>\n",
       "      <th>58591 </th>\n",
       "      <td> 723810</td>\n",
       "      <td>2008-12-17</td>\n",
       "      <td> 36.9</td>\n",
       "      <td> 35.2</td>\n",
       "      <td> 13.1</td>\n",
       "      <td> 10.5</td>\n",
       "      <td> 22.0</td>\n",
       "      <td> 43.2</td>\n",
       "      <td> 32.0</td>\n",
       "      <td> 0.03</td>\n",
       "    </tr>\n",
       "    <tr>\n",
       "      <th>58593 </th>\n",
       "      <td> 723810</td>\n",
       "      <td>2008-12-19</td>\n",
       "      <td> 36.2</td>\n",
       "      <td> 29.8</td>\n",
       "      <td> 41.3</td>\n",
       "      <td> 11.7</td>\n",
       "      <td> 32.1</td>\n",
       "      <td> 48.2</td>\n",
       "      <td> 28.6</td>\n",
       "      <td> 0.00</td>\n",
       "    </tr>\n",
       "    <tr>\n",
       "      <th>82814 </th>\n",
       "      <td> 723940</td>\n",
       "      <td>2006-03-11</td>\n",
       "      <td> 43.8</td>\n",
       "      <td> 36.8</td>\n",
       "      <td>  8.5</td>\n",
       "      <td>  5.6</td>\n",
       "      <td> 18.8</td>\n",
       "      <td> 54.0</td>\n",
       "      <td> 39.0</td>\n",
       "      <td> 0.25</td>\n",
       "    </tr>\n",
       "    <tr>\n",
       "      <th>82834 </th>\n",
       "      <td> 723940</td>\n",
       "      <td>2006-03-31</td>\n",
       "      <td> 54.6</td>\n",
       "      <td> 46.7</td>\n",
       "      <td>  9.5</td>\n",
       "      <td>  5.3</td>\n",
       "      <td> 20.8</td>\n",
       "      <td> 62.1</td>\n",
       "      <td> 45.0</td>\n",
       "      <td> 0.03</td>\n",
       "    </tr>\n",
       "    <tr>\n",
       "      <th>114578</th>\n",
       "      <td> 723810</td>\n",
       "      <td>2011-01-03</td>\n",
       "      <td> 33.9</td>\n",
       "      <td> 31.5</td>\n",
       "      <td> 16.6</td>\n",
       "      <td>  5.6</td>\n",
       "      <td> 19.0</td>\n",
       "      <td> 41.0</td>\n",
       "      <td> 29.5</td>\n",
       "      <td> 0.02</td>\n",
       "    </tr>\n",
       "    <tr>\n",
       "      <th>158170</th>\n",
       "      <td> 724800</td>\n",
       "      <td>2011-04-10</td>\n",
       "      <td> 42.4</td>\n",
       "      <td> 18.8</td>\n",
       "      <td> 10.0</td>\n",
       "      <td>  6.3</td>\n",
       "      <td> 32.1</td>\n",
       "      <td> 64.0</td>\n",
       "      <td> 24.1</td>\n",
       "      <td> 0.02</td>\n",
       "    </tr>\n",
       "    <tr>\n",
       "      <th>158800</th>\n",
       "      <td> 724800</td>\n",
       "      <td>2012-12-30</td>\n",
       "      <td> 27.6</td>\n",
       "      <td> 18.8</td>\n",
       "      <td> 10.0</td>\n",
       "      <td>  3.8</td>\n",
       "      <td> 21.0</td>\n",
       "      <td> 39.9</td>\n",
       "      <td> 16.0</td>\n",
       "      <td> 0.00</td>\n",
       "    </tr>\n",
       "    <tr>\n",
       "      <th>158801</th>\n",
       "      <td> 724800</td>\n",
       "      <td>2012-12-31</td>\n",
       "      <td> 29.0</td>\n",
       "      <td> 11.2</td>\n",
       "      <td> 10.0</td>\n",
       "      <td>  9.2</td>\n",
       "      <td> 24.1</td>\n",
       "      <td> 46.9</td>\n",
       "      <td> 14.0</td>\n",
       "      <td> 0.00</td>\n",
       "    </tr>\n",
       "    <tr>\n",
       "      <th>158803</th>\n",
       "      <td> 724800</td>\n",
       "      <td>2013-01-02</td>\n",
       "      <td> 30.6</td>\n",
       "      <td> 10.4</td>\n",
       "      <td> 10.0</td>\n",
       "      <td>  6.6</td>\n",
       "      <td> 32.1</td>\n",
       "      <td> 54.0</td>\n",
       "      <td> 14.0</td>\n",
       "      <td> 0.00</td>\n",
       "    </tr>\n",
       "    <tr>\n",
       "      <th>225207</th>\n",
       "      <td> 725920</td>\n",
       "      <td>2013-12-08</td>\n",
       "      <td> 32.1</td>\n",
       "      <td> 17.3</td>\n",
       "      <td>  9.7</td>\n",
       "      <td>  7.5</td>\n",
       "      <td> 21.0</td>\n",
       "      <td> 42.1</td>\n",
       "      <td> 27.0</td>\n",
       "      <td> 0.00</td>\n",
       "    </tr>\n",
       "    <tr>\n",
       "      <th>225208</th>\n",
       "      <td> 725920</td>\n",
       "      <td>2013-12-09</td>\n",
       "      <td> 39.0</td>\n",
       "      <td> 11.4</td>\n",
       "      <td> 10.0</td>\n",
       "      <td>  9.6</td>\n",
       "      <td> 21.0</td>\n",
       "      <td> 54.0</td>\n",
       "      <td> 27.0</td>\n",
       "      <td> 0.00</td>\n",
       "    </tr>\n",
       "  </tbody>\n",
       "</table>\n",
       "</div>"
      ],
      "text/plain": [
       "           STN   YEARMODA  TEMP  DEWP  VISIB  WDSP  GUST   MAX   MIN  PRCP\n",
       "14239   722900 1983-11-20  63.9  55.7    9.2   7.9  22.9  72.9  60.1  0.22\n",
       "14240   722900 1983-11-21  60.4  46.5   10.9  14.1  29.9  69.1  54.0  0.48\n",
       "14390   722900 1984-04-19  63.9  53.8   11.4  11.5  24.1  68.0  60.1  0.11\n",
       "98918   725910 1985-04-21  52.5  41.2   13.0  11.6  18.1  60.1  46.9  0.03\n",
       "71115   724800 1987-12-16  30.1  17.0   13.3  15.0  33.0  33.1  23.0  0.01\n",
       "75304   724800 1992-12-30  33.1  24.6   42.8   6.3  19.8  41.9  23.0  0.35\n",
       "73152   724800 1994-03-25  38.0  32.4    8.3   6.9  23.9  54.9  32.0  0.08\n",
       "49910   723815 1999-10-07  68.3  37.8   29.4  12.2  35.9  82.2  55.2  0.00\n",
       "49931   723815 1999-10-28  71.9  42.1   24.9  13.4  35.0  85.5  60.8  0.00\n",
       "55442   723830 1999-10-04  74.6  39.0   10.0  13.4  23.9  82.0  55.9  0.00\n",
       "76514   724800 1999-09-27  74.0  26.8    9.9   7.9  20.0  93.0  54.0  0.00\n",
       "76521   724800 1999-10-04  64.7  19.0    9.9   6.8  16.9  87.1  41.0  0.00\n",
       "117838  725945 1999-10-27  56.7  54.0    8.2   8.2  28.0  66.4  44.8  0.14\n",
       "117839  725945 1999-10-28  57.0  52.1    6.2  10.4  23.9  61.0  52.2  1.08\n",
       "14099   722874 2006-03-11  47.9  38.5    9.8   2.7  15.9  55.0  43.0  0.14\n",
       "58591   723810 2008-12-17  36.9  35.2   13.1  10.5  22.0  43.2  32.0  0.03\n",
       "58593   723810 2008-12-19  36.2  29.8   41.3  11.7  32.1  48.2  28.6  0.00\n",
       "82814   723940 2006-03-11  43.8  36.8    8.5   5.6  18.8  54.0  39.0  0.25\n",
       "82834   723940 2006-03-31  54.6  46.7    9.5   5.3  20.8  62.1  45.0  0.03\n",
       "114578  723810 2011-01-03  33.9  31.5   16.6   5.6  19.0  41.0  29.5  0.02\n",
       "158170  724800 2011-04-10  42.4  18.8   10.0   6.3  32.1  64.0  24.1  0.02\n",
       "158800  724800 2012-12-30  27.6  18.8   10.0   3.8  21.0  39.9  16.0  0.00\n",
       "158801  724800 2012-12-31  29.0  11.2   10.0   9.2  24.1  46.9  14.0  0.00\n",
       "158803  724800 2013-01-02  30.6  10.4   10.0   6.6  32.1  54.0  14.0  0.00\n",
       "225207  725920 2013-12-08  32.1  17.3    9.7   7.5  21.0  42.1  27.0  0.00\n",
       "225208  725920 2013-12-09  39.0  11.4   10.0   9.6  21.0  54.0  27.0  0.00"
      ]
     },
     "execution_count": 6,
     "metadata": {},
     "output_type": "execute_result"
    }
   ],
   "source": [
    "df[['STN','YEARMODA','TEMP','DEWP','VISIB','WDSP','GUST','MAX','MIN','PRCP']]"
   ]
  },
  {
   "cell_type": "code",
   "execution_count": 7,
   "metadata": {
    "collapsed": false
   },
   "outputs": [
    {
     "data": {
      "text/html": [
       "<div style=\"max-height:1000px;max-width:1500px;overflow:auto;\">\n",
       "<table border=\"1\" class=\"dataframe\">\n",
       "  <thead>\n",
       "    <tr style=\"text-align: right;\">\n",
       "      <th></th>\n",
       "      <th>STN</th>\n",
       "      <th>YEARMODA</th>\n",
       "      <th>PRCP</th>\n",
       "      <th>MXSPD</th>\n",
       "      <th>WDSP</th>\n",
       "    </tr>\n",
       "  </thead>\n",
       "  <tbody>\n",
       "    <tr>\n",
       "      <th>14239</th>\n",
       "      <td> 722900</td>\n",
       "      <td>1983-11-20</td>\n",
       "      <td> 0.22</td>\n",
       "      <td> 15.9</td>\n",
       "      <td>  7.9</td>\n",
       "    </tr>\n",
       "    <tr>\n",
       "      <th>14240</th>\n",
       "      <td> 722900</td>\n",
       "      <td>1983-11-21</td>\n",
       "      <td> 0.48</td>\n",
       "      <td> 19.0</td>\n",
       "      <td> 14.1</td>\n",
       "    </tr>\n",
       "    <tr>\n",
       "      <th>14390</th>\n",
       "      <td> 722900</td>\n",
       "      <td>1984-04-19</td>\n",
       "      <td> 0.11</td>\n",
       "      <td> 17.1</td>\n",
       "      <td> 11.5</td>\n",
       "    </tr>\n",
       "    <tr>\n",
       "      <th>98918</th>\n",
       "      <td> 725910</td>\n",
       "      <td>1985-04-21</td>\n",
       "      <td> 0.03</td>\n",
       "      <td> 15.0</td>\n",
       "      <td> 11.6</td>\n",
       "    </tr>\n",
       "    <tr>\n",
       "      <th>71115</th>\n",
       "      <td> 724800</td>\n",
       "      <td>1987-12-16</td>\n",
       "      <td> 0.01</td>\n",
       "      <td> 24.1</td>\n",
       "      <td> 15.0</td>\n",
       "    </tr>\n",
       "  </tbody>\n",
       "</table>\n",
       "</div>"
      ],
      "text/plain": [
       "          STN   YEARMODA  PRCP  MXSPD  WDSP\n",
       "14239  722900 1983-11-20  0.22   15.9   7.9\n",
       "14240  722900 1983-11-21  0.48   19.0  14.1\n",
       "14390  722900 1984-04-19  0.11   17.1  11.5\n",
       "98918  725910 1985-04-21  0.03   15.0  11.6\n",
       "71115  724800 1987-12-16  0.01   24.1  15.0"
      ]
     },
     "execution_count": 7,
     "metadata": {},
     "output_type": "execute_result"
    }
   ],
   "source": [
    "#df['DIFF'] = df['MAX'] - df['MIN']\n",
    "df_subsetted = df[['STN','YEARMODA','PRCP', 'MXSPD', 'WDSP']]\n",
    "df_subsetted.head()"
   ]
  },
  {
   "cell_type": "code",
   "execution_count": 8,
   "metadata": {
    "collapsed": false
   },
   "outputs": [],
   "source": [
    "df_subsetted.to_csv('CA_1981-2015_subsetted.csv')"
   ]
  },
  {
   "cell_type": "code",
   "execution_count": 9,
   "metadata": {
    "collapsed": false
   },
   "outputs": [],
   "source": [
    "df_subsetted = pd.read_csv('CA_1981-2015_subsetted.csv', parse_dates=['YEARMODA'])"
   ]
  },
  {
   "cell_type": "markdown",
   "metadata": {},
   "source": [
    "##Seperate Novembers"
   ]
  },
  {
   "cell_type": "raw",
   "metadata": {
    "collapsed": false
   },
   "source": [
    "from sklearn import preprocessing"
   ]
  },
  {
   "cell_type": "raw",
   "metadata": {
    "collapsed": true
   },
   "source": [
    "def scale(df):\n",
    "    df_cleaned = df.dropna(axis=0)\n",
    "    df_numbers = df_cleaned[['TEMP', 'DIFF', 'PRCP', 'GUST']]\n",
    "    return pd.DataFrame(preprocessing.scale(df_numbers), index=df_cleaned['YEARMODA'], columns=['TEMP', 'DIFF', 'PRCP', 'GUST'])"
   ]
  },
  {
   "cell_type": "raw",
   "metadata": {
    "collapsed": false
   },
   "source": [
    "normalized = df_subsetted.groupby('STN').apply(scale).reset_index()"
   ]
  },
  {
   "cell_type": "code",
   "execution_count": 10,
   "metadata": {
    "collapsed": false
   },
   "outputs": [],
   "source": [
    "df_monthly = df_subsetted.groupby('STN').apply(lambda x: x.set_index('YEARMODA')[['PRCP', 'MXSPD', 'WDSP']].resample('M'))\n",
    "df_monthly = df_monthly.reset_index()"
   ]
  },
  {
   "cell_type": "raw",
   "metadata": {
    "collapsed": true
   },
   "source": [
    "df_monthly = normalized.groupby('STN').apply(lambda x: x.set_index('YEARMODA')[['TEMP', 'DIFF', 'PRCP', 'GUST']].resample('M'))\n",
    "df_monthly = df_monthly.reset_index()"
   ]
  },
  {
   "cell_type": "code",
   "execution_count": 11,
   "metadata": {
    "collapsed": true
   },
   "outputs": [],
   "source": [
    "def extract_novembers(df):\n",
    "    df_timed = df.set_index('YEARMODA')[['PRCP', 'MXSPD', 'WDSP']]\n",
    "    return df_timed[df_timed.index.month == 11]"
   ]
  },
  {
   "cell_type": "code",
   "execution_count": 12,
   "metadata": {
    "collapsed": false
   },
   "outputs": [
    {
     "data": {
      "text/html": [
       "<div style=\"max-height:1000px;max-width:1500px;overflow:auto;\">\n",
       "<table border=\"1\" class=\"dataframe\">\n",
       "  <thead>\n",
       "    <tr style=\"text-align: right;\">\n",
       "      <th></th>\n",
       "      <th>STN</th>\n",
       "      <th>YEARMODA</th>\n",
       "      <th>PRCP</th>\n",
       "      <th>MXSPD</th>\n",
       "      <th>WDSP</th>\n",
       "    </tr>\n",
       "  </thead>\n",
       "  <tbody>\n",
       "    <tr>\n",
       "      <th>0</th>\n",
       "      <td> 722900</td>\n",
       "      <td>1983-11-30</td>\n",
       "      <td> 0.35</td>\n",
       "      <td> 17.45</td>\n",
       "      <td> 11</td>\n",
       "    </tr>\n",
       "    <tr>\n",
       "      <th>1</th>\n",
       "      <td> 723810</td>\n",
       "      <td>2009-11-30</td>\n",
       "      <td>  NaN</td>\n",
       "      <td>   NaN</td>\n",
       "      <td>NaN</td>\n",
       "    </tr>\n",
       "    <tr>\n",
       "      <th>2</th>\n",
       "      <td> 723810</td>\n",
       "      <td>2010-11-30</td>\n",
       "      <td>  NaN</td>\n",
       "      <td>   NaN</td>\n",
       "      <td>NaN</td>\n",
       "    </tr>\n",
       "    <tr>\n",
       "      <th>3</th>\n",
       "      <td> 724800</td>\n",
       "      <td>1988-11-30</td>\n",
       "      <td>  NaN</td>\n",
       "      <td>   NaN</td>\n",
       "      <td>NaN</td>\n",
       "    </tr>\n",
       "    <tr>\n",
       "      <th>4</th>\n",
       "      <td> 724800</td>\n",
       "      <td>1989-11-30</td>\n",
       "      <td>  NaN</td>\n",
       "      <td>   NaN</td>\n",
       "      <td>NaN</td>\n",
       "    </tr>\n",
       "  </tbody>\n",
       "</table>\n",
       "</div>"
      ],
      "text/plain": [
       "      STN   YEARMODA  PRCP  MXSPD  WDSP\n",
       "0  722900 1983-11-30  0.35  17.45    11\n",
       "1  723810 2009-11-30   NaN    NaN   NaN\n",
       "2  723810 2010-11-30   NaN    NaN   NaN\n",
       "3  724800 1988-11-30   NaN    NaN   NaN\n",
       "4  724800 1989-11-30   NaN    NaN   NaN"
      ]
     },
     "execution_count": 12,
     "metadata": {},
     "output_type": "execute_result"
    }
   ],
   "source": [
    "df_novembers = df_monthly.groupby('STN').apply(extract_novembers)\n",
    "df_novembers = df_novembers.reset_index()\n",
    "df_novembers.head()"
   ]
  },
  {
   "cell_type": "code",
   "execution_count": 13,
   "metadata": {
    "collapsed": false
   },
   "outputs": [],
   "source": [
    "df_novembers.to_csv('CA_1981-2015_novembers.csv')"
   ]
  },
  {
   "cell_type": "code",
   "execution_count": 14,
   "metadata": {
    "collapsed": false
   },
   "outputs": [
    {
     "data": {
      "text/html": [
       "<div style=\"max-height:1000px;max-width:1500px;overflow:auto;\">\n",
       "<table border=\"1\" class=\"dataframe\">\n",
       "  <thead>\n",
       "    <tr style=\"text-align: right;\">\n",
       "      <th></th>\n",
       "      <th>STN</th>\n",
       "      <th>YEARMODA</th>\n",
       "      <th>PRCP</th>\n",
       "      <th>MXSPD</th>\n",
       "      <th>WDSP</th>\n",
       "    </tr>\n",
       "  </thead>\n",
       "  <tbody>\n",
       "    <tr>\n",
       "      <th>0</th>\n",
       "      <td> 722900</td>\n",
       "      <td>1983-11-30</td>\n",
       "      <td> 0.35</td>\n",
       "      <td> 17.45</td>\n",
       "      <td> 11</td>\n",
       "    </tr>\n",
       "    <tr>\n",
       "      <th>1</th>\n",
       "      <td> 723810</td>\n",
       "      <td>2009-11-30</td>\n",
       "      <td>  NaN</td>\n",
       "      <td>   NaN</td>\n",
       "      <td>NaN</td>\n",
       "    </tr>\n",
       "    <tr>\n",
       "      <th>2</th>\n",
       "      <td> 723810</td>\n",
       "      <td>2010-11-30</td>\n",
       "      <td>  NaN</td>\n",
       "      <td>   NaN</td>\n",
       "      <td>NaN</td>\n",
       "    </tr>\n",
       "    <tr>\n",
       "      <th>3</th>\n",
       "      <td> 724800</td>\n",
       "      <td>1988-11-30</td>\n",
       "      <td>  NaN</td>\n",
       "      <td>   NaN</td>\n",
       "      <td>NaN</td>\n",
       "    </tr>\n",
       "    <tr>\n",
       "      <th>4</th>\n",
       "      <td> 724800</td>\n",
       "      <td>1989-11-30</td>\n",
       "      <td>  NaN</td>\n",
       "      <td>   NaN</td>\n",
       "      <td>NaN</td>\n",
       "    </tr>\n",
       "  </tbody>\n",
       "</table>\n",
       "</div>"
      ],
      "text/plain": [
       "      STN   YEARMODA  PRCP  MXSPD  WDSP\n",
       "0  722900 1983-11-30  0.35  17.45    11\n",
       "1  723810 2009-11-30   NaN    NaN   NaN\n",
       "2  723810 2010-11-30   NaN    NaN   NaN\n",
       "3  724800 1988-11-30   NaN    NaN   NaN\n",
       "4  724800 1989-11-30   NaN    NaN   NaN"
      ]
     },
     "execution_count": 14,
     "metadata": {},
     "output_type": "execute_result"
    }
   ],
   "source": [
    "df_novembers = pd.read_csv('CA_1981-2015_novembers.csv', parse_dates=['YEARMODA'])\n",
    "df_novembers = df_novembers[['STN', 'YEARMODA','PRCP', 'MXSPD', 'WDSP']]\n",
    "df_novembers.head()"
   ]
  },
  {
   "cell_type": "code",
   "execution_count": 15,
   "metadata": {
    "collapsed": false
   },
   "outputs": [],
   "source": [
    "dff = df_novembers.set_index('YEARMODA')['1990':'2015']\n",
    "dff = dff.reset_index()"
   ]
  },
  {
   "cell_type": "code",
   "execution_count": 16,
   "metadata": {
    "collapsed": false
   },
   "outputs": [
    {
     "data": {
      "text/html": [
       "<div style=\"max-height:1000px;max-width:1500px;overflow:auto;\">\n",
       "<table border=\"1\" class=\"dataframe\">\n",
       "  <thead>\n",
       "    <tr style=\"text-align: right;\">\n",
       "      <th></th>\n",
       "      <th>YEARMODA</th>\n",
       "      <th>STN</th>\n",
       "      <th>PRCP</th>\n",
       "      <th>MXSPD</th>\n",
       "      <th>WDSP</th>\n",
       "    </tr>\n",
       "  </thead>\n",
       "  <tbody>\n",
       "    <tr>\n",
       "      <th>0</th>\n",
       "      <td>2009-11-30</td>\n",
       "      <td> 723810</td>\n",
       "      <td>NaN</td>\n",
       "      <td>NaN</td>\n",
       "      <td>NaN</td>\n",
       "    </tr>\n",
       "    <tr>\n",
       "      <th>1</th>\n",
       "      <td>2010-11-30</td>\n",
       "      <td> 723810</td>\n",
       "      <td>NaN</td>\n",
       "      <td>NaN</td>\n",
       "      <td>NaN</td>\n",
       "    </tr>\n",
       "    <tr>\n",
       "      <th>2</th>\n",
       "      <td>1990-11-30</td>\n",
       "      <td> 724800</td>\n",
       "      <td>NaN</td>\n",
       "      <td>NaN</td>\n",
       "      <td>NaN</td>\n",
       "    </tr>\n",
       "    <tr>\n",
       "      <th>3</th>\n",
       "      <td>1991-11-30</td>\n",
       "      <td> 724800</td>\n",
       "      <td>NaN</td>\n",
       "      <td>NaN</td>\n",
       "      <td>NaN</td>\n",
       "    </tr>\n",
       "    <tr>\n",
       "      <th>4</th>\n",
       "      <td>1992-11-30</td>\n",
       "      <td> 724800</td>\n",
       "      <td>NaN</td>\n",
       "      <td>NaN</td>\n",
       "      <td>NaN</td>\n",
       "    </tr>\n",
       "  </tbody>\n",
       "</table>\n",
       "</div>"
      ],
      "text/plain": [
       "    YEARMODA     STN  PRCP  MXSPD  WDSP\n",
       "0 2009-11-30  723810   NaN    NaN   NaN\n",
       "1 2010-11-30  723810   NaN    NaN   NaN\n",
       "2 1990-11-30  724800   NaN    NaN   NaN\n",
       "3 1991-11-30  724800   NaN    NaN   NaN\n",
       "4 1992-11-30  724800   NaN    NaN   NaN"
      ]
     },
     "execution_count": 16,
     "metadata": {},
     "output_type": "execute_result"
    }
   ],
   "source": [
    "dff.head()"
   ]
  },
  {
   "cell_type": "code",
   "execution_count": 17,
   "metadata": {
    "collapsed": false
   },
   "outputs": [
    {
     "data": {
      "text/html": [
       "<div style=\"max-height:1000px;max-width:1500px;overflow:auto;\">\n",
       "<table border=\"1\" class=\"dataframe\">\n",
       "  <thead>\n",
       "    <tr>\n",
       "      <th>YEARMODA</th>\n",
       "    </tr>\n",
       "  </thead>\n",
       "  <tbody>\n",
       "    <tr>\n",
       "      <th>1990-11-30</th>\n",
       "    </tr>\n",
       "    <tr>\n",
       "      <th>1991-11-30</th>\n",
       "    </tr>\n",
       "    <tr>\n",
       "      <th>1992-11-30</th>\n",
       "    </tr>\n",
       "    <tr>\n",
       "      <th>1993-11-30</th>\n",
       "    </tr>\n",
       "    <tr>\n",
       "      <th>1994-11-30</th>\n",
       "    </tr>\n",
       "    <tr>\n",
       "      <th>1995-11-30</th>\n",
       "    </tr>\n",
       "    <tr>\n",
       "      <th>1996-11-30</th>\n",
       "    </tr>\n",
       "    <tr>\n",
       "      <th>1997-11-30</th>\n",
       "    </tr>\n",
       "    <tr>\n",
       "      <th>1998-11-30</th>\n",
       "    </tr>\n",
       "    <tr>\n",
       "      <th>1999-11-30</th>\n",
       "    </tr>\n",
       "    <tr>\n",
       "      <th>2000-11-30</th>\n",
       "    </tr>\n",
       "    <tr>\n",
       "      <th>2001-11-30</th>\n",
       "    </tr>\n",
       "    <tr>\n",
       "      <th>2002-11-30</th>\n",
       "    </tr>\n",
       "    <tr>\n",
       "      <th>2003-11-30</th>\n",
       "    </tr>\n",
       "    <tr>\n",
       "      <th>2004-11-30</th>\n",
       "    </tr>\n",
       "    <tr>\n",
       "      <th>2005-11-30</th>\n",
       "    </tr>\n",
       "    <tr>\n",
       "      <th>2006-11-30</th>\n",
       "    </tr>\n",
       "    <tr>\n",
       "      <th>2007-11-30</th>\n",
       "    </tr>\n",
       "    <tr>\n",
       "      <th>2008-11-30</th>\n",
       "    </tr>\n",
       "    <tr>\n",
       "      <th>2009-11-30</th>\n",
       "    </tr>\n",
       "    <tr>\n",
       "      <th>2010-11-30</th>\n",
       "    </tr>\n",
       "    <tr>\n",
       "      <th>2011-11-30</th>\n",
       "    </tr>\n",
       "    <tr>\n",
       "      <th>2012-11-30</th>\n",
       "    </tr>\n",
       "  </tbody>\n",
       "</table>\n",
       "</div>"
      ],
      "text/plain": [
       "Empty DataFrame\n",
       "Columns: []\n",
       "Index: [1990-11-30 00:00:00, 1991-11-30 00:00:00, 1992-11-30 00:00:00, 1993-11-30 00:00:00, 1994-11-30 00:00:00, 1995-11-30 00:00:00, 1996-11-30 00:00:00, 1997-11-30 00:00:00, 1998-11-30 00:00:00, 1999-11-30 00:00:00, 2000-11-30 00:00:00, 2001-11-30 00:00:00, 2002-11-30 00:00:00, 2003-11-30 00:00:00, 2004-11-30 00:00:00, 2005-11-30 00:00:00, 2006-11-30 00:00:00, 2007-11-30 00:00:00, 2008-11-30 00:00:00, 2009-11-30 00:00:00, 2010-11-30 00:00:00, 2011-11-30 00:00:00, 2012-11-30 00:00:00]"
      ]
     },
     "execution_count": 17,
     "metadata": {},
     "output_type": "execute_result"
    }
   ],
   "source": [
    "all_data = dff.pivot_table(index=['YEARMODA'], columns=['STN']).dropna(axis=1)\n",
    "all_data"
   ]
  },
  {
   "cell_type": "code",
   "execution_count": 18,
   "metadata": {
    "collapsed": false
   },
   "outputs": [
    {
     "data": {
      "text/html": [
       "<div style=\"max-height:1000px;max-width:1500px;overflow:auto;\">\n",
       "<table border=\"1\" class=\"dataframe\">\n",
       "  <thead>\n",
       "    <tr>\n",
       "      <th>YEARMODA</th>\n",
       "    </tr>\n",
       "  </thead>\n",
       "  <tbody>\n",
       "    <tr>\n",
       "      <th>1990-11-30</th>\n",
       "    </tr>\n",
       "    <tr>\n",
       "      <th>1991-11-30</th>\n",
       "    </tr>\n",
       "    <tr>\n",
       "      <th>1992-11-30</th>\n",
       "    </tr>\n",
       "    <tr>\n",
       "      <th>1993-11-30</th>\n",
       "    </tr>\n",
       "    <tr>\n",
       "      <th>1994-11-30</th>\n",
       "    </tr>\n",
       "    <tr>\n",
       "      <th>1995-11-30</th>\n",
       "    </tr>\n",
       "    <tr>\n",
       "      <th>1996-11-30</th>\n",
       "    </tr>\n",
       "    <tr>\n",
       "      <th>1997-11-30</th>\n",
       "    </tr>\n",
       "    <tr>\n",
       "      <th>1998-11-30</th>\n",
       "    </tr>\n",
       "    <tr>\n",
       "      <th>1999-11-30</th>\n",
       "    </tr>\n",
       "    <tr>\n",
       "      <th>2000-11-30</th>\n",
       "    </tr>\n",
       "    <tr>\n",
       "      <th>2001-11-30</th>\n",
       "    </tr>\n",
       "    <tr>\n",
       "      <th>2002-11-30</th>\n",
       "    </tr>\n",
       "    <tr>\n",
       "      <th>2003-11-30</th>\n",
       "    </tr>\n",
       "    <tr>\n",
       "      <th>2004-11-30</th>\n",
       "    </tr>\n",
       "    <tr>\n",
       "      <th>2005-11-30</th>\n",
       "    </tr>\n",
       "    <tr>\n",
       "      <th>2006-11-30</th>\n",
       "    </tr>\n",
       "    <tr>\n",
       "      <th>2007-11-30</th>\n",
       "    </tr>\n",
       "    <tr>\n",
       "      <th>2008-11-30</th>\n",
       "    </tr>\n",
       "    <tr>\n",
       "      <th>2009-11-30</th>\n",
       "    </tr>\n",
       "    <tr>\n",
       "      <th>2010-11-30</th>\n",
       "    </tr>\n",
       "    <tr>\n",
       "      <th>2011-11-30</th>\n",
       "    </tr>\n",
       "    <tr>\n",
       "      <th>2012-11-30</th>\n",
       "    </tr>\n",
       "  </tbody>\n",
       "</table>\n",
       "</div>"
      ],
      "text/plain": [
       "Empty DataFrame\n",
       "Columns: []\n",
       "Index: [1990-11-30 00:00:00, 1991-11-30 00:00:00, 1992-11-30 00:00:00, 1993-11-30 00:00:00, 1994-11-30 00:00:00, 1995-11-30 00:00:00, 1996-11-30 00:00:00, 1997-11-30 00:00:00, 1998-11-30 00:00:00, 1999-11-30 00:00:00, 2000-11-30 00:00:00, 2001-11-30 00:00:00, 2002-11-30 00:00:00, 2003-11-30 00:00:00, 2004-11-30 00:00:00, 2005-11-30 00:00:00, 2006-11-30 00:00:00, 2007-11-30 00:00:00, 2008-11-30 00:00:00, 2009-11-30 00:00:00, 2010-11-30 00:00:00, 2011-11-30 00:00:00, 2012-11-30 00:00:00]"
      ]
     },
     "execution_count": 18,
     "metadata": {},
     "output_type": "execute_result"
    }
   ],
   "source": [
    "all_data"
   ]
  },
  {
   "cell_type": "code",
   "execution_count": 19,
   "metadata": {
    "collapsed": true
   },
   "outputs": [],
   "source": [
    "all_data.to_csv('CA_notnull.csv')"
   ]
  },
  {
   "cell_type": "code",
   "execution_count": 20,
   "metadata": {
    "collapsed": false
   },
   "outputs": [
    {
     "data": {
      "text/plain": [
       "(23, 0)"
      ]
     },
     "execution_count": 20,
     "metadata": {},
     "output_type": "execute_result"
    }
   ],
   "source": [
    "all_data.shape\n"
   ]
  },
  {
   "cell_type": "code",
   "execution_count": 21,
   "metadata": {
    "collapsed": false
   },
   "outputs": [
    {
     "data": {
      "text/plain": [
       "MultiIndex(levels=[[u'PRCP', u'MXSPD', u'WDSP'], [723810, 724800]],\n",
       "           labels=[[], []],\n",
       "           names=[None, u'STN'])"
      ]
     },
     "execution_count": 21,
     "metadata": {},
     "output_type": "execute_result"
    }
   ],
   "source": [
    "all_data.columns"
   ]
  },
  {
   "cell_type": "code",
   "execution_count": 22,
   "metadata": {
    "collapsed": false
   },
   "outputs": [
    {
     "ename": "IndexError",
     "evalue": "list index out of range",
     "output_type": "error",
     "traceback": [
      "\u001b[1;31m---------------------------------------------------------------------------\u001b[0m",
      "\u001b[1;31mIndexError\u001b[0m                                Traceback (most recent call last)",
      "\u001b[1;32m<ipython-input-22-a71b7e32aaf3>\u001b[0m in \u001b[0;36m<module>\u001b[1;34m()\u001b[0m\n\u001b[0;32m      2\u001b[0m \u001b[1;33m\u001b[0m\u001b[0m\n\u001b[0;32m      3\u001b[0m \u001b[0mmse\u001b[0m \u001b[1;33m=\u001b[0m \u001b[1;33m[\u001b[0m\u001b[1;33m]\u001b[0m\u001b[1;33m\u001b[0m\u001b[0m\n\u001b[1;32m----> 4\u001b[1;33m \u001b[0mall_data\u001b[0m \u001b[1;33m=\u001b[0m \u001b[0mpd\u001b[0m\u001b[1;33m.\u001b[0m\u001b[0mread_csv\u001b[0m\u001b[1;33m(\u001b[0m\u001b[1;34m'CA_notnull.csv'\u001b[0m\u001b[1;33m,\u001b[0m \u001b[0mheader\u001b[0m\u001b[1;33m=\u001b[0m\u001b[1;33m[\u001b[0m\u001b[1;36m0\u001b[0m\u001b[1;33m,\u001b[0m\u001b[1;36m1\u001b[0m\u001b[1;33m]\u001b[0m\u001b[1;33m,\u001b[0m \u001b[0mindex_col\u001b[0m\u001b[1;33m=\u001b[0m\u001b[1;36m0\u001b[0m\u001b[1;33m)\u001b[0m\u001b[1;33m\u001b[0m\u001b[0m\n\u001b[0m\u001b[0;32m      5\u001b[0m \u001b[0mall_data\u001b[0m\u001b[1;33m.\u001b[0m\u001b[0mindex\u001b[0m \u001b[1;33m=\u001b[0m \u001b[0mpd\u001b[0m\u001b[1;33m.\u001b[0m\u001b[0mto_datetime\u001b[0m\u001b[1;33m(\u001b[0m\u001b[0mall_data\u001b[0m\u001b[1;33m.\u001b[0m\u001b[0mindex\u001b[0m\u001b[1;33m)\u001b[0m\u001b[1;33m\u001b[0m\u001b[0m\n\u001b[0;32m      6\u001b[0m \u001b[1;33m\u001b[0m\u001b[0m\n",
      "\u001b[1;32mC:\\Anaconda\\lib\\site-packages\\pandas\\io\\parsers.pyc\u001b[0m in \u001b[0;36mparser_f\u001b[1;34m(filepath_or_buffer, sep, dialect, compression, doublequote, escapechar, quotechar, quoting, skipinitialspace, lineterminator, header, index_col, names, prefix, skiprows, skipfooter, skip_footer, na_values, na_fvalues, true_values, false_values, delimiter, converters, dtype, usecols, engine, delim_whitespace, as_recarray, na_filter, compact_ints, use_unsigned, low_memory, buffer_lines, warn_bad_lines, error_bad_lines, keep_default_na, thousands, comment, decimal, parse_dates, keep_date_col, dayfirst, date_parser, memory_map, float_precision, nrows, iterator, chunksize, verbose, encoding, squeeze, mangle_dupe_cols, tupleize_cols, infer_datetime_format, skip_blank_lines)\u001b[0m\n\u001b[0;32m    463\u001b[0m                     skip_blank_lines=skip_blank_lines)\n\u001b[0;32m    464\u001b[0m \u001b[1;33m\u001b[0m\u001b[0m\n\u001b[1;32m--> 465\u001b[1;33m         \u001b[1;32mreturn\u001b[0m \u001b[0m_read\u001b[0m\u001b[1;33m(\u001b[0m\u001b[0mfilepath_or_buffer\u001b[0m\u001b[1;33m,\u001b[0m \u001b[0mkwds\u001b[0m\u001b[1;33m)\u001b[0m\u001b[1;33m\u001b[0m\u001b[0m\n\u001b[0m\u001b[0;32m    466\u001b[0m \u001b[1;33m\u001b[0m\u001b[0m\n\u001b[0;32m    467\u001b[0m     \u001b[0mparser_f\u001b[0m\u001b[1;33m.\u001b[0m\u001b[0m__name__\u001b[0m \u001b[1;33m=\u001b[0m \u001b[0mname\u001b[0m\u001b[1;33m\u001b[0m\u001b[0m\n",
      "\u001b[1;32mC:\\Anaconda\\lib\\site-packages\\pandas\\io\\parsers.pyc\u001b[0m in \u001b[0;36m_read\u001b[1;34m(filepath_or_buffer, kwds)\u001b[0m\n\u001b[0;32m    239\u001b[0m \u001b[1;33m\u001b[0m\u001b[0m\n\u001b[0;32m    240\u001b[0m     \u001b[1;31m# Create the parser.\u001b[0m\u001b[1;33m\u001b[0m\u001b[1;33m\u001b[0m\u001b[0m\n\u001b[1;32m--> 241\u001b[1;33m     \u001b[0mparser\u001b[0m \u001b[1;33m=\u001b[0m \u001b[0mTextFileReader\u001b[0m\u001b[1;33m(\u001b[0m\u001b[0mfilepath_or_buffer\u001b[0m\u001b[1;33m,\u001b[0m \u001b[1;33m**\u001b[0m\u001b[0mkwds\u001b[0m\u001b[1;33m)\u001b[0m\u001b[1;33m\u001b[0m\u001b[0m\n\u001b[0m\u001b[0;32m    242\u001b[0m \u001b[1;33m\u001b[0m\u001b[0m\n\u001b[0;32m    243\u001b[0m     \u001b[1;32mif\u001b[0m \u001b[1;33m(\u001b[0m\u001b[0mnrows\u001b[0m \u001b[1;32mis\u001b[0m \u001b[1;32mnot\u001b[0m \u001b[0mNone\u001b[0m\u001b[1;33m)\u001b[0m \u001b[1;32mand\u001b[0m \u001b[1;33m(\u001b[0m\u001b[0mchunksize\u001b[0m \u001b[1;32mis\u001b[0m \u001b[1;32mnot\u001b[0m \u001b[0mNone\u001b[0m\u001b[1;33m)\u001b[0m\u001b[1;33m:\u001b[0m\u001b[1;33m\u001b[0m\u001b[0m\n",
      "\u001b[1;32mC:\\Anaconda\\lib\\site-packages\\pandas\\io\\parsers.pyc\u001b[0m in \u001b[0;36m__init__\u001b[1;34m(self, f, engine, **kwds)\u001b[0m\n\u001b[0;32m    555\u001b[0m             \u001b[0mself\u001b[0m\u001b[1;33m.\u001b[0m\u001b[0moptions\u001b[0m\u001b[1;33m[\u001b[0m\u001b[1;34m'has_index_names'\u001b[0m\u001b[1;33m]\u001b[0m \u001b[1;33m=\u001b[0m \u001b[0mkwds\u001b[0m\u001b[1;33m[\u001b[0m\u001b[1;34m'has_index_names'\u001b[0m\u001b[1;33m]\u001b[0m\u001b[1;33m\u001b[0m\u001b[0m\n\u001b[0;32m    556\u001b[0m \u001b[1;33m\u001b[0m\u001b[0m\n\u001b[1;32m--> 557\u001b[1;33m         \u001b[0mself\u001b[0m\u001b[1;33m.\u001b[0m\u001b[0m_make_engine\u001b[0m\u001b[1;33m(\u001b[0m\u001b[0mself\u001b[0m\u001b[1;33m.\u001b[0m\u001b[0mengine\u001b[0m\u001b[1;33m)\u001b[0m\u001b[1;33m\u001b[0m\u001b[0m\n\u001b[0m\u001b[0;32m    558\u001b[0m \u001b[1;33m\u001b[0m\u001b[0m\n\u001b[0;32m    559\u001b[0m     \u001b[1;32mdef\u001b[0m \u001b[0m_get_options_with_defaults\u001b[0m\u001b[1;33m(\u001b[0m\u001b[0mself\u001b[0m\u001b[1;33m,\u001b[0m \u001b[0mengine\u001b[0m\u001b[1;33m)\u001b[0m\u001b[1;33m:\u001b[0m\u001b[1;33m\u001b[0m\u001b[0m\n",
      "\u001b[1;32mC:\\Anaconda\\lib\\site-packages\\pandas\\io\\parsers.pyc\u001b[0m in \u001b[0;36m_make_engine\u001b[1;34m(self, engine)\u001b[0m\n\u001b[0;32m    692\u001b[0m     \u001b[1;32mdef\u001b[0m \u001b[0m_make_engine\u001b[0m\u001b[1;33m(\u001b[0m\u001b[0mself\u001b[0m\u001b[1;33m,\u001b[0m \u001b[0mengine\u001b[0m\u001b[1;33m=\u001b[0m\u001b[1;34m'c'\u001b[0m\u001b[1;33m)\u001b[0m\u001b[1;33m:\u001b[0m\u001b[1;33m\u001b[0m\u001b[0m\n\u001b[0;32m    693\u001b[0m         \u001b[1;32mif\u001b[0m \u001b[0mengine\u001b[0m \u001b[1;33m==\u001b[0m \u001b[1;34m'c'\u001b[0m\u001b[1;33m:\u001b[0m\u001b[1;33m\u001b[0m\u001b[0m\n\u001b[1;32m--> 694\u001b[1;33m             \u001b[0mself\u001b[0m\u001b[1;33m.\u001b[0m\u001b[0m_engine\u001b[0m \u001b[1;33m=\u001b[0m \u001b[0mCParserWrapper\u001b[0m\u001b[1;33m(\u001b[0m\u001b[0mself\u001b[0m\u001b[1;33m.\u001b[0m\u001b[0mf\u001b[0m\u001b[1;33m,\u001b[0m \u001b[1;33m**\u001b[0m\u001b[0mself\u001b[0m\u001b[1;33m.\u001b[0m\u001b[0moptions\u001b[0m\u001b[1;33m)\u001b[0m\u001b[1;33m\u001b[0m\u001b[0m\n\u001b[0m\u001b[0;32m    695\u001b[0m         \u001b[1;32melse\u001b[0m\u001b[1;33m:\u001b[0m\u001b[1;33m\u001b[0m\u001b[0m\n\u001b[0;32m    696\u001b[0m             \u001b[1;32mif\u001b[0m \u001b[0mengine\u001b[0m \u001b[1;33m==\u001b[0m \u001b[1;34m'python'\u001b[0m\u001b[1;33m:\u001b[0m\u001b[1;33m\u001b[0m\u001b[0m\n",
      "\u001b[1;32mC:\\Anaconda\\lib\\site-packages\\pandas\\io\\parsers.pyc\u001b[0m in \u001b[0;36m__init__\u001b[1;34m(self, src, **kwds)\u001b[0m\n\u001b[0;32m   1074\u001b[0m                     self._extract_multi_indexer_columns(\n\u001b[0;32m   1075\u001b[0m                         \u001b[0mself\u001b[0m\u001b[1;33m.\u001b[0m\u001b[0m_reader\u001b[0m\u001b[1;33m.\u001b[0m\u001b[0mheader\u001b[0m\u001b[1;33m,\u001b[0m \u001b[0mself\u001b[0m\u001b[1;33m.\u001b[0m\u001b[0mindex_names\u001b[0m\u001b[1;33m,\u001b[0m \u001b[0mself\u001b[0m\u001b[1;33m.\u001b[0m\u001b[0mcol_names\u001b[0m\u001b[1;33m,\u001b[0m\u001b[1;33m\u001b[0m\u001b[0m\n\u001b[1;32m-> 1076\u001b[1;33m                         \u001b[0mpassed_names\u001b[0m\u001b[1;33m\u001b[0m\u001b[0m\n\u001b[0m\u001b[0;32m   1077\u001b[0m                     )\n\u001b[0;32m   1078\u001b[0m                 )\n",
      "\u001b[1;32mC:\\Anaconda\\lib\\site-packages\\pandas\\io\\parsers.pyc\u001b[0m in \u001b[0;36m_extract_multi_indexer_columns\u001b[1;34m(self, header, index_names, col_names, passed_names)\u001b[0m\n\u001b[0;32m    843\u001b[0m         \u001b[1;31m# if we find 'Unnamed' all of a single level, then our header was too\u001b[0m\u001b[1;33m\u001b[0m\u001b[1;33m\u001b[0m\u001b[0m\n\u001b[0;32m    844\u001b[0m         \u001b[1;31m# long\u001b[0m\u001b[1;33m\u001b[0m\u001b[1;33m\u001b[0m\u001b[0m\n\u001b[1;32m--> 845\u001b[1;33m         \u001b[1;32mfor\u001b[0m \u001b[0mn\u001b[0m \u001b[1;32min\u001b[0m \u001b[0mrange\u001b[0m\u001b[1;33m(\u001b[0m\u001b[0mlen\u001b[0m\u001b[1;33m(\u001b[0m\u001b[0mcolumns\u001b[0m\u001b[1;33m[\u001b[0m\u001b[1;36m0\u001b[0m\u001b[1;33m]\u001b[0m\u001b[1;33m)\u001b[0m\u001b[1;33m)\u001b[0m\u001b[1;33m:\u001b[0m\u001b[1;33m\u001b[0m\u001b[0m\n\u001b[0m\u001b[0;32m    846\u001b[0m             \u001b[1;32mif\u001b[0m \u001b[0mall\u001b[0m\u001b[1;33m(\u001b[0m\u001b[1;33m[\u001b[0m\u001b[1;34m'Unnamed'\u001b[0m \u001b[1;32min\u001b[0m \u001b[0mc\u001b[0m\u001b[1;33m[\u001b[0m\u001b[0mn\u001b[0m\u001b[1;33m]\u001b[0m \u001b[1;32mfor\u001b[0m \u001b[0mc\u001b[0m \u001b[1;32min\u001b[0m \u001b[0mcolumns\u001b[0m\u001b[1;33m]\u001b[0m\u001b[1;33m)\u001b[0m\u001b[1;33m:\u001b[0m\u001b[1;33m\u001b[0m\u001b[0m\n\u001b[0;32m    847\u001b[0m                 raise _parser.CParserError(\n",
      "\u001b[1;31mIndexError\u001b[0m: list index out of range"
     ]
    }
   ],
   "source": [
    "import numpy as np\n",
    "\n",
    "mse = []\n",
    "all_data = pd.read_csv('CA_notnull.csv', header=[0,1], index_col=0)\n",
    "all_data.index = pd.to_datetime(all_data.index)\n",
    "\n",
    "#el nino years\n",
    "df_15 = all_data[all_data.index.year == 2015].values\n",
    "df_97 = all_data[all_data.index.year == 1997].values\n",
    "\n",
    "df_02 = all_data[all_data.index.year == 2002].values\n",
    "df_09 = all_data[all_data.index.year == 2009].values\n",
    "\n",
    "#non el nino\n",
    "df_90 = all_data[all_data.index.year == 1990].values\n",
    "\n",
    "\n",
    "val1 = np.sum((df_15 - df_97)**2)\n",
    "mse.append(val1)\n",
    "val2 = np.sum((df_15 - df_02)**2)\n",
    "mse.append(val2)\n",
    "val3 = np.sum((df_15 - df_09)**2)\n",
    "mse.append(val3)\n",
    "val4 = np.sum((df_15 - df_90)**2)\n",
    "mse.append(val4)\n"
   ]
  },
  {
   "cell_type": "code",
   "execution_count": null,
   "metadata": {
    "collapsed": false
   },
   "outputs": [],
   "source": [
    "print mse"
   ]
  },
  {
   "cell_type": "code",
   "execution_count": null,
   "metadata": {
    "collapsed": false
   },
   "outputs": [],
   "source": [
    "(np.array([1,3]) - np.array([1,4]))**2"
   ]
  },
  {
   "cell_type": "code",
   "execution_count": null,
   "metadata": {
    "collapsed": false
   },
   "outputs": [],
   "source": [
    "df_15.values"
   ]
  },
  {
   "cell_type": "code",
   "execution_count": null,
   "metadata": {
    "collapsed": false
   },
   "outputs": [],
   "source": [
    "from sklearn.decomposition import PCA\n",
    "pca = PCA(n_components=2)\n",
    "projected = pca.fit_transform(all_data)\n",
    "projected"
   ]
  },
  {
   "cell_type": "code",
   "execution_count": null,
   "metadata": {
    "collapsed": false
   },
   "outputs": [],
   "source": [
    "from plotly import plotly as ply\n",
    "ply.sign_in('wgopar', 'y3jt1ddvvu')\n",
    "from plotly import graph_objs as go"
   ]
  },
  {
   "cell_type": "code",
   "execution_count": null,
   "metadata": {
    "collapsed": false
   },
   "outputs": [],
   "source": [
    "# two dimensional projection\n",
    "trace0 = go.Scatter(\n",
    "    x=projected[:,0],\n",
    "    y=projected[:,1],\n",
    "    name='Projected',\n",
    "    mode='markers+text',\n",
    "    text=all_data.index.year,\n",
    ")\n",
    "layout = go.Layout(\n",
    "    title=\"California transformed PCA\"\n",
    ")\n",
    "figure = go.Figure(data=[trace0], layout=layout)\n",
    "ply.iplot(figure, filename='WeatherData/sandiego_PCA')"
   ]
  },
  {
   "cell_type": "code",
   "execution_count": 378,
   "metadata": {
    "collapsed": false
   },
   "outputs": [],
   "source": [
    "ply.image.save_as(figure, 'California transformed PCA.png')"
   ]
  },
  {
   "cell_type": "code",
   "execution_count": 398,
   "metadata": {
    "collapsed": false,
    "scrolled": true
   },
   "outputs": [
    {
     "data": {
      "image/png": "[encoded data removed]",
      "text/plain": [
       "<matplotlib.figure.Figure at 0x1f03a1d0>"
      ]
     },
     "metadata": {},
     "output_type": "display_data"
    }
   ],
   "source": [
    "import scipy.cluster.vq as CL\n",
    "import matplotlib.pyplot as pp\n",
    "import numpy as np\n",
    "%matplotlib inline\n",
    "\n",
    "\n",
    "#number of centroids\n",
    "numK = 5\n",
    "\n",
    "\n",
    "centroids, sq = CL.kmeans(np.array(projected), numK)\n",
    "\n",
    "#compute distance of each sample to the centroids\n",
    "dist = [(np.sum((np.array(projected) - np.array([centroids[i]]))**2,1)) for i in range(numK)]\n",
    "\n",
    "#assign sample to closest cluster\n",
    "class_assigned = [(np.where(np.transpose(dist)[i]==min(np.transpose(dist)[i])))[0][0] for i in range(projected.shape[0])]\n",
    "clustered = [[projected[i] for i, clu in enumerate(class_assigned) if clu == k*1.] for k in range(numK)]\n",
    "\n",
    "# plotting each class\n",
    "for k in range(numK):\n",
    "    pp.plot(np.transpose(clustered[k])[0], np.transpose(clustered[k])[1],'o')\n",
    "\n",
    "#### CHANGE THESE LABELS TO MATCH YOUR DATA\n",
    "pp.title('K Means')\n",
    "pp.xlabel('x1')\n",
    "pp.ylabel('x2')\n",
    "pp.show()"
   ]
  },
  {
   "cell_type": "code",
   "execution_count": 399,
   "metadata": {
    "collapsed": false,
    "scrolled": false
   },
   "outputs": [
    {
     "data": {
      "text/html": [
       "<iframe id=\"igraph\" scrolling=\"no\" style=\"border:none;\"seamless=\"seamless\" src=\"https://plot.ly/~wgopar/7.embed\" height=\"525px\" width=\"100%\"></iframe>"
      ],
      "text/plain": [
       "<plotly.tools.PlotlyDisplay object>"
      ]
     },
     "execution_count": 399,
     "metadata": {},
     "output_type": "execute_result"
    }
   ],
   "source": [
    "pca2 = PCA(n_components=3)\n",
    "projected2 = pca2.fit_transform(all_data)\n",
    "\n",
    "# 3 dimensional projection\n",
    "trace1= go.Scatter3d(x=projected2[:,0],\n",
    "                    y=projected2[:,1],\n",
    "                    z=projected2[:,2],\n",
    "                    mode='markers+text',\n",
    "                    text=all_data.index.year\n",
    "                    )\n",
    "data = [trace1]\n",
    "ply.iplot(data,filename='simple-3d-scatter')"
   ]
  },
  {
   "cell_type": "code",
   "execution_count": null,
   "metadata": {
    "collapsed": true
   },
   "outputs": [],
   "source": [
    "for i in range(N2015.shape[0])"
   ]
  },
  {
   "cell_type": "code",
   "execution_count": null,
   "metadata": {
    "collapsed": true
   },
   "outputs": [],
   "source": []
  }
 ],
 "metadata": {
  "kernelspec": {
   "display_name": "Python 2",
   "language": "python",
   "name": "python2"
  },
  "language_info": {
   "codemirror_mode": {
    "name": "ipython",
    "version": 2
   },
   "file_extension": ".py",
   "mimetype": "text/x-python",
   "name": "python",
   "nbconvert_exporter": "python",
   "pygments_lexer": "ipython2",
   "version": "2.7.10"
  }
 },
 "nbformat": 4,
 "nbformat_minor": 0
}
