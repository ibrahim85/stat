{
 "cells": [
  {
   "cell_type": "markdown",
   "metadata": {
    "slideshow": {
     "slide_type": "slide"
    }
   },
   "source": [
    "#Data"
   ]
  },
  {
   "cell_type": "code",
   "execution_count": 200,
   "metadata": {
    "collapsed": true,
    "slideshow": {
     "slide_type": "subslide"
    }
   },
   "outputs": [],
   "source": [
    "import pandas as pd"
   ]
  },
  {
   "cell_type": "code",
   "execution_count": 632,
   "metadata": {
    "collapsed": true
   },
   "outputs": [],
   "source": [
    "from preprocessing import preprocess"
   ]
  },
  {
   "cell_type": "code",
   "execution_count": 633,
   "metadata": {
    "collapsed": true
   },
   "outputs": [],
   "source": [
    "dfs = []\n",
    "dfs.append(preprocess('../data/raw/CA/CA_1981-1985.txt'))\n",
    "dfs.append(preprocess('../data/raw/CA/CA_1985-1989.txt'))\n",
    "dfs.append(preprocess('../data/raw/CA/CA_1989-1993.txt'))\n",
    "dfs.append(preprocess('../data/raw/CA/CA_1993-1997.txt'))\n",
    "dfs.append(preprocess('../data/raw/CA/CA_1997-2001.txt'))\n",
    "dfs.append(preprocess('../data/raw/CA/CA_2001-2005.txt'))\n",
    "dfs.append(preprocess('../data/raw/CA/CA_2005-2009.txt'))\n",
    "dfs.append(preprocess('../data/raw/CA/CA_2009-2015.txt'))"
   ]
  },
  {
   "cell_type": "code",
   "execution_count": 634,
   "metadata": {
    "collapsed": true
   },
   "outputs": [],
   "source": [
    "df = pd.concat(dfs)"
   ]
  },
  {
   "cell_type": "code",
   "execution_count": 635,
   "metadata": {
    "collapsed": true
   },
   "outputs": [],
   "source": [
    "df = df.dropna(axis=0)"
   ]
  },
  {
   "cell_type": "code",
   "execution_count": 636,
   "metadata": {
    "collapsed": false,
    "slideshow": {
     "slide_type": "subslide"
    }
   },
   "outputs": [
    {
     "data": {
      "text/html": [
       "<div>\n",
       "<table border=\"1\" class=\"dataframe\">\n",
       "  <thead>\n",
       "    <tr style=\"text-align: right;\">\n",
       "      <th></th>\n",
       "      <th>STN</th>\n",
       "      <th>YEARMODA</th>\n",
       "      <th>TEMP</th>\n",
       "      <th>DEWP</th>\n",
       "      <th>VISIB</th>\n",
       "      <th>WDSP</th>\n",
       "      <th>GUST</th>\n",
       "      <th>MAX</th>\n",
       "      <th>MIN</th>\n",
       "      <th>PRCP</th>\n",
       "    </tr>\n",
       "  </thead>\n",
       "  <tbody>\n",
       "    <tr>\n",
       "      <th>14239</th>\n",
       "      <td>722900</td>\n",
       "      <td>1983-11-20</td>\n",
       "      <td>63.9</td>\n",
       "      <td>55.7</td>\n",
       "      <td>9.2</td>\n",
       "      <td>7.9</td>\n",
       "      <td>22.9</td>\n",
       "      <td>72.9</td>\n",
       "      <td>60.1</td>\n",
       "      <td>0.22</td>\n",
       "    </tr>\n",
       "    <tr>\n",
       "      <th>14240</th>\n",
       "      <td>722900</td>\n",
       "      <td>1983-11-21</td>\n",
       "      <td>60.4</td>\n",
       "      <td>46.5</td>\n",
       "      <td>10.9</td>\n",
       "      <td>14.1</td>\n",
       "      <td>29.9</td>\n",
       "      <td>69.1</td>\n",
       "      <td>54.0</td>\n",
       "      <td>0.48</td>\n",
       "    </tr>\n",
       "    <tr>\n",
       "      <th>14390</th>\n",
       "      <td>722900</td>\n",
       "      <td>1984-04-19</td>\n",
       "      <td>63.9</td>\n",
       "      <td>53.8</td>\n",
       "      <td>11.4</td>\n",
       "      <td>11.5</td>\n",
       "      <td>24.1</td>\n",
       "      <td>68.0</td>\n",
       "      <td>60.1</td>\n",
       "      <td>0.11</td>\n",
       "    </tr>\n",
       "    <tr>\n",
       "      <th>98918</th>\n",
       "      <td>725910</td>\n",
       "      <td>1985-04-21</td>\n",
       "      <td>52.5</td>\n",
       "      <td>41.2</td>\n",
       "      <td>13.0</td>\n",
       "      <td>11.6</td>\n",
       "      <td>18.1</td>\n",
       "      <td>60.1</td>\n",
       "      <td>46.9</td>\n",
       "      <td>0.03</td>\n",
       "    </tr>\n",
       "    <tr>\n",
       "      <th>71115</th>\n",
       "      <td>724800</td>\n",
       "      <td>1987-12-16</td>\n",
       "      <td>30.1</td>\n",
       "      <td>17.0</td>\n",
       "      <td>13.3</td>\n",
       "      <td>15.0</td>\n",
       "      <td>33.0</td>\n",
       "      <td>33.1</td>\n",
       "      <td>23.0</td>\n",
       "      <td>0.01</td>\n",
       "    </tr>\n",
       "    <tr>\n",
       "      <th>75304</th>\n",
       "      <td>724800</td>\n",
       "      <td>1992-12-30</td>\n",
       "      <td>33.1</td>\n",
       "      <td>24.6</td>\n",
       "      <td>42.8</td>\n",
       "      <td>6.3</td>\n",
       "      <td>19.8</td>\n",
       "      <td>41.9</td>\n",
       "      <td>23.0</td>\n",
       "      <td>0.35</td>\n",
       "    </tr>\n",
       "    <tr>\n",
       "      <th>73152</th>\n",
       "      <td>724800</td>\n",
       "      <td>1994-03-25</td>\n",
       "      <td>38.0</td>\n",
       "      <td>32.4</td>\n",
       "      <td>8.3</td>\n",
       "      <td>6.9</td>\n",
       "      <td>23.9</td>\n",
       "      <td>54.9</td>\n",
       "      <td>32.0</td>\n",
       "      <td>0.08</td>\n",
       "    </tr>\n",
       "    <tr>\n",
       "      <th>49910</th>\n",
       "      <td>723815</td>\n",
       "      <td>1999-10-07</td>\n",
       "      <td>68.3</td>\n",
       "      <td>37.8</td>\n",
       "      <td>29.4</td>\n",
       "      <td>12.2</td>\n",
       "      <td>35.9</td>\n",
       "      <td>82.2</td>\n",
       "      <td>55.2</td>\n",
       "      <td>0.00</td>\n",
       "    </tr>\n",
       "    <tr>\n",
       "      <th>49931</th>\n",
       "      <td>723815</td>\n",
       "      <td>1999-10-28</td>\n",
       "      <td>71.9</td>\n",
       "      <td>42.1</td>\n",
       "      <td>24.9</td>\n",
       "      <td>13.4</td>\n",
       "      <td>35.0</td>\n",
       "      <td>85.5</td>\n",
       "      <td>60.8</td>\n",
       "      <td>0.00</td>\n",
       "    </tr>\n",
       "    <tr>\n",
       "      <th>55442</th>\n",
       "      <td>723830</td>\n",
       "      <td>1999-10-04</td>\n",
       "      <td>74.6</td>\n",
       "      <td>39.0</td>\n",
       "      <td>10.0</td>\n",
       "      <td>13.4</td>\n",
       "      <td>23.9</td>\n",
       "      <td>82.0</td>\n",
       "      <td>55.9</td>\n",
       "      <td>0.00</td>\n",
       "    </tr>\n",
       "  </tbody>\n",
       "</table>\n",
       "</div>"
      ],
      "text/plain": [
       "          STN   YEARMODA  TEMP  DEWP  VISIB  WDSP  GUST   MAX   MIN  PRCP\n",
       "14239  722900 1983-11-20  63.9  55.7    9.2   7.9  22.9  72.9  60.1  0.22\n",
       "14240  722900 1983-11-21  60.4  46.5   10.9  14.1  29.9  69.1  54.0  0.48\n",
       "14390  722900 1984-04-19  63.9  53.8   11.4  11.5  24.1  68.0  60.1  0.11\n",
       "98918  725910 1985-04-21  52.5  41.2   13.0  11.6  18.1  60.1  46.9  0.03\n",
       "71115  724800 1987-12-16  30.1  17.0   13.3  15.0  33.0  33.1  23.0  0.01\n",
       "75304  724800 1992-12-30  33.1  24.6   42.8   6.3  19.8  41.9  23.0  0.35\n",
       "73152  724800 1994-03-25  38.0  32.4    8.3   6.9  23.9  54.9  32.0  0.08\n",
       "49910  723815 1999-10-07  68.3  37.8   29.4  12.2  35.9  82.2  55.2  0.00\n",
       "49931  723815 1999-10-28  71.9  42.1   24.9  13.4  35.0  85.5  60.8  0.00\n",
       "55442  723830 1999-10-04  74.6  39.0   10.0  13.4  23.9  82.0  55.9  0.00"
      ]
     },
     "execution_count": 636,
     "metadata": {},
     "output_type": "execute_result"
    }
   ],
   "source": [
    "df[['STN','YEARMODA','TEMP','DEWP','VISIB','WDSP','GUST','MAX','MIN','PRCP']].head(10)"
   ]
  },
  {
   "cell_type": "code",
   "execution_count": 244,
   "metadata": {
    "collapsed": false
   },
   "outputs": [],
   "source": [
    "df_subsetted = pd.read_csv('../data/preprocessed/CA/CA_1981-2015_subsetted2.csv', parse_dates=['YEARMODA'])"
   ]
  },
  {
   "cell_type": "code",
   "execution_count": 638,
   "metadata": {
    "collapsed": false
   },
   "outputs": [
    {
     "data": {
      "text/html": [
       "<div>\n",
       "<table border=\"1\" class=\"dataframe\">\n",
       "  <thead>\n",
       "    <tr style=\"text-align: right;\">\n",
       "      <th></th>\n",
       "      <th>Unnamed: 0</th>\n",
       "      <th>STN</th>\n",
       "      <th>YEARMODA</th>\n",
       "      <th>TEMP</th>\n",
       "      <th>PRCP</th>\n",
       "      <th>GUST</th>\n",
       "      <th>WDSP</th>\n",
       "      <th>MXSPD</th>\n",
       "    </tr>\n",
       "  </thead>\n",
       "  <tbody>\n",
       "    <tr>\n",
       "      <th>0</th>\n",
       "      <td>0</td>\n",
       "      <td>691414</td>\n",
       "      <td>1985-04-24</td>\n",
       "      <td>54.1</td>\n",
       "      <td>0</td>\n",
       "      <td>15.0</td>\n",
       "      <td>5.6</td>\n",
       "      <td>9.9</td>\n",
       "    </tr>\n",
       "    <tr>\n",
       "      <th>1</th>\n",
       "      <td>1</td>\n",
       "      <td>691414</td>\n",
       "      <td>1985-04-25</td>\n",
       "      <td>42.9</td>\n",
       "      <td>NaN</td>\n",
       "      <td>25.1</td>\n",
       "      <td>12.6</td>\n",
       "      <td>19.0</td>\n",
       "    </tr>\n",
       "    <tr>\n",
       "      <th>2</th>\n",
       "      <td>2</td>\n",
       "      <td>691414</td>\n",
       "      <td>1985-04-26</td>\n",
       "      <td>43.0</td>\n",
       "      <td>NaN</td>\n",
       "      <td>20.0</td>\n",
       "      <td>8.8</td>\n",
       "      <td>15.9</td>\n",
       "    </tr>\n",
       "    <tr>\n",
       "      <th>3</th>\n",
       "      <td>3</td>\n",
       "      <td>691414</td>\n",
       "      <td>1985-04-27</td>\n",
       "      <td>42.4</td>\n",
       "      <td>NaN</td>\n",
       "      <td>53.0</td>\n",
       "      <td>16.3</td>\n",
       "      <td>29.9</td>\n",
       "    </tr>\n",
       "    <tr>\n",
       "      <th>4</th>\n",
       "      <td>4</td>\n",
       "      <td>691414</td>\n",
       "      <td>1985-04-28</td>\n",
       "      <td>40.5</td>\n",
       "      <td>NaN</td>\n",
       "      <td>40.0</td>\n",
       "      <td>14.0</td>\n",
       "      <td>27.0</td>\n",
       "    </tr>\n",
       "  </tbody>\n",
       "</table>\n",
       "</div>"
      ],
      "text/plain": [
       "   Unnamed: 0     STN   YEARMODA  TEMP  PRCP  GUST  WDSP  MXSPD\n",
       "0           0  691414 1985-04-24  54.1     0  15.0   5.6    9.9\n",
       "1           1  691414 1985-04-25  42.9   NaN  25.1  12.6   19.0\n",
       "2           2  691414 1985-04-26  43.0   NaN  20.0   8.8   15.9\n",
       "3           3  691414 1985-04-27  42.4   NaN  53.0  16.3   29.9\n",
       "4           4  691414 1985-04-28  40.5   NaN  40.0  14.0   27.0"
      ]
     },
     "execution_count": 638,
     "metadata": {},
     "output_type": "execute_result"
    }
   ],
   "source": [
    "df_subsetted.head()"
   ]
  },
  {
   "cell_type": "code",
   "execution_count": 246,
   "metadata": {
    "collapsed": false,
    "slideshow": {
     "slide_type": "subslide"
    }
   },
   "outputs": [
    {
     "data": {
      "text/plain": [
       "Unnamed: 0    1370304\n",
       "STN           1370304\n",
       "YEARMODA      1370304\n",
       "TEMP          1370304\n",
       "PRCP          1341677\n",
       "GUST           386697\n",
       "WDSP          1342008\n",
       "MXSPD         1338075\n",
       "dtype: int64"
      ]
     },
     "execution_count": 246,
     "metadata": {},
     "output_type": "execute_result"
    }
   ],
   "source": [
    "df_subsetted.count()"
   ]
  },
  {
   "cell_type": "markdown",
   "metadata": {},
   "source": [
    "# El nino index"
   ]
  },
  {
   "cell_type": "code",
   "execution_count": 212,
   "metadata": {
    "collapsed": false,
    "scrolled": false
   },
   "outputs": [
    {
     "name": "stderr",
     "output_type": "stream",
     "text": [
      "/Library/Frameworks/Python.framework/Versions/3.4/lib/python3.4/site-packages/pandas/io/parsers.py:648: ParserWarning:\n",
      "\n",
      "Falling back to the 'python' engine because the 'c' engine does not support regex separators; you can avoid this warning by specifying engine='python'.\n",
      "\n"
     ]
    }
   ],
   "source": [
    "oci = pd.read_csv('../data/raw/ONI.txt', sep=r'\\t')"
   ]
  },
  {
   "cell_type": "code",
   "execution_count": 213,
   "metadata": {
    "collapsed": false
   },
   "outputs": [],
   "source": [
    "oci['index'] = oci['Type'].map({'VSL':-2, 'SL':-1.5, 'ML':-1, 'WL':-0.5, 'N':0, 'WE':0.5, 'ME':1, 'SE':1.5, 'VSE':2})"
   ]
  },
  {
   "cell_type": "markdown",
   "metadata": {},
   "source": [
    "<img src=\"../figures/elnino.png\" />"
   ]
  },
  {
   "cell_type": "markdown",
   "metadata": {
    "slideshow": {
     "slide_type": "slide"
    }
   },
   "source": [
    "#What El nino looks like in LA"
   ]
  },
  {
   "cell_type": "markdown",
   "metadata": {},
   "source": [
    "<img src=\"http://www.trbimg.com/img-55d635df/turbine/la-me-g-0820-el-nino-rainfall-comparison-20150820/750/750x422\" />"
   ]
  },
  {
   "cell_type": "markdown",
   "metadata": {},
   "source": [
    "Source: http://www.latimes.com/local/lanow/la-me-ln-el-nino-temperatures-new-record-20151117-story.html"
   ]
  },
  {
   "cell_type": "code",
   "execution_count": 249,
   "metadata": {
    "collapsed": true
   },
   "outputs": [],
   "source": [
    "from plotly import plotly as ply\n",
    "from plotly import graph_objs as go"
   ]
  },
  {
   "cell_type": "code",
   "execution_count": 641,
   "metadata": {
    "collapsed": true
   },
   "outputs": [],
   "source": [
    "tt = la.set_index('YEARMODA')[['PRCP']]['1997-7-1':'1998-6-30']\n",
    "tt2 = la.set_index('YEARMODA')[['PRCP']]['2014-7-1':'2015-6-30']\n",
    "rr = tt.resample('M') \n",
    "rr2 = tt2.resample('M')"
   ]
  },
  {
   "cell_type": "code",
   "execution_count": 643,
   "metadata": {
    "collapsed": false,
    "scrolled": false
   },
   "outputs": [
    {
     "data": {
      "text/html": [
       "<iframe id=\"igraph\" scrolling=\"no\" style=\"border:none;\"seamless=\"seamless\" src=\"https://plot.ly/~LIBELO6/565.embed\" height=\"525\" width=\"100%\"></iframe>"
      ],
      "text/plain": [
       "<plotly.tools.PlotlyDisplay object>"
      ]
     },
     "execution_count": 643,
     "metadata": {},
     "output_type": "execute_result"
    }
   ],
   "source": [
    "traces = []\n",
    "traces.append(go.Scatter(\n",
    "    x=tt.index.map(lambda x:x.strftime('%b %d')),\n",
    "    y=tt['PRCP'],\n",
    "    name='1997-1998'))\n",
    "traces.append(go.Scatter(\n",
    "    x=tt2.index.map(lambda x:x.strftime('%b %d')),\n",
    "    y=tt2['PRCP'],\n",
    "    name='2014-2015'))\n",
    "traces.append(go.Scatter(\n",
    "    x=rr.index.map(lambda x:x.strftime('%b %d')),\n",
    "    y=rr['PRCP'],\n",
    "    name='1997-1998 monthly'))\n",
    "traces.append(go.Scatter(\n",
    "    x=rr2.index.map(lambda x:x.strftime('%b %d')),\n",
    "    y=rr2['PRCP'],\n",
    "    name='2014-2015 monthly'))\n",
    "layout= go.Layout(title='Precipitation in 1997-1998 vs 2014-2015 in LA')\n",
    "ply.iplot({'data':traces, 'layout':layout}, filename='WeatherData/test1')"
   ]
  },
  {
   "cell_type": "markdown",
   "metadata": {},
   "source": [
    "There's a huge difference in precipitation between 1997-1998 and 2014-2015, but only obvious in Feb."
   ]
  },
  {
   "cell_type": "markdown",
   "metadata": {},
   "source": [
    "## Precipitation and El nino (Higher index means stronger el nino)"
   ]
  },
  {
   "cell_type": "code",
   "execution_count": 273,
   "metadata": {
    "collapsed": false
   },
   "outputs": [
    {
     "data": {
      "text/html": [
       "<iframe id=\"igraph\" scrolling=\"no\" style=\"border:none;\"seamless=\"seamless\" src=\"https://plot.ly/~LIBELO6/561.embed\" height=\"525\" width=\"100%\"></iframe>"
      ],
      "text/plain": [
       "<plotly.tools.PlotlyDisplay object>"
      ]
     },
     "execution_count": 273,
     "metadata": {},
     "output_type": "execute_result"
    }
   ],
   "source": [
    "traces = []\n",
    "traces.append(go.Scatter(x=haha['index'], y=haha['PRCP'], text=haha.index, mode='markers', \n",
    "                         marker = dict(color=haha['index'], colorscale='Viridis')))\n",
    "ply.iplot(traces, filename='WeatherData/precipitation')"
   ]
  },
  {
   "cell_type": "markdown",
   "metadata": {},
   "source": [
    "Positive Correlation between precipitation and el nino. (at least in LA)"
   ]
  },
  {
   "cell_type": "markdown",
   "metadata": {},
   "source": [
    "## Temperature and El nino"
   ]
  },
  {
   "cell_type": "code",
   "execution_count": 289,
   "metadata": {
    "collapsed": false,
    "scrolled": false
   },
   "outputs": [
    {
     "data": {
      "text/html": [
       "<iframe id=\"igraph\" scrolling=\"no\" style=\"border:none;\"seamless=\"seamless\" src=\"https://plot.ly/~LIBELO6/584.embed\" height=\"525\" width=\"100%\"></iframe>"
      ],
      "text/plain": [
       "<plotly.tools.PlotlyDisplay object>"
      ]
     },
     "execution_count": 289,
     "metadata": {},
     "output_type": "execute_result"
    }
   ],
   "source": [
    "traces = []\n",
    "traces.append(go.Scatter(x=haha['PRCP'], y=haha['TEMP'], text=haha.index, mode='markers', \n",
    "                         marker = dict(color=haha['index'])))\n",
    "ply.iplot(traces, filename='WeatherData/test7')"
   ]
  },
  {
   "cell_type": "markdown",
   "metadata": {},
   "source": [
    "TEMP is not correlated with el nino"
   ]
  },
  {
   "cell_type": "markdown",
   "metadata": {},
   "source": [
    "#PCA"
   ]
  },
  {
   "cell_type": "code",
   "execution_count": 484,
   "metadata": {
    "collapsed": true
   },
   "outputs": [],
   "source": [
    "all2 = all_shifted.copy()"
   ]
  },
  {
   "cell_type": "code",
   "execution_count": 485,
   "metadata": {
    "collapsed": false
   },
   "outputs": [],
   "source": [
    "all2['year'] = all2.index.year"
   ]
  },
  {
   "cell_type": "code",
   "execution_count": 486,
   "metadata": {
    "collapsed": false
   },
   "outputs": [
    {
     "data": {
      "text/html": [
       "<div>\n",
       "<table border=\"1\" class=\"dataframe\">\n",
       "  <thead>\n",
       "    <tr style=\"text-align: right;\">\n",
       "      <th></th>\n",
       "      <th>STN</th>\n",
       "      <th>PRCP</th>\n",
       "      <th>WDSP</th>\n",
       "      <th>MXSPD</th>\n",
       "      <th>TEMP</th>\n",
       "      <th>year</th>\n",
       "    </tr>\n",
       "    <tr>\n",
       "      <th>YEARMODA</th>\n",
       "      <th></th>\n",
       "      <th></th>\n",
       "      <th></th>\n",
       "      <th></th>\n",
       "      <th></th>\n",
       "      <th></th>\n",
       "    </tr>\n",
       "  </thead>\n",
       "  <tbody>\n",
       "    <tr>\n",
       "      <th>1984-08-31</th>\n",
       "      <td>697534</td>\n",
       "      <td>0</td>\n",
       "      <td>8.4</td>\n",
       "      <td>9.9</td>\n",
       "      <td>71.2</td>\n",
       "      <td>1984</td>\n",
       "    </tr>\n",
       "    <tr>\n",
       "      <th>1984-08-31</th>\n",
       "      <td>697534</td>\n",
       "      <td>0</td>\n",
       "      <td>8.7</td>\n",
       "      <td>9.9</td>\n",
       "      <td>70.7</td>\n",
       "      <td>1984</td>\n",
       "    </tr>\n",
       "    <tr>\n",
       "      <th>1984-05-31</th>\n",
       "      <td>722810</td>\n",
       "      <td>0</td>\n",
       "      <td>2.8</td>\n",
       "      <td>9.9</td>\n",
       "      <td>67.2</td>\n",
       "      <td>1984</td>\n",
       "    </tr>\n",
       "    <tr>\n",
       "      <th>1984-05-31</th>\n",
       "      <td>722810</td>\n",
       "      <td>0</td>\n",
       "      <td>3.0</td>\n",
       "      <td>7.0</td>\n",
       "      <td>67.8</td>\n",
       "      <td>1984</td>\n",
       "    </tr>\n",
       "    <tr>\n",
       "      <th>1984-05-31</th>\n",
       "      <td>722810</td>\n",
       "      <td>0</td>\n",
       "      <td>1.9</td>\n",
       "      <td>8.0</td>\n",
       "      <td>68.1</td>\n",
       "      <td>1984</td>\n",
       "    </tr>\n",
       "  </tbody>\n",
       "</table>\n",
       "</div>"
      ],
      "text/plain": [
       "               STN  PRCP  WDSP  MXSPD  TEMP  year\n",
       "YEARMODA                                         \n",
       "1984-08-31  697534     0   8.4    9.9  71.2  1984\n",
       "1984-08-31  697534     0   8.7    9.9  70.7  1984\n",
       "1984-05-31  722810     0   2.8    9.9  67.2  1984\n",
       "1984-05-31  722810     0   3.0    7.0  67.8  1984\n",
       "1984-05-31  722810     0   1.9    8.0  68.1  1984"
      ]
     },
     "execution_count": 486,
     "metadata": {},
     "output_type": "execute_result"
    }
   ],
   "source": [
    "all2.head()"
   ]
  },
  {
   "cell_type": "code",
   "execution_count": 488,
   "metadata": {
    "collapsed": false
   },
   "outputs": [],
   "source": [
    "all2_years = all2.groupby(['STN', 'year']).mean()\n",
    "all2_years = all2_years.reset_index()"
   ]
  },
  {
   "cell_type": "code",
   "execution_count": 500,
   "metadata": {
    "collapsed": true
   },
   "outputs": [],
   "source": [
    "all2_weeks = all2.groupby('STN').resample('W')\n",
    "all2_weeks = all2_weeks.reset_index()"
   ]
  },
  {
   "cell_type": "code",
   "execution_count": 603,
   "metadata": {
    "collapsed": true
   },
   "outputs": [],
   "source": [
    "all2_max = all2_weeks.set_index('YEARMODA').groupby('STN')[['MXSPD', 'PRCP', 'WDSP']].resample('A', 'max').reset_index()"
   ]
  },
  {
   "cell_type": "code",
   "execution_count": 604,
   "metadata": {
    "collapsed": false
   },
   "outputs": [
    {
     "data": {
      "text/html": [
       "<div>\n",
       "<table border=\"1\" class=\"dataframe\">\n",
       "  <thead>\n",
       "    <tr style=\"text-align: right;\">\n",
       "      <th></th>\n",
       "      <th>STN</th>\n",
       "      <th>year</th>\n",
       "      <th>PRCP</th>\n",
       "      <th>WDSP</th>\n",
       "      <th>MXSPD</th>\n",
       "      <th>TEMP</th>\n",
       "    </tr>\n",
       "  </thead>\n",
       "  <tbody>\n",
       "    <tr>\n",
       "      <th>0</th>\n",
       "      <td>690020</td>\n",
       "      <td>1989</td>\n",
       "      <td>0.031148</td>\n",
       "      <td>2.032787</td>\n",
       "      <td>4.824590</td>\n",
       "      <td>50.537705</td>\n",
       "    </tr>\n",
       "    <tr>\n",
       "      <th>1</th>\n",
       "      <td>690020</td>\n",
       "      <td>1990</td>\n",
       "      <td>0.013043</td>\n",
       "      <td>2.556522</td>\n",
       "      <td>5.895652</td>\n",
       "      <td>55.636232</td>\n",
       "    </tr>\n",
       "    <tr>\n",
       "      <th>2</th>\n",
       "      <td>690020</td>\n",
       "      <td>1991</td>\n",
       "      <td>0.061842</td>\n",
       "      <td>2.457895</td>\n",
       "      <td>5.342105</td>\n",
       "      <td>56.144737</td>\n",
       "    </tr>\n",
       "    <tr>\n",
       "      <th>3</th>\n",
       "      <td>690020</td>\n",
       "      <td>1992</td>\n",
       "      <td>0.209211</td>\n",
       "      <td>3.143590</td>\n",
       "      <td>6.937662</td>\n",
       "      <td>52.902564</td>\n",
       "    </tr>\n",
       "    <tr>\n",
       "      <th>4</th>\n",
       "      <td>690020</td>\n",
       "      <td>1993</td>\n",
       "      <td>0.089265</td>\n",
       "      <td>3.427941</td>\n",
       "      <td>6.886765</td>\n",
       "      <td>52.938235</td>\n",
       "    </tr>\n",
       "  </tbody>\n",
       "</table>\n",
       "</div>"
      ],
      "text/plain": [
       "      STN  year      PRCP      WDSP     MXSPD       TEMP\n",
       "0  690020  1989  0.031148  2.032787  4.824590  50.537705\n",
       "1  690020  1990  0.013043  2.556522  5.895652  55.636232\n",
       "2  690020  1991  0.061842  2.457895  5.342105  56.144737\n",
       "3  690020  1992  0.209211  3.143590  6.937662  52.902564\n",
       "4  690020  1993  0.089265  3.427941  6.886765  52.938235"
      ]
     },
     "execution_count": 604,
     "metadata": {},
     "output_type": "execute_result"
    }
   ],
   "source": [
    "all2_years.head()"
   ]
  },
  {
   "cell_type": "code",
   "execution_count": 605,
   "metadata": {
    "collapsed": false,
    "scrolled": true
   },
   "outputs": [
    {
     "data": {
      "text/html": [
       "<div>\n",
       "<table border=\"1\" class=\"dataframe\">\n",
       "  <thead>\n",
       "    <tr style=\"text-align: right;\">\n",
       "      <th></th>\n",
       "      <th>STN</th>\n",
       "      <th>YEARMODA</th>\n",
       "      <th>MXSPD</th>\n",
       "      <th>PRCP</th>\n",
       "      <th>WDSP</th>\n",
       "    </tr>\n",
       "  </thead>\n",
       "  <tbody>\n",
       "    <tr>\n",
       "      <th>0</th>\n",
       "      <td>690020</td>\n",
       "      <td>1989-12-31</td>\n",
       "      <td>5.687500</td>\n",
       "      <td>0.057917</td>\n",
       "      <td>2.491667</td>\n",
       "    </tr>\n",
       "    <tr>\n",
       "      <th>1</th>\n",
       "      <td>690020</td>\n",
       "      <td>1990-12-31</td>\n",
       "      <td>6.642105</td>\n",
       "      <td>0.025714</td>\n",
       "      <td>2.884211</td>\n",
       "    </tr>\n",
       "    <tr>\n",
       "      <th>2</th>\n",
       "      <td>690020</td>\n",
       "      <td>1991-12-31</td>\n",
       "      <td>6.578947</td>\n",
       "      <td>0.225789</td>\n",
       "      <td>3.200000</td>\n",
       "    </tr>\n",
       "    <tr>\n",
       "      <th>3</th>\n",
       "      <td>690020</td>\n",
       "      <td>1992-12-31</td>\n",
       "      <td>8.984211</td>\n",
       "      <td>0.367895</td>\n",
       "      <td>4.336842</td>\n",
       "    </tr>\n",
       "    <tr>\n",
       "      <th>4</th>\n",
       "      <td>690020</td>\n",
       "      <td>1993-12-31</td>\n",
       "      <td>8.210526</td>\n",
       "      <td>0.186316</td>\n",
       "      <td>3.994737</td>\n",
       "    </tr>\n",
       "  </tbody>\n",
       "</table>\n",
       "</div>"
      ],
      "text/plain": [
       "      STN   YEARMODA     MXSPD      PRCP      WDSP\n",
       "0  690020 1989-12-31  5.687500  0.057917  2.491667\n",
       "1  690020 1990-12-31  6.642105  0.025714  2.884211\n",
       "2  690020 1991-12-31  6.578947  0.225789  3.200000\n",
       "3  690020 1992-12-31  8.984211  0.367895  4.336842\n",
       "4  690020 1993-12-31  8.210526  0.186316  3.994737"
      ]
     },
     "execution_count": 605,
     "metadata": {},
     "output_type": "execute_result"
    }
   ],
   "source": [
    "all2_max.head()"
   ]
  },
  {
   "cell_type": "raw",
   "metadata": {},
   "source": [
    "la_max = all2_max[all2_max['STN'] == 722950]\n",
    "all2_pivot = la_max.pivot(index='YEARMODA', columns='STN')"
   ]
  },
  {
   "cell_type": "code",
   "execution_count": 606,
   "metadata": {
    "collapsed": true
   },
   "outputs": [],
   "source": [
    "all2_pivot = all2_max.pivot(index='YEARMODA', columns='STN')"
   ]
  },
  {
   "cell_type": "code",
   "execution_count": 607,
   "metadata": {
    "collapsed": false
   },
   "outputs": [],
   "source": [
    "all2_notnull = all2_pivot.dropna(axis=1)"
   ]
  },
  {
   "cell_type": "code",
   "execution_count": 625,
   "metadata": {
    "collapsed": false
   },
   "outputs": [
    {
     "data": {
      "text/html": [
       "<div>\n",
       "<table border=\"1\" class=\"dataframe\">\n",
       "  <thead>\n",
       "    <tr>\n",
       "      <th></th>\n",
       "      <th colspan=\"10\" halign=\"left\">MXSPD</th>\n",
       "      <th>...</th>\n",
       "      <th colspan=\"10\" halign=\"left\">WDSP</th>\n",
       "    </tr>\n",
       "    <tr>\n",
       "      <th>STN</th>\n",
       "      <th>722860</th>\n",
       "      <th>722868</th>\n",
       "      <th>722880</th>\n",
       "      <th>722886</th>\n",
       "      <th>722900</th>\n",
       "      <th>722904</th>\n",
       "      <th>722906</th>\n",
       "      <th>722907</th>\n",
       "      <th>722909</th>\n",
       "      <th>722925</th>\n",
       "      <th>...</th>\n",
       "      <th>725940</th>\n",
       "      <th>725945</th>\n",
       "      <th>725946</th>\n",
       "      <th>725957</th>\n",
       "      <th>745160</th>\n",
       "      <th>746120</th>\n",
       "      <th>747020</th>\n",
       "      <th>747185</th>\n",
       "      <th>747187</th>\n",
       "      <th>747188</th>\n",
       "    </tr>\n",
       "    <tr>\n",
       "      <th>YEARMODA</th>\n",
       "      <th></th>\n",
       "      <th></th>\n",
       "      <th></th>\n",
       "      <th></th>\n",
       "      <th></th>\n",
       "      <th></th>\n",
       "      <th></th>\n",
       "      <th></th>\n",
       "      <th></th>\n",
       "      <th></th>\n",
       "      <th></th>\n",
       "      <th></th>\n",
       "      <th></th>\n",
       "      <th></th>\n",
       "      <th></th>\n",
       "      <th></th>\n",
       "      <th></th>\n",
       "      <th></th>\n",
       "      <th></th>\n",
       "      <th></th>\n",
       "      <th></th>\n",
       "    </tr>\n",
       "  </thead>\n",
       "  <tbody>\n",
       "    <tr>\n",
       "      <th>1981-12-31</th>\n",
       "      <td>12.277419</td>\n",
       "      <td>13.014286</td>\n",
       "      <td>10.357692</td>\n",
       "      <td>13.725806</td>\n",
       "      <td>12.819355</td>\n",
       "      <td>4.900000</td>\n",
       "      <td>11.877419</td>\n",
       "      <td>11.380645</td>\n",
       "      <td>12.208333</td>\n",
       "      <td>12.893548</td>\n",
       "      <td>...</td>\n",
       "      <td>8.338095</td>\n",
       "      <td>6.445161</td>\n",
       "      <td>9.764516</td>\n",
       "      <td>4.754839</td>\n",
       "      <td>5.280645</td>\n",
       "      <td>5.300000</td>\n",
       "      <td>4.170968</td>\n",
       "      <td>5.064516</td>\n",
       "      <td>5.151613</td>\n",
       "      <td>6.200000</td>\n",
       "    </tr>\n",
       "    <tr>\n",
       "      <th>1982-12-31</th>\n",
       "      <td>11.190323</td>\n",
       "      <td>12.153333</td>\n",
       "      <td>10.835484</td>\n",
       "      <td>13.540000</td>\n",
       "      <td>13.370968</td>\n",
       "      <td>8.600000</td>\n",
       "      <td>13.167742</td>\n",
       "      <td>11.500000</td>\n",
       "      <td>14.104348</td>\n",
       "      <td>13.839286</td>\n",
       "      <td>...</td>\n",
       "      <td>11.500000</td>\n",
       "      <td>8.235714</td>\n",
       "      <td>11.271429</td>\n",
       "      <td>4.670968</td>\n",
       "      <td>6.867857</td>\n",
       "      <td>4.213793</td>\n",
       "      <td>5.014286</td>\n",
       "      <td>5.089286</td>\n",
       "      <td>5.603226</td>\n",
       "      <td>6.570968</td>\n",
       "    </tr>\n",
       "    <tr>\n",
       "      <th>1983-12-31</th>\n",
       "      <td>11.717241</td>\n",
       "      <td>13.883333</td>\n",
       "      <td>11.239286</td>\n",
       "      <td>13.416667</td>\n",
       "      <td>12.189655</td>\n",
       "      <td>13.048276</td>\n",
       "      <td>11.480000</td>\n",
       "      <td>12.455172</td>\n",
       "      <td>9.470833</td>\n",
       "      <td>13.703333</td>\n",
       "      <td>...</td>\n",
       "      <td>5.957143</td>\n",
       "      <td>7.166667</td>\n",
       "      <td>10.153333</td>\n",
       "      <td>4.256667</td>\n",
       "      <td>5.110000</td>\n",
       "      <td>5.180000</td>\n",
       "      <td>4.956667</td>\n",
       "      <td>5.406667</td>\n",
       "      <td>5.731034</td>\n",
       "      <td>7.196552</td>\n",
       "    </tr>\n",
       "    <tr>\n",
       "      <th>1984-12-31</th>\n",
       "      <td>12.738710</td>\n",
       "      <td>12.780000</td>\n",
       "      <td>11.425000</td>\n",
       "      <td>13.306897</td>\n",
       "      <td>12.635484</td>\n",
       "      <td>12.603226</td>\n",
       "      <td>12.051613</td>\n",
       "      <td>10.294118</td>\n",
       "      <td>10.968000</td>\n",
       "      <td>14.093548</td>\n",
       "      <td>...</td>\n",
       "      <td>10.900000</td>\n",
       "      <td>6.683333</td>\n",
       "      <td>10.860714</td>\n",
       "      <td>5.064000</td>\n",
       "      <td>5.489286</td>\n",
       "      <td>4.689286</td>\n",
       "      <td>4.193333</td>\n",
       "      <td>5.006667</td>\n",
       "      <td>5.385714</td>\n",
       "      <td>6.578571</td>\n",
       "    </tr>\n",
       "    <tr>\n",
       "      <th>1985-12-31</th>\n",
       "      <td>10.909677</td>\n",
       "      <td>12.125000</td>\n",
       "      <td>11.628571</td>\n",
       "      <td>12.450000</td>\n",
       "      <td>12.639286</td>\n",
       "      <td>13.835484</td>\n",
       "      <td>12.625000</td>\n",
       "      <td>10.790323</td>\n",
       "      <td>11.800000</td>\n",
       "      <td>11.242857</td>\n",
       "      <td>...</td>\n",
       "      <td>9.276471</td>\n",
       "      <td>7.150000</td>\n",
       "      <td>9.307143</td>\n",
       "      <td>4.209677</td>\n",
       "      <td>6.217857</td>\n",
       "      <td>5.082143</td>\n",
       "      <td>4.803571</td>\n",
       "      <td>6.878571</td>\n",
       "      <td>5.760714</td>\n",
       "      <td>6.303571</td>\n",
       "    </tr>\n",
       "    <tr>\n",
       "      <th>1986-12-31</th>\n",
       "      <td>13.139286</td>\n",
       "      <td>14.039286</td>\n",
       "      <td>10.846667</td>\n",
       "      <td>12.067857</td>\n",
       "      <td>13.737037</td>\n",
       "      <td>14.064286</td>\n",
       "      <td>14.010714</td>\n",
       "      <td>11.628571</td>\n",
       "      <td>13.019231</td>\n",
       "      <td>10.416000</td>\n",
       "      <td>...</td>\n",
       "      <td>8.430000</td>\n",
       "      <td>6.828571</td>\n",
       "      <td>9.725000</td>\n",
       "      <td>4.280769</td>\n",
       "      <td>6.623333</td>\n",
       "      <td>4.853571</td>\n",
       "      <td>4.573333</td>\n",
       "      <td>6.685714</td>\n",
       "      <td>6.571429</td>\n",
       "      <td>8.582143</td>\n",
       "    </tr>\n",
       "    <tr>\n",
       "      <th>1987-12-31</th>\n",
       "      <td>10.658065</td>\n",
       "      <td>12.200000</td>\n",
       "      <td>12.277778</td>\n",
       "      <td>14.889655</td>\n",
       "      <td>13.045161</td>\n",
       "      <td>12.683871</td>\n",
       "      <td>13.719355</td>\n",
       "      <td>10.293548</td>\n",
       "      <td>11.540000</td>\n",
       "      <td>10.625000</td>\n",
       "      <td>...</td>\n",
       "      <td>9.040909</td>\n",
       "      <td>7.641935</td>\n",
       "      <td>9.722581</td>\n",
       "      <td>5.354839</td>\n",
       "      <td>7.341935</td>\n",
       "      <td>3.382759</td>\n",
       "      <td>5.790000</td>\n",
       "      <td>5.366667</td>\n",
       "      <td>5.613793</td>\n",
       "      <td>7.300000</td>\n",
       "    </tr>\n",
       "    <tr>\n",
       "      <th>1988-12-31</th>\n",
       "      <td>9.883333</td>\n",
       "      <td>14.982143</td>\n",
       "      <td>11.722581</td>\n",
       "      <td>14.754839</td>\n",
       "      <td>12.200000</td>\n",
       "      <td>13.221429</td>\n",
       "      <td>11.848387</td>\n",
       "      <td>11.359259</td>\n",
       "      <td>12.495652</td>\n",
       "      <td>12.051852</td>\n",
       "      <td>...</td>\n",
       "      <td>7.458333</td>\n",
       "      <td>5.966667</td>\n",
       "      <td>8.083333</td>\n",
       "      <td>4.180645</td>\n",
       "      <td>6.966667</td>\n",
       "      <td>4.565385</td>\n",
       "      <td>5.450000</td>\n",
       "      <td>6.882143</td>\n",
       "      <td>5.450000</td>\n",
       "      <td>8.414286</td>\n",
       "    </tr>\n",
       "    <tr>\n",
       "      <th>1989-12-31</th>\n",
       "      <td>12.332258</td>\n",
       "      <td>13.325000</td>\n",
       "      <td>13.160714</td>\n",
       "      <td>13.922581</td>\n",
       "      <td>12.303571</td>\n",
       "      <td>13.625000</td>\n",
       "      <td>13.239286</td>\n",
       "      <td>11.635714</td>\n",
       "      <td>11.273913</td>\n",
       "      <td>14.800000</td>\n",
       "      <td>...</td>\n",
       "      <td>6.429630</td>\n",
       "      <td>5.948387</td>\n",
       "      <td>8.558065</td>\n",
       "      <td>4.251613</td>\n",
       "      <td>5.596429</td>\n",
       "      <td>4.738462</td>\n",
       "      <td>8.460714</td>\n",
       "      <td>6.364286</td>\n",
       "      <td>5.525000</td>\n",
       "      <td>7.892857</td>\n",
       "    </tr>\n",
       "    <tr>\n",
       "      <th>1990-12-31</th>\n",
       "      <td>12.074194</td>\n",
       "      <td>15.489655</td>\n",
       "      <td>9.900000</td>\n",
       "      <td>15.580645</td>\n",
       "      <td>12.122581</td>\n",
       "      <td>12.540000</td>\n",
       "      <td>12.539286</td>\n",
       "      <td>11.339286</td>\n",
       "      <td>12.252000</td>\n",
       "      <td>17.166667</td>\n",
       "      <td>...</td>\n",
       "      <td>6.021739</td>\n",
       "      <td>5.474194</td>\n",
       "      <td>8.048387</td>\n",
       "      <td>4.282759</td>\n",
       "      <td>6.213333</td>\n",
       "      <td>4.163636</td>\n",
       "      <td>4.980000</td>\n",
       "      <td>6.233333</td>\n",
       "      <td>5.446667</td>\n",
       "      <td>8.273333</td>\n",
       "    </tr>\n",
       "    <tr>\n",
       "      <th>1991-12-31</th>\n",
       "      <td>12.419355</td>\n",
       "      <td>13.040000</td>\n",
       "      <td>13.058621</td>\n",
       "      <td>16.369565</td>\n",
       "      <td>13.750000</td>\n",
       "      <td>13.993103</td>\n",
       "      <td>13.634483</td>\n",
       "      <td>11.962069</td>\n",
       "      <td>12.829167</td>\n",
       "      <td>17.000000</td>\n",
       "      <td>...</td>\n",
       "      <td>8.740909</td>\n",
       "      <td>6.458621</td>\n",
       "      <td>8.293103</td>\n",
       "      <td>4.216667</td>\n",
       "      <td>6.375862</td>\n",
       "      <td>3.083333</td>\n",
       "      <td>5.123333</td>\n",
       "      <td>6.131034</td>\n",
       "      <td>4.827586</td>\n",
       "      <td>6.766667</td>\n",
       "    </tr>\n",
       "    <tr>\n",
       "      <th>1992-12-31</th>\n",
       "      <td>11.376667</td>\n",
       "      <td>13.551852</td>\n",
       "      <td>12.546429</td>\n",
       "      <td>16.283333</td>\n",
       "      <td>13.538710</td>\n",
       "      <td>13.783333</td>\n",
       "      <td>14.616129</td>\n",
       "      <td>11.692857</td>\n",
       "      <td>12.837500</td>\n",
       "      <td>11.160000</td>\n",
       "      <td>...</td>\n",
       "      <td>6.883333</td>\n",
       "      <td>7.158065</td>\n",
       "      <td>9.254839</td>\n",
       "      <td>3.977419</td>\n",
       "      <td>7.083871</td>\n",
       "      <td>4.695238</td>\n",
       "      <td>4.664516</td>\n",
       "      <td>6.678571</td>\n",
       "      <td>4.817857</td>\n",
       "      <td>6.236667</td>\n",
       "    </tr>\n",
       "    <tr>\n",
       "      <th>1993-12-31</th>\n",
       "      <td>13.728571</td>\n",
       "      <td>13.445161</td>\n",
       "      <td>11.560714</td>\n",
       "      <td>15.666667</td>\n",
       "      <td>12.778571</td>\n",
       "      <td>13.110714</td>\n",
       "      <td>12.393548</td>\n",
       "      <td>11.410714</td>\n",
       "      <td>13.782609</td>\n",
       "      <td>11.780952</td>\n",
       "      <td>...</td>\n",
       "      <td>6.854545</td>\n",
       "      <td>6.706452</td>\n",
       "      <td>8.635484</td>\n",
       "      <td>4.312903</td>\n",
       "      <td>8.874194</td>\n",
       "      <td>3.490476</td>\n",
       "      <td>3.885714</td>\n",
       "      <td>6.217857</td>\n",
       "      <td>4.792857</td>\n",
       "      <td>5.532258</td>\n",
       "    </tr>\n",
       "    <tr>\n",
       "      <th>1994-12-31</th>\n",
       "      <td>13.720000</td>\n",
       "      <td>15.093333</td>\n",
       "      <td>12.706667</td>\n",
       "      <td>16.816667</td>\n",
       "      <td>14.229032</td>\n",
       "      <td>13.170968</td>\n",
       "      <td>16.325806</td>\n",
       "      <td>11.220000</td>\n",
       "      <td>13.750000</td>\n",
       "      <td>14.566667</td>\n",
       "      <td>...</td>\n",
       "      <td>7.604167</td>\n",
       "      <td>8.729032</td>\n",
       "      <td>10.748387</td>\n",
       "      <td>3.741935</td>\n",
       "      <td>10.954839</td>\n",
       "      <td>4.218182</td>\n",
       "      <td>4.664516</td>\n",
       "      <td>7.056667</td>\n",
       "      <td>4.189286</td>\n",
       "      <td>6.993333</td>\n",
       "    </tr>\n",
       "    <tr>\n",
       "      <th>1995-12-31</th>\n",
       "      <td>11.517241</td>\n",
       "      <td>16.882759</td>\n",
       "      <td>13.251613</td>\n",
       "      <td>15.164516</td>\n",
       "      <td>12.031034</td>\n",
       "      <td>12.268966</td>\n",
       "      <td>13.165517</td>\n",
       "      <td>10.671429</td>\n",
       "      <td>11.750000</td>\n",
       "      <td>12.604762</td>\n",
       "      <td>...</td>\n",
       "      <td>7.125000</td>\n",
       "      <td>6.693103</td>\n",
       "      <td>9.858621</td>\n",
       "      <td>3.493548</td>\n",
       "      <td>7.768966</td>\n",
       "      <td>3.779167</td>\n",
       "      <td>3.706452</td>\n",
       "      <td>6.158621</td>\n",
       "      <td>5.406897</td>\n",
       "      <td>6.672414</td>\n",
       "    </tr>\n",
       "    <tr>\n",
       "      <th>1996-12-31</th>\n",
       "      <td>12.030000</td>\n",
       "      <td>15.525000</td>\n",
       "      <td>16.053571</td>\n",
       "      <td>13.832143</td>\n",
       "      <td>11.950000</td>\n",
       "      <td>11.412903</td>\n",
       "      <td>13.282143</td>\n",
       "      <td>11.435714</td>\n",
       "      <td>12.852174</td>\n",
       "      <td>16.563158</td>\n",
       "      <td>...</td>\n",
       "      <td>7.547368</td>\n",
       "      <td>7.858065</td>\n",
       "      <td>10.693548</td>\n",
       "      <td>4.428571</td>\n",
       "      <td>7.982143</td>\n",
       "      <td>8.859091</td>\n",
       "      <td>3.793548</td>\n",
       "      <td>6.551613</td>\n",
       "      <td>5.514286</td>\n",
       "      <td>8.025000</td>\n",
       "    </tr>\n",
       "    <tr>\n",
       "      <th>1997-12-31</th>\n",
       "      <td>13.987097</td>\n",
       "      <td>13.619355</td>\n",
       "      <td>16.577778</td>\n",
       "      <td>15.080645</td>\n",
       "      <td>15.089286</td>\n",
       "      <td>13.389286</td>\n",
       "      <td>16.867857</td>\n",
       "      <td>12.085714</td>\n",
       "      <td>14.978261</td>\n",
       "      <td>19.985714</td>\n",
       "      <td>...</td>\n",
       "      <td>10.089474</td>\n",
       "      <td>9.428571</td>\n",
       "      <td>13.132143</td>\n",
       "      <td>3.251613</td>\n",
       "      <td>8.564516</td>\n",
       "      <td>6.680952</td>\n",
       "      <td>7.660714</td>\n",
       "      <td>6.982143</td>\n",
       "      <td>5.929032</td>\n",
       "      <td>7.600000</td>\n",
       "    </tr>\n",
       "    <tr>\n",
       "      <th>1998-12-31</th>\n",
       "      <td>10.632258</td>\n",
       "      <td>11.887097</td>\n",
       "      <td>11.383871</td>\n",
       "      <td>14.790323</td>\n",
       "      <td>11.525806</td>\n",
       "      <td>10.538710</td>\n",
       "      <td>14.123333</td>\n",
       "      <td>10.400000</td>\n",
       "      <td>11.380000</td>\n",
       "      <td>16.186364</td>\n",
       "      <td>...</td>\n",
       "      <td>8.388000</td>\n",
       "      <td>8.017857</td>\n",
       "      <td>12.103571</td>\n",
       "      <td>3.816667</td>\n",
       "      <td>7.323333</td>\n",
       "      <td>7.422727</td>\n",
       "      <td>6.734615</td>\n",
       "      <td>5.909677</td>\n",
       "      <td>5.603226</td>\n",
       "      <td>7.629032</td>\n",
       "    </tr>\n",
       "    <tr>\n",
       "      <th>1999-12-31</th>\n",
       "      <td>12.596774</td>\n",
       "      <td>12.348276</td>\n",
       "      <td>11.117241</td>\n",
       "      <td>14.206452</td>\n",
       "      <td>13.200000</td>\n",
       "      <td>13.313793</td>\n",
       "      <td>13.500000</td>\n",
       "      <td>11.551724</td>\n",
       "      <td>11.728571</td>\n",
       "      <td>14.181818</td>\n",
       "      <td>...</td>\n",
       "      <td>7.071429</td>\n",
       "      <td>6.937931</td>\n",
       "      <td>9.462069</td>\n",
       "      <td>3.000000</td>\n",
       "      <td>8.127586</td>\n",
       "      <td>7.554545</td>\n",
       "      <td>7.073077</td>\n",
       "      <td>6.827586</td>\n",
       "      <td>4.596552</td>\n",
       "      <td>7.335484</td>\n",
       "    </tr>\n",
       "    <tr>\n",
       "      <th>2000-12-31</th>\n",
       "      <td>11.485714</td>\n",
       "      <td>13.071429</td>\n",
       "      <td>11.750000</td>\n",
       "      <td>12.396774</td>\n",
       "      <td>12.689286</td>\n",
       "      <td>11.632143</td>\n",
       "      <td>13.635714</td>\n",
       "      <td>11.150000</td>\n",
       "      <td>12.435000</td>\n",
       "      <td>13.855000</td>\n",
       "      <td>...</td>\n",
       "      <td>6.416667</td>\n",
       "      <td>6.778571</td>\n",
       "      <td>8.467857</td>\n",
       "      <td>3.289286</td>\n",
       "      <td>8.825000</td>\n",
       "      <td>7.345455</td>\n",
       "      <td>6.412000</td>\n",
       "      <td>6.746429</td>\n",
       "      <td>5.046429</td>\n",
       "      <td>6.185714</td>\n",
       "    </tr>\n",
       "  </tbody>\n",
       "</table>\n",
       "<p>20 rows × 161 columns</p>\n",
       "</div>"
      ],
      "text/plain": [
       "                MXSPD                                                         \\\n",
       "STN            722860     722868     722880     722886     722900     722904   \n",
       "YEARMODA                                                                       \n",
       "1981-12-31  12.277419  13.014286  10.357692  13.725806  12.819355   4.900000   \n",
       "1982-12-31  11.190323  12.153333  10.835484  13.540000  13.370968   8.600000   \n",
       "1983-12-31  11.717241  13.883333  11.239286  13.416667  12.189655  13.048276   \n",
       "1984-12-31  12.738710  12.780000  11.425000  13.306897  12.635484  12.603226   \n",
       "1985-12-31  10.909677  12.125000  11.628571  12.450000  12.639286  13.835484   \n",
       "1986-12-31  13.139286  14.039286  10.846667  12.067857  13.737037  14.064286   \n",
       "1987-12-31  10.658065  12.200000  12.277778  14.889655  13.045161  12.683871   \n",
       "1988-12-31   9.883333  14.982143  11.722581  14.754839  12.200000  13.221429   \n",
       "1989-12-31  12.332258  13.325000  13.160714  13.922581  12.303571  13.625000   \n",
       "1990-12-31  12.074194  15.489655   9.900000  15.580645  12.122581  12.540000   \n",
       "1991-12-31  12.419355  13.040000  13.058621  16.369565  13.750000  13.993103   \n",
       "1992-12-31  11.376667  13.551852  12.546429  16.283333  13.538710  13.783333   \n",
       "1993-12-31  13.728571  13.445161  11.560714  15.666667  12.778571  13.110714   \n",
       "1994-12-31  13.720000  15.093333  12.706667  16.816667  14.229032  13.170968   \n",
       "1995-12-31  11.517241  16.882759  13.251613  15.164516  12.031034  12.268966   \n",
       "1996-12-31  12.030000  15.525000  16.053571  13.832143  11.950000  11.412903   \n",
       "1997-12-31  13.987097  13.619355  16.577778  15.080645  15.089286  13.389286   \n",
       "1998-12-31  10.632258  11.887097  11.383871  14.790323  11.525806  10.538710   \n",
       "1999-12-31  12.596774  12.348276  11.117241  14.206452  13.200000  13.313793   \n",
       "2000-12-31  11.485714  13.071429  11.750000  12.396774  12.689286  11.632143   \n",
       "\n",
       "                                                          ...          WDSP  \\\n",
       "STN            722906     722907     722909     722925    ...        725940   \n",
       "YEARMODA                                                  ...                 \n",
       "1981-12-31  11.877419  11.380645  12.208333  12.893548    ...      8.338095   \n",
       "1982-12-31  13.167742  11.500000  14.104348  13.839286    ...     11.500000   \n",
       "1983-12-31  11.480000  12.455172   9.470833  13.703333    ...      5.957143   \n",
       "1984-12-31  12.051613  10.294118  10.968000  14.093548    ...     10.900000   \n",
       "1985-12-31  12.625000  10.790323  11.800000  11.242857    ...      9.276471   \n",
       "1986-12-31  14.010714  11.628571  13.019231  10.416000    ...      8.430000   \n",
       "1987-12-31  13.719355  10.293548  11.540000  10.625000    ...      9.040909   \n",
       "1988-12-31  11.848387  11.359259  12.495652  12.051852    ...      7.458333   \n",
       "1989-12-31  13.239286  11.635714  11.273913  14.800000    ...      6.429630   \n",
       "1990-12-31  12.539286  11.339286  12.252000  17.166667    ...      6.021739   \n",
       "1991-12-31  13.634483  11.962069  12.829167  17.000000    ...      8.740909   \n",
       "1992-12-31  14.616129  11.692857  12.837500  11.160000    ...      6.883333   \n",
       "1993-12-31  12.393548  11.410714  13.782609  11.780952    ...      6.854545   \n",
       "1994-12-31  16.325806  11.220000  13.750000  14.566667    ...      7.604167   \n",
       "1995-12-31  13.165517  10.671429  11.750000  12.604762    ...      7.125000   \n",
       "1996-12-31  13.282143  11.435714  12.852174  16.563158    ...      7.547368   \n",
       "1997-12-31  16.867857  12.085714  14.978261  19.985714    ...     10.089474   \n",
       "1998-12-31  14.123333  10.400000  11.380000  16.186364    ...      8.388000   \n",
       "1999-12-31  13.500000  11.551724  11.728571  14.181818    ...      7.071429   \n",
       "2000-12-31  13.635714  11.150000  12.435000  13.855000    ...      6.416667   \n",
       "\n",
       "                                                                          \\\n",
       "STN           725945     725946    725957     745160    746120    747020   \n",
       "YEARMODA                                                                   \n",
       "1981-12-31  6.445161   9.764516  4.754839   5.280645  5.300000  4.170968   \n",
       "1982-12-31  8.235714  11.271429  4.670968   6.867857  4.213793  5.014286   \n",
       "1983-12-31  7.166667  10.153333  4.256667   5.110000  5.180000  4.956667   \n",
       "1984-12-31  6.683333  10.860714  5.064000   5.489286  4.689286  4.193333   \n",
       "1985-12-31  7.150000   9.307143  4.209677   6.217857  5.082143  4.803571   \n",
       "1986-12-31  6.828571   9.725000  4.280769   6.623333  4.853571  4.573333   \n",
       "1987-12-31  7.641935   9.722581  5.354839   7.341935  3.382759  5.790000   \n",
       "1988-12-31  5.966667   8.083333  4.180645   6.966667  4.565385  5.450000   \n",
       "1989-12-31  5.948387   8.558065  4.251613   5.596429  4.738462  8.460714   \n",
       "1990-12-31  5.474194   8.048387  4.282759   6.213333  4.163636  4.980000   \n",
       "1991-12-31  6.458621   8.293103  4.216667   6.375862  3.083333  5.123333   \n",
       "1992-12-31  7.158065   9.254839  3.977419   7.083871  4.695238  4.664516   \n",
       "1993-12-31  6.706452   8.635484  4.312903   8.874194  3.490476  3.885714   \n",
       "1994-12-31  8.729032  10.748387  3.741935  10.954839  4.218182  4.664516   \n",
       "1995-12-31  6.693103   9.858621  3.493548   7.768966  3.779167  3.706452   \n",
       "1996-12-31  7.858065  10.693548  4.428571   7.982143  8.859091  3.793548   \n",
       "1997-12-31  9.428571  13.132143  3.251613   8.564516  6.680952  7.660714   \n",
       "1998-12-31  8.017857  12.103571  3.816667   7.323333  7.422727  6.734615   \n",
       "1999-12-31  6.937931   9.462069  3.000000   8.127586  7.554545  7.073077   \n",
       "2000-12-31  6.778571   8.467857  3.289286   8.825000  7.345455  6.412000   \n",
       "\n",
       "                                          \n",
       "STN           747185    747187    747188  \n",
       "YEARMODA                                  \n",
       "1981-12-31  5.064516  5.151613  6.200000  \n",
       "1982-12-31  5.089286  5.603226  6.570968  \n",
       "1983-12-31  5.406667  5.731034  7.196552  \n",
       "1984-12-31  5.006667  5.385714  6.578571  \n",
       "1985-12-31  6.878571  5.760714  6.303571  \n",
       "1986-12-31  6.685714  6.571429  8.582143  \n",
       "1987-12-31  5.366667  5.613793  7.300000  \n",
       "1988-12-31  6.882143  5.450000  8.414286  \n",
       "1989-12-31  6.364286  5.525000  7.892857  \n",
       "1990-12-31  6.233333  5.446667  8.273333  \n",
       "1991-12-31  6.131034  4.827586  6.766667  \n",
       "1992-12-31  6.678571  4.817857  6.236667  \n",
       "1993-12-31  6.217857  4.792857  5.532258  \n",
       "1994-12-31  7.056667  4.189286  6.993333  \n",
       "1995-12-31  6.158621  5.406897  6.672414  \n",
       "1996-12-31  6.551613  5.514286  8.025000  \n",
       "1997-12-31  6.982143  5.929032  7.600000  \n",
       "1998-12-31  5.909677  5.603226  7.629032  \n",
       "1999-12-31  6.827586  4.596552  7.335484  \n",
       "2000-12-31  6.746429  5.046429  6.185714  \n",
       "\n",
       "[20 rows x 161 columns]"
      ]
     },
     "execution_count": 625,
     "metadata": {},
     "output_type": "execute_result"
    }
   ],
   "source": [
    "all2_notnull.head(20)"
   ]
  },
  {
   "cell_type": "code",
   "execution_count": 608,
   "metadata": {
    "collapsed": false
   },
   "outputs": [
    {
     "data": {
      "text/plain": [
       "161"
      ]
     },
     "execution_count": 608,
     "metadata": {},
     "output_type": "execute_result"
    }
   ],
   "source": [
    "len(all2_notnull.columns)"
   ]
  },
  {
   "cell_type": "code",
   "execution_count": 609,
   "metadata": {
    "collapsed": false
   },
   "outputs": [],
   "source": [
    "from sklearn.decomposition import PCA"
   ]
  },
  {
   "cell_type": "code",
   "execution_count": 626,
   "metadata": {
    "collapsed": true
   },
   "outputs": [],
   "source": [
    "pca = PCA(n_components=3)"
   ]
  },
  {
   "cell_type": "code",
   "execution_count": 627,
   "metadata": {
    "collapsed": false
   },
   "outputs": [],
   "source": [
    "projected = pca.fit_transform(all2_notnull)"
   ]
  },
  {
   "cell_type": "code",
   "execution_count": 628,
   "metadata": {
    "collapsed": false
   },
   "outputs": [
    {
     "data": {
      "text/html": [
       "<div>\n",
       "<table border=\"1\" class=\"dataframe\">\n",
       "  <thead>\n",
       "    <tr style=\"text-align: right;\">\n",
       "      <th></th>\n",
       "      <th>STN</th>\n",
       "      <th>YEARMODA</th>\n",
       "      <th>MXSPD</th>\n",
       "      <th>PRCP</th>\n",
       "      <th>WDSP</th>\n",
       "    </tr>\n",
       "  </thead>\n",
       "  <tbody>\n",
       "    <tr>\n",
       "      <th>0</th>\n",
       "      <td>690020</td>\n",
       "      <td>1989-12-31</td>\n",
       "      <td>5.687500</td>\n",
       "      <td>0.057917</td>\n",
       "      <td>2.491667</td>\n",
       "    </tr>\n",
       "    <tr>\n",
       "      <th>1</th>\n",
       "      <td>690020</td>\n",
       "      <td>1990-12-31</td>\n",
       "      <td>6.642105</td>\n",
       "      <td>0.025714</td>\n",
       "      <td>2.884211</td>\n",
       "    </tr>\n",
       "    <tr>\n",
       "      <th>2</th>\n",
       "      <td>690020</td>\n",
       "      <td>1991-12-31</td>\n",
       "      <td>6.578947</td>\n",
       "      <td>0.225789</td>\n",
       "      <td>3.200000</td>\n",
       "    </tr>\n",
       "    <tr>\n",
       "      <th>3</th>\n",
       "      <td>690020</td>\n",
       "      <td>1992-12-31</td>\n",
       "      <td>8.984211</td>\n",
       "      <td>0.367895</td>\n",
       "      <td>4.336842</td>\n",
       "    </tr>\n",
       "    <tr>\n",
       "      <th>4</th>\n",
       "      <td>690020</td>\n",
       "      <td>1993-12-31</td>\n",
       "      <td>8.210526</td>\n",
       "      <td>0.186316</td>\n",
       "      <td>3.994737</td>\n",
       "    </tr>\n",
       "  </tbody>\n",
       "</table>\n",
       "</div>"
      ],
      "text/plain": [
       "      STN   YEARMODA     MXSPD      PRCP      WDSP\n",
       "0  690020 1989-12-31  5.687500  0.057917  2.491667\n",
       "1  690020 1990-12-31  6.642105  0.025714  2.884211\n",
       "2  690020 1991-12-31  6.578947  0.225789  3.200000\n",
       "3  690020 1992-12-31  8.984211  0.367895  4.336842\n",
       "4  690020 1993-12-31  8.210526  0.186316  3.994737"
      ]
     },
     "execution_count": 628,
     "metadata": {},
     "output_type": "execute_result"
    }
   ],
   "source": [
    "all2_max.head()"
   ]
  },
  {
   "cell_type": "code",
   "execution_count": 629,
   "metadata": {
    "collapsed": false
   },
   "outputs": [],
   "source": [
    "oci_numbers = oci.set_index('From')['index'][all2_notnull.index.year]"
   ]
  },
  {
   "cell_type": "code",
   "execution_count": 630,
   "metadata": {
    "collapsed": false
   },
   "outputs": [],
   "source": [
    "oci_adjusted = oci_numbers.replace({-2:0, -1.5:0, -1:0, -0.5:0, 0.5:0})"
   ]
  },
  {
   "cell_type": "code",
   "execution_count": 631,
   "metadata": {
    "collapsed": false,
    "scrolled": false
   },
   "outputs": [
    {
     "data": {
      "text/html": [
       "<iframe id=\"igraph\" scrolling=\"no\" style=\"border:none;\"seamless=\"seamless\" src=\"https://plot.ly/~LIBELO6/608.embed\" height=\"525\" width=\"100%\"></iframe>"
      ],
      "text/plain": [
       "<plotly.tools.PlotlyDisplay object>"
      ]
     },
     "execution_count": 631,
     "metadata": {},
     "output_type": "execute_result"
    }
   ],
   "source": [
    "trace0 = go.Scatter3d(\n",
    "    x=projected[:,0],\n",
    "    y=projected[:,1],\n",
    "    z=projected[:,2],\n",
    "    name='Projected',\n",
    "    mode='markers+text',\n",
    "    text=all2_notnull.index.year,\n",
    "    marker=go.Marker(color=oci_adjusted, \n",
    "                     size=15,\n",
    "                    )\n",
    ")\n",
    "layout = go.Layout(\n",
    "    title=\"California transformed PCA\"\n",
    ")\n",
    "figure = go.Figure(data=[trace0], layout=layout)\n",
    "ply.iplot(figure, filename='WeatherData/sandiego_PCA2')"
   ]
  },
  {
   "cell_type": "code",
   "execution_count": 621,
   "metadata": {
    "collapsed": true
   },
   "outputs": [],
   "source": [
    "ply.image.save_as(figure, '../figures/California PCA projected max.png')"
   ]
  },
  {
   "cell_type": "code",
   "execution_count": 645,
   "metadata": {
    "collapsed": false
   },
   "outputs": [
    {
     "data": {
      "text/plain": [
       "array([ 0.25400467,  0.20993609,  0.09388   ])"
      ]
     },
     "execution_count": 645,
     "metadata": {},
     "output_type": "execute_result"
    }
   ],
   "source": [
    "pca.explained_variance_ratio_"
   ]
  },
  {
   "cell_type": "markdown",
   "metadata": {},
   "source": [
    "#K means"
   ]
  },
  {
   "cell_type": "code",
   "execution_count": 653,
   "metadata": {
    "collapsed": false
   },
   "outputs": [],
   "source": [
    "df_monthly = df_subsetted.groupby('STN').apply(lambda x: x.set_index('YEARMODA')[['PRCP', 'MXSPD', 'WDSP']].resample('M'))\n",
    "df_monthly = df_monthly.reset_index()"
   ]
  },
  {
   "cell_type": "code",
   "execution_count": 656,
   "metadata": {
    "collapsed": true
   },
   "outputs": [],
   "source": [
    "def extract_novembers(df):\n",
    "    df_timed = df.set_index('YEARMODA')[['PRCP', 'MXSPD', 'WDSP']]\n",
    "    return df_timed[df_timed.index.month == 11]"
   ]
  },
  {
   "cell_type": "code",
   "execution_count": 657,
   "metadata": {
    "collapsed": false
   },
   "outputs": [],
   "source": [
    "df_novembers = df_monthly.groupby('STN').apply(extract_novembers)\n",
    "df_novembers = df_novembers.reset_index()"
   ]
  },
  {
   "cell_type": "code",
   "execution_count": 659,
   "metadata": {
    "collapsed": false
   },
   "outputs": [
    {
     "data": {
      "text/html": [
       "<div>\n",
       "<table border=\"1\" class=\"dataframe\">\n",
       "  <thead>\n",
       "    <tr style=\"text-align: right;\">\n",
       "      <th></th>\n",
       "      <th>STN</th>\n",
       "      <th>YEARMODA</th>\n",
       "      <th>PRCP</th>\n",
       "      <th>MXSPD</th>\n",
       "      <th>WDSP</th>\n",
       "    </tr>\n",
       "  </thead>\n",
       "  <tbody>\n",
       "    <tr>\n",
       "      <th>0</th>\n",
       "      <td>690020</td>\n",
       "      <td>1990-11-30</td>\n",
       "      <td>0.000000</td>\n",
       "      <td>6.382353</td>\n",
       "      <td>2.882353</td>\n",
       "    </tr>\n",
       "    <tr>\n",
       "      <th>1</th>\n",
       "      <td>690020</td>\n",
       "      <td>1991-11-30</td>\n",
       "      <td>0.000000</td>\n",
       "      <td>5.022222</td>\n",
       "      <td>2.561111</td>\n",
       "    </tr>\n",
       "    <tr>\n",
       "      <th>2</th>\n",
       "      <td>690020</td>\n",
       "      <td>1992-11-30</td>\n",
       "      <td>0.000000</td>\n",
       "      <td>5.950000</td>\n",
       "      <td>2.611111</td>\n",
       "    </tr>\n",
       "    <tr>\n",
       "      <th>3</th>\n",
       "      <td>690020</td>\n",
       "      <td>1993-11-30</td>\n",
       "      <td>0.018667</td>\n",
       "      <td>7.026667</td>\n",
       "      <td>3.526667</td>\n",
       "    </tr>\n",
       "    <tr>\n",
       "      <th>4</th>\n",
       "      <td>690020</td>\n",
       "      <td>1994-11-30</td>\n",
       "      <td>0.045455</td>\n",
       "      <td>8.395455</td>\n",
       "      <td>4.072727</td>\n",
       "    </tr>\n",
       "    <tr>\n",
       "      <th>5</th>\n",
       "      <td>690020</td>\n",
       "      <td>1995-11-30</td>\n",
       "      <td>0.015385</td>\n",
       "      <td>6.284615</td>\n",
       "      <td>3.153846</td>\n",
       "    </tr>\n",
       "    <tr>\n",
       "      <th>6</th>\n",
       "      <td>690020</td>\n",
       "      <td>1996-11-30</td>\n",
       "      <td>NaN</td>\n",
       "      <td>NaN</td>\n",
       "      <td>NaN</td>\n",
       "    </tr>\n",
       "    <tr>\n",
       "      <th>7</th>\n",
       "      <td>690070</td>\n",
       "      <td>1991-11-30</td>\n",
       "      <td>NaN</td>\n",
       "      <td>NaN</td>\n",
       "      <td>NaN</td>\n",
       "    </tr>\n",
       "    <tr>\n",
       "      <th>8</th>\n",
       "      <td>690070</td>\n",
       "      <td>1992-11-30</td>\n",
       "      <td>0.002105</td>\n",
       "      <td>10.326316</td>\n",
       "      <td>4.126316</td>\n",
       "    </tr>\n",
       "    <tr>\n",
       "      <th>9</th>\n",
       "      <td>690140</td>\n",
       "      <td>1989-11-30</td>\n",
       "      <td>0.000000</td>\n",
       "      <td>10.058065</td>\n",
       "      <td>4.535484</td>\n",
       "    </tr>\n",
       "  </tbody>\n",
       "</table>\n",
       "</div>"
      ],
      "text/plain": [
       "      STN   YEARMODA      PRCP      MXSPD      WDSP\n",
       "0  690020 1990-11-30  0.000000   6.382353  2.882353\n",
       "1  690020 1991-11-30  0.000000   5.022222  2.561111\n",
       "2  690020 1992-11-30  0.000000   5.950000  2.611111\n",
       "3  690020 1993-11-30  0.018667   7.026667  3.526667\n",
       "4  690020 1994-11-30  0.045455   8.395455  4.072727\n",
       "5  690020 1995-11-30  0.015385   6.284615  3.153846\n",
       "6  690020 1996-11-30       NaN        NaN       NaN\n",
       "7  690070 1991-11-30       NaN        NaN       NaN\n",
       "8  690070 1992-11-30  0.002105  10.326316  4.126316\n",
       "9  690140 1989-11-30  0.000000  10.058065  4.535484"
      ]
     },
     "execution_count": 659,
     "metadata": {},
     "output_type": "execute_result"
    }
   ],
   "source": [
    "df_novembers.head(10)"
   ]
  },
  {
   "cell_type": "code",
   "execution_count": 660,
   "metadata": {
    "collapsed": true
   },
   "outputs": [],
   "source": [
    "dff = df_novembers.set_index('YEARMODA')['1990':'2015']\n",
    "dff = dff.reset_index()"
   ]
  },
  {
   "cell_type": "code",
   "execution_count": 663,
   "metadata": {
    "collapsed": false
   },
   "outputs": [
    {
     "data": {
      "text/html": [
       "<div>\n",
       "<table border=\"1\" class=\"dataframe\">\n",
       "  <thead>\n",
       "    <tr>\n",
       "      <th></th>\n",
       "      <th colspan=\"10\" halign=\"left\">PRCP</th>\n",
       "      <th>...</th>\n",
       "      <th colspan=\"10\" halign=\"left\">WDSP</th>\n",
       "    </tr>\n",
       "    <tr>\n",
       "      <th>STN</th>\n",
       "      <th>690150</th>\n",
       "      <th>722810</th>\n",
       "      <th>722860</th>\n",
       "      <th>722868</th>\n",
       "      <th>722880</th>\n",
       "      <th>722885</th>\n",
       "      <th>722886</th>\n",
       "      <th>722897</th>\n",
       "      <th>722900</th>\n",
       "      <th>722903</th>\n",
       "      <th>...</th>\n",
       "      <th>725945</th>\n",
       "      <th>725946</th>\n",
       "      <th>725955</th>\n",
       "      <th>725957</th>\n",
       "      <th>745160</th>\n",
       "      <th>746120</th>\n",
       "      <th>747020</th>\n",
       "      <th>747185</th>\n",
       "      <th>747187</th>\n",
       "      <th>747188</th>\n",
       "    </tr>\n",
       "    <tr>\n",
       "      <th>YEARMODA</th>\n",
       "      <th></th>\n",
       "      <th></th>\n",
       "      <th></th>\n",
       "      <th></th>\n",
       "      <th></th>\n",
       "      <th></th>\n",
       "      <th></th>\n",
       "      <th></th>\n",
       "      <th></th>\n",
       "      <th></th>\n",
       "      <th></th>\n",
       "      <th></th>\n",
       "      <th></th>\n",
       "      <th></th>\n",
       "      <th></th>\n",
       "      <th></th>\n",
       "      <th></th>\n",
       "      <th></th>\n",
       "      <th></th>\n",
       "      <th></th>\n",
       "      <th></th>\n",
       "    </tr>\n",
       "  </thead>\n",
       "  <tbody>\n",
       "    <tr>\n",
       "      <th>1990-11-30</th>\n",
       "      <td>0.000000</td>\n",
       "      <td>0.000</td>\n",
       "      <td>0.010667</td>\n",
       "      <td>0</td>\n",
       "      <td>0</td>\n",
       "      <td>0</td>\n",
       "      <td>0</td>\n",
       "      <td>0</td>\n",
       "      <td>0.028000</td>\n",
       "      <td>0.006552</td>\n",
       "      <td>...</td>\n",
       "      <td>4.506667</td>\n",
       "      <td>6.470000</td>\n",
       "      <td>3.393333</td>\n",
       "      <td>4.226667</td>\n",
       "      <td>6.213333</td>\n",
       "      <td>4.163636</td>\n",
       "      <td>4.980000</td>\n",
       "      <td>6.233333</td>\n",
       "      <td>5.446667</td>\n",
       "      <td>8.273333</td>\n",
       "    </tr>\n",
       "    <tr>\n",
       "      <th>1991-11-30</th>\n",
       "      <td>0.000000</td>\n",
       "      <td>0.000</td>\n",
       "      <td>0.000667</td>\n",
       "      <td>0</td>\n",
       "      <td>0</td>\n",
       "      <td>0</td>\n",
       "      <td>0</td>\n",
       "      <td>0</td>\n",
       "      <td>0.001667</td>\n",
       "      <td>0.000690</td>\n",
       "      <td>...</td>\n",
       "      <td>3.833333</td>\n",
       "      <td>7.343333</td>\n",
       "      <td>3.792857</td>\n",
       "      <td>4.216667</td>\n",
       "      <td>6.066667</td>\n",
       "      <td>3.083333</td>\n",
       "      <td>5.123333</td>\n",
       "      <td>5.990000</td>\n",
       "      <td>4.330000</td>\n",
       "      <td>6.766667</td>\n",
       "    </tr>\n",
       "    <tr>\n",
       "      <th>1992-11-30</th>\n",
       "      <td>0.000000</td>\n",
       "      <td>0.000</td>\n",
       "      <td>0.000000</td>\n",
       "      <td>0</td>\n",
       "      <td>0</td>\n",
       "      <td>0</td>\n",
       "      <td>0</td>\n",
       "      <td>0</td>\n",
       "      <td>0.001333</td>\n",
       "      <td>0.404333</td>\n",
       "      <td>...</td>\n",
       "      <td>5.383333</td>\n",
       "      <td>6.796667</td>\n",
       "      <td>2.653333</td>\n",
       "      <td>3.466667</td>\n",
       "      <td>5.710000</td>\n",
       "      <td>2.117391</td>\n",
       "      <td>3.700000</td>\n",
       "      <td>5.096667</td>\n",
       "      <td>4.113333</td>\n",
       "      <td>6.236667</td>\n",
       "    </tr>\n",
       "    <tr>\n",
       "      <th>1993-11-30</th>\n",
       "      <td>0.006897</td>\n",
       "      <td>0.014</td>\n",
       "      <td>0.015484</td>\n",
       "      <td>0</td>\n",
       "      <td>0</td>\n",
       "      <td>0</td>\n",
       "      <td>0</td>\n",
       "      <td>0</td>\n",
       "      <td>0.029677</td>\n",
       "      <td>0.318000</td>\n",
       "      <td>...</td>\n",
       "      <td>5.912903</td>\n",
       "      <td>7.029032</td>\n",
       "      <td>3.309677</td>\n",
       "      <td>4.312903</td>\n",
       "      <td>8.874194</td>\n",
       "      <td>3.368000</td>\n",
       "      <td>3.764516</td>\n",
       "      <td>5.261290</td>\n",
       "      <td>4.609677</td>\n",
       "      <td>5.532258</td>\n",
       "    </tr>\n",
       "    <tr>\n",
       "      <th>1994-11-30</th>\n",
       "      <td>0.000000</td>\n",
       "      <td>0.000</td>\n",
       "      <td>0.010333</td>\n",
       "      <td>0</td>\n",
       "      <td>0</td>\n",
       "      <td>0</td>\n",
       "      <td>0</td>\n",
       "      <td>0</td>\n",
       "      <td>0.015333</td>\n",
       "      <td>0.349000</td>\n",
       "      <td>...</td>\n",
       "      <td>6.570000</td>\n",
       "      <td>8.476667</td>\n",
       "      <td>4.826667</td>\n",
       "      <td>3.423333</td>\n",
       "      <td>9.173333</td>\n",
       "      <td>4.218182</td>\n",
       "      <td>3.460000</td>\n",
       "      <td>7.056667</td>\n",
       "      <td>4.010000</td>\n",
       "      <td>6.993333</td>\n",
       "    </tr>\n",
       "  </tbody>\n",
       "</table>\n",
       "<p>5 rows × 197 columns</p>\n",
       "</div>"
      ],
      "text/plain": [
       "                PRCP                                                      \\\n",
       "STN           690150 722810    722860 722868 722880 722885 722886 722897   \n",
       "YEARMODA                                                                   \n",
       "1990-11-30  0.000000  0.000  0.010667      0      0      0      0      0   \n",
       "1991-11-30  0.000000  0.000  0.000667      0      0      0      0      0   \n",
       "1992-11-30  0.000000  0.000  0.000000      0      0      0      0      0   \n",
       "1993-11-30  0.006897  0.014  0.015484      0      0      0      0      0   \n",
       "1994-11-30  0.000000  0.000  0.010333      0      0      0      0      0   \n",
       "\n",
       "                                  ...         WDSP                      \\\n",
       "STN           722900    722903    ...       725945    725946    725955   \n",
       "YEARMODA                          ...                                    \n",
       "1990-11-30  0.028000  0.006552    ...     4.506667  6.470000  3.393333   \n",
       "1991-11-30  0.001667  0.000690    ...     3.833333  7.343333  3.792857   \n",
       "1992-11-30  0.001333  0.404333    ...     5.383333  6.796667  2.653333   \n",
       "1993-11-30  0.029677  0.318000    ...     5.912903  7.029032  3.309677   \n",
       "1994-11-30  0.015333  0.349000    ...     6.570000  8.476667  4.826667   \n",
       "\n",
       "                                                                        \\\n",
       "STN           725957    745160    746120    747020    747185    747187   \n",
       "YEARMODA                                                                 \n",
       "1990-11-30  4.226667  6.213333  4.163636  4.980000  6.233333  5.446667   \n",
       "1991-11-30  4.216667  6.066667  3.083333  5.123333  5.990000  4.330000   \n",
       "1992-11-30  3.466667  5.710000  2.117391  3.700000  5.096667  4.113333   \n",
       "1993-11-30  4.312903  8.874194  3.368000  3.764516  5.261290  4.609677   \n",
       "1994-11-30  3.423333  9.173333  4.218182  3.460000  7.056667  4.010000   \n",
       "\n",
       "                      \n",
       "STN           747188  \n",
       "YEARMODA              \n",
       "1990-11-30  8.273333  \n",
       "1991-11-30  6.766667  \n",
       "1992-11-30  6.236667  \n",
       "1993-11-30  5.532258  \n",
       "1994-11-30  6.993333  \n",
       "\n",
       "[5 rows x 197 columns]"
      ]
     },
     "execution_count": 663,
     "metadata": {},
     "output_type": "execute_result"
    }
   ],
   "source": [
    "all_data = dff.pivot_table(index=['YEARMODA'], columns=['STN']).dropna(axis=1)\n",
    "all_data.head()"
   ]
  },
  {
   "cell_type": "code",
   "execution_count": 664,
   "metadata": {
    "collapsed": false
   },
   "outputs": [],
   "source": [
    "import numpy as np\n",
    "\n",
    "mse = []\n",
    "# all_data = pd.read_csv('CA_notnull.csv', header=[0,1], index_col=0)\n",
    "# all_data.index = pd.to_datetime(all_data.index)\n",
    "\n",
    "#el nino years\n",
    "df_15 = all_data[all_data.index.year == 2015].values\n",
    "df_97 = all_data[all_data.index.year == 1997].values\n",
    "\n",
    "df_02 = all_data[all_data.index.year == 2002].values\n",
    "df_09 = all_data[all_data.index.year == 2009].values\n",
    "\n",
    "#non el nino\n",
    "df_90 = all_data[all_data.index.year == 1990].values\n",
    "\n",
    "\n",
    "val1 = np.sum((df_15 - df_97)**2)\n",
    "mse.append(val1)\n",
    "val2 = np.sum((df_15 - df_02)**2)\n",
    "mse.append(val2)\n",
    "val3 = np.sum((df_15 - df_09)**2)\n",
    "mse.append(val3)\n",
    "val4 = np.sum((df_15 - df_90)**2)\n",
    "mse.append(val4)"
   ]
  },
  {
   "cell_type": "code",
   "execution_count": 666,
   "metadata": {
    "collapsed": false
   },
   "outputs": [
    {
     "data": {
      "text/plain": [
       "array([[ 10.0646219 ,  -9.55781212],\n",
       "       [ 11.55095049,  -8.90832978],\n",
       "       [  8.06138439, -11.61618962],\n",
       "       [  9.5948781 ,  -4.65299462],\n",
       "       [ 21.63525871,   2.84868553],\n",
       "       [ -7.18489677,  -6.87992969],\n",
       "       [  9.28240383,   0.49930925],\n",
       "       [  1.38546784,  -2.83563511],\n",
       "       [  7.43868647,  10.15509315],\n",
       "       [ -4.61814651,  -0.25988937],\n",
       "       [ -2.2262206 ,  -3.0296178 ],\n",
       "       [  6.52604248,   7.96991539],\n",
       "       [  1.60636546,  -2.11032343],\n",
       "       [ -4.97543522,   0.77982686],\n",
       "       [ -3.48480121,  -3.63588304],\n",
       "       [ -3.96425086,  -0.08440152],\n",
       "       [ -0.29513694,   8.28322089],\n",
       "       [-12.98383178,  -4.13400644],\n",
       "       [ -8.25597417,  -4.72194649],\n",
       "       [ -8.66374642,   0.32712538],\n",
       "       [  1.22445276,   2.05653421],\n",
       "       [ -4.36702104,   4.30818471],\n",
       "       [-11.38785647,   2.91151587],\n",
       "       [-10.65337112,  -3.81345817],\n",
       "       [ -5.41140166,  -0.57580133],\n",
       "       [  0.10157834,  26.67680726]])"
      ]
     },
     "execution_count": 666,
     "metadata": {},
     "output_type": "execute_result"
    }
   ],
   "source": [
    "pca3 = PCA(n_components=2)\n",
    "projected = pca3.fit_transform(all_data)\n",
    "projected"
   ]
  },
  {
   "cell_type": "code",
   "execution_count": 667,
   "metadata": {
    "collapsed": false
   },
   "outputs": [
    {
     "data": {
      "text/html": [
       "<iframe id=\"igraph\" scrolling=\"no\" style=\"border:none;\"seamless=\"seamless\" src=\"https://plot.ly/~LIBELO6/610.embed\" height=\"525\" width=\"100%\"></iframe>"
      ],
      "text/plain": [
       "<plotly.tools.PlotlyDisplay object>"
      ]
     },
     "execution_count": 667,
     "metadata": {},
     "output_type": "execute_result"
    }
   ],
   "source": [
    "# two dimensional projection\n",
    "trace0 = go.Scatter(\n",
    "    x=projected[:,0],\n",
    "    y=projected[:,1],\n",
    "    name='Projected',\n",
    "    mode='markers+text',\n",
    "    text=all_data.index.year,\n",
    ")\n",
    "layout = go.Layout(\n",
    "    title=\"California transformed PCA\"\n",
    ")\n",
    "figure = go.Figure(data=[trace0], layout=layout)\n",
    "ply.iplot(figure, filename='WeatherData/sandiego_PCA22')"
   ]
  },
  {
   "cell_type": "code",
   "execution_count": 681,
   "metadata": {
    "collapsed": false
   },
   "outputs": [],
   "source": [
    "import scipy.cluster.vq as CL\n",
    "import numpy as np\n",
    "\n",
    "#number of centroids\n",
    "numK = 5\n",
    "centroids, sq = CL.kmeans(np.array(projected), numK)\n",
    "\n",
    "#compute distance of each sample to the centroids\n",
    "dist = [(np.sum((np.array(projected) - np.array([centroids[i]]))**2,1)) for i in range(numK)]\n",
    "\n",
    "#assign sample to closest cluster\n",
    "class_assigned = [(np.where(np.transpose(dist)[i]==min(np.transpose(dist)[i])))[0][0] for i in range(projected.shape[0])]\n",
    "clustered = [[projected[i] for i, clu in enumerate(class_assigned) if clu == k*1.] for k in range(numK)]\n",
    "\n",
    "# plotting each class\n",
    "traces = []\n",
    "for k in range(numK):\n",
    "    trace = go.Scatter(x=np.transpose(clustered[k])[0], y=np.transpose(clustered[k])[1],\n",
    "                      mode='markers')\n",
    "    traces.append(trace)"
   ]
  },
  {
   "cell_type": "code",
   "execution_count": 682,
   "metadata": {
    "collapsed": false
   },
   "outputs": [
    {
     "data": {
      "text/html": [
       "<iframe id=\"igraph\" scrolling=\"no\" style=\"border:none;\"seamless=\"seamless\" src=\"https://plot.ly/~LIBELO6/624.embed\" height=\"525\" width=\"100%\"></iframe>"
      ],
      "text/plain": [
       "<plotly.tools.PlotlyDisplay object>"
      ]
     },
     "execution_count": 682,
     "metadata": {},
     "output_type": "execute_result"
    }
   ],
   "source": [
    "layout = go.Layout(showlegend=False)\n",
    "ply.iplot({'data':traces, 'layout':layout})"
   ]
  },
  {
   "cell_type": "code",
   "execution_count": 683,
   "metadata": {
    "collapsed": false
   },
   "outputs": [
    {
     "data": {
      "text/html": [
       "<iframe id=\"igraph\" scrolling=\"no\" style=\"border:none;\"seamless=\"seamless\" src=\"https://plot.ly/~LIBELO6/626.embed\" height=\"525\" width=\"100%\"></iframe>"
      ],
      "text/plain": [
       "<plotly.tools.PlotlyDisplay object>"
      ]
     },
     "execution_count": 683,
     "metadata": {},
     "output_type": "execute_result"
    }
   ],
   "source": [
    "pca22 = PCA(n_components=3)\n",
    "projected2 = pca22.fit_transform(all_data)\n",
    "\n",
    "# 3 dimensional projection\n",
    "trace1= go.Scatter3d(x=projected2[:,0],\n",
    "                    y=projected2[:,1],\n",
    "                    z=projected2[:,2],\n",
    "                    mode='markers+text',\n",
    "                    text=all_data.index.year\n",
    "                    )\n",
    "data = [trace1]\n",
    "ply.iplot(data,filename='simple-3d-scatter')"
   ]
  },
  {
   "cell_type": "markdown",
   "metadata": {},
   "source": [
    "#California Visualization"
   ]
  },
  {
   "cell_type": "markdown",
   "metadata": {},
   "source": [
    "## Normal"
   ]
  },
  {
   "cell_type": "markdown",
   "metadata": {},
   "source": [
    "<img src=\"../figures/CA_Normal.png\" />"
   ]
  },
  {
   "cell_type": "markdown",
   "metadata": {},
   "source": [
    "## El Nino"
   ]
  },
  {
   "cell_type": "markdown",
   "metadata": {},
   "source": [
    "<img src=\"../figures/CA_EL_NINO.png\" />"
   ]
  },
  {
   "cell_type": "markdown",
   "metadata": {},
   "source": [
    "## La Nina"
   ]
  },
  {
   "cell_type": "markdown",
   "metadata": {},
   "source": [
    "<img src=\"../figures/CA_La_Nina.png\" />"
   ]
  }
 ],
 "metadata": {
  "celltoolbar": "Slideshow",
  "kernelspec": {
   "display_name": "Python 3",
   "language": "python",
   "name": "python3"
  },
  "language_info": {
   "codemirror_mode": {
    "name": "ipython",
    "version": 3
   },
   "file_extension": ".py",
   "mimetype": "text/x-python",
   "name": "python",
   "nbconvert_exporter": "python",
   "pygments_lexer": "ipython3",
   "version": "3.4.3"
  }
 },
 "nbformat": 4,
 "nbformat_minor": 0
}
